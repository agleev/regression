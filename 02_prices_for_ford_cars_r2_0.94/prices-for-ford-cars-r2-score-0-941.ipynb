{
 "cells": [
  {
   "cell_type": "markdown",
   "id": "a04ec884",
   "metadata": {
    "papermill": {
     "duration": 0.068509,
     "end_time": "2021-11-22T12:39:22.223791",
     "exception": false,
     "start_time": "2021-11-22T12:39:22.155282",
     "status": "completed"
    },
    "tags": []
   },
   "source": [
    "# Importing Necessary Libraries"
   ]
  },
  {
   "cell_type": "code",
   "execution_count": 1,
   "id": "8fe59dd9",
   "metadata": {
    "execution": {
     "iopub.execute_input": "2021-11-22T12:39:22.362046Z",
     "iopub.status.busy": "2021-11-22T12:39:22.360858Z",
     "iopub.status.idle": "2021-11-22T12:39:24.735589Z",
     "shell.execute_reply": "2021-11-22T12:39:24.736210Z",
     "shell.execute_reply.started": "2021-11-22T12:35:56.253566Z"
    },
    "papermill": {
     "duration": 2.445693,
     "end_time": "2021-11-22T12:39:24.736513",
     "exception": false,
     "start_time": "2021-11-22T12:39:22.290820",
     "status": "completed"
    },
    "tags": []
   },
   "outputs": [],
   "source": [
    "import pandas as pd\n",
    "import numpy as np\n",
    "from sklearn.preprocessing import LabelEncoder\n",
    "from scipy import stats\n",
    "import seaborn as sns\n",
    "import matplotlib.pyplot as plt\n",
    "\n",
    "import statsmodels.api as sm\n",
    "from sklearn.model_selection import train_test_split\n",
    "from sklearn.metrics import r2_score\n",
    "from sklearn.metrics import mean_squared_error\n",
    "\n",
    "\n",
    "from sklearn.linear_model import LinearRegression\n",
    "from sklearn.linear_model import Ridge\n",
    "from sklearn.linear_model import Lasso\n",
    "from sklearn.linear_model import BayesianRidge\n",
    "from sklearn.neighbors import KNeighborsRegressor\n",
    "from sklearn.tree import DecisionTreeRegressor\n",
    "from sklearn.svm import SVR\n",
    "from sklearn.ensemble import AdaBoostRegressor\n",
    "from sklearn.ensemble import BaggingRegressor\n",
    "from sklearn.ensemble import ExtraTreesRegressor\n",
    "from sklearn.ensemble import GradientBoostingRegressor\n",
    "from sklearn.ensemble import RandomForestRegressor\n",
    "from xgboost import XGBRegressor\n",
    "\n",
    "import warnings\n",
    "warnings.filterwarnings(\"ignore\")"
   ]
  },
  {
   "cell_type": "code",
   "execution_count": 2,
   "id": "86d2af80",
   "metadata": {
    "execution": {
     "iopub.execute_input": "2021-11-22T12:39:24.942759Z",
     "iopub.status.busy": "2021-11-22T12:39:24.942019Z",
     "iopub.status.idle": "2021-11-22T12:39:24.960022Z",
     "shell.execute_reply": "2021-11-22T12:39:24.959056Z",
     "shell.execute_reply.started": "2021-11-22T12:35:56.268821Z"
    },
    "papermill": {
     "duration": 0.088895,
     "end_time": "2021-11-22T12:39:24.960226",
     "exception": false,
     "start_time": "2021-11-22T12:39:24.871331",
     "status": "completed"
    },
    "scrolled": true,
    "tags": []
   },
   "outputs": [
    {
     "name": "stdout",
     "output_type": "stream",
     "text": [
      "/kaggle/input/used-car-dataset-ford-and-mercedes/cclass.csv\n",
      "/kaggle/input/used-car-dataset-ford-and-mercedes/unclean cclass.csv\n",
      "/kaggle/input/used-car-dataset-ford-and-mercedes/focus.csv\n",
      "/kaggle/input/used-car-dataset-ford-and-mercedes/audi.csv\n",
      "/kaggle/input/used-car-dataset-ford-and-mercedes/toyota.csv\n",
      "/kaggle/input/used-car-dataset-ford-and-mercedes/skoda.csv\n",
      "/kaggle/input/used-car-dataset-ford-and-mercedes/ford.csv\n",
      "/kaggle/input/used-car-dataset-ford-and-mercedes/vauxhall.csv\n",
      "/kaggle/input/used-car-dataset-ford-and-mercedes/bmw.csv\n",
      "/kaggle/input/used-car-dataset-ford-and-mercedes/vw.csv\n",
      "/kaggle/input/used-car-dataset-ford-and-mercedes/hyundi.csv\n",
      "/kaggle/input/used-car-dataset-ford-and-mercedes/unclean focus.csv\n",
      "/kaggle/input/used-car-dataset-ford-and-mercedes/merc.csv\n"
     ]
    }
   ],
   "source": [
    "import os\n",
    "for dirname, _, filenames in os.walk('/kaggle/input/'):\n",
    "    for filename in filenames:\n",
    "        print(os.path.join(dirname, filename))"
   ]
  },
  {
   "cell_type": "markdown",
   "id": "35742e1c",
   "metadata": {
    "papermill": {
     "duration": 0.067839,
     "end_time": "2021-11-22T12:39:25.097770",
     "exception": false,
     "start_time": "2021-11-22T12:39:25.029931",
     "status": "completed"
    },
    "tags": []
   },
   "source": [
    "# Reading the Dataset"
   ]
  },
  {
   "cell_type": "markdown",
   "id": "9a19f99b",
   "metadata": {
    "papermill": {
     "duration": 0.067269,
     "end_time": "2021-11-22T12:39:25.232647",
     "exception": false,
     "start_time": "2021-11-22T12:39:25.165378",
     "status": "completed"
    },
    "tags": []
   },
   "source": [
    "**For training, we will take not all brands of cars, but one. For example, Ford.**"
   ]
  },
  {
   "cell_type": "code",
   "execution_count": 3,
   "id": "857c2c3b",
   "metadata": {
    "execution": {
     "iopub.execute_input": "2021-11-22T12:39:25.373996Z",
     "iopub.status.busy": "2021-11-22T12:39:25.373175Z",
     "iopub.status.idle": "2021-11-22T12:39:25.424839Z",
     "shell.execute_reply": "2021-11-22T12:39:25.424020Z",
     "shell.execute_reply.started": "2021-11-22T12:35:56.288386Z"
    },
    "papermill": {
     "duration": 0.125075,
     "end_time": "2021-11-22T12:39:25.425020",
     "exception": false,
     "start_time": "2021-11-22T12:39:25.299945",
     "status": "completed"
    },
    "tags": []
   },
   "outputs": [],
   "source": [
    "data = pd.read_csv('/kaggle/input/used-car-dataset-ford-and-mercedes/ford.csv')"
   ]
  },
  {
   "cell_type": "code",
   "execution_count": 4,
   "id": "62001b0d",
   "metadata": {
    "execution": {
     "iopub.execute_input": "2021-11-22T12:39:25.567337Z",
     "iopub.status.busy": "2021-11-22T12:39:25.565991Z",
     "iopub.status.idle": "2021-11-22T12:39:25.594799Z",
     "shell.execute_reply": "2021-11-22T12:39:25.595340Z",
     "shell.execute_reply.started": "2021-11-22T12:35:56.325080Z"
    },
    "papermill": {
     "duration": 0.100787,
     "end_time": "2021-11-22T12:39:25.595593",
     "exception": false,
     "start_time": "2021-11-22T12:39:25.494806",
     "status": "completed"
    },
    "tags": []
   },
   "outputs": [],
   "source": [
    "data.drop_duplicates(inplace=True)"
   ]
  },
  {
   "cell_type": "code",
   "execution_count": 5,
   "id": "7e29fcca",
   "metadata": {
    "execution": {
     "iopub.execute_input": "2021-11-22T12:39:25.736308Z",
     "iopub.status.busy": "2021-11-22T12:39:25.735000Z",
     "iopub.status.idle": "2021-11-22T12:39:25.765223Z",
     "shell.execute_reply": "2021-11-22T12:39:25.765803Z",
     "shell.execute_reply.started": "2021-11-22T12:35:56.344254Z"
    },
    "papermill": {
     "duration": 0.10264,
     "end_time": "2021-11-22T12:39:25.766017",
     "exception": false,
     "start_time": "2021-11-22T12:39:25.663377",
     "status": "completed"
    },
    "tags": []
   },
   "outputs": [
    {
     "data": {
      "text/html": [
       "<div>\n",
       "<style scoped>\n",
       "    .dataframe tbody tr th:only-of-type {\n",
       "        vertical-align: middle;\n",
       "    }\n",
       "\n",
       "    .dataframe tbody tr th {\n",
       "        vertical-align: top;\n",
       "    }\n",
       "\n",
       "    .dataframe thead th {\n",
       "        text-align: right;\n",
       "    }\n",
       "</style>\n",
       "<table border=\"1\" class=\"dataframe\">\n",
       "  <thead>\n",
       "    <tr style=\"text-align: right;\">\n",
       "      <th></th>\n",
       "      <th>model</th>\n",
       "      <th>year</th>\n",
       "      <th>price</th>\n",
       "      <th>transmission</th>\n",
       "      <th>mileage</th>\n",
       "      <th>fuelType</th>\n",
       "      <th>tax</th>\n",
       "      <th>mpg</th>\n",
       "      <th>engineSize</th>\n",
       "    </tr>\n",
       "  </thead>\n",
       "  <tbody>\n",
       "    <tr>\n",
       "      <th>0</th>\n",
       "      <td>Fiesta</td>\n",
       "      <td>2017</td>\n",
       "      <td>12000</td>\n",
       "      <td>Automatic</td>\n",
       "      <td>15944</td>\n",
       "      <td>Petrol</td>\n",
       "      <td>150</td>\n",
       "      <td>57.7</td>\n",
       "      <td>1.0</td>\n",
       "    </tr>\n",
       "    <tr>\n",
       "      <th>1</th>\n",
       "      <td>Focus</td>\n",
       "      <td>2018</td>\n",
       "      <td>14000</td>\n",
       "      <td>Manual</td>\n",
       "      <td>9083</td>\n",
       "      <td>Petrol</td>\n",
       "      <td>150</td>\n",
       "      <td>57.7</td>\n",
       "      <td>1.0</td>\n",
       "    </tr>\n",
       "    <tr>\n",
       "      <th>2</th>\n",
       "      <td>Focus</td>\n",
       "      <td>2017</td>\n",
       "      <td>13000</td>\n",
       "      <td>Manual</td>\n",
       "      <td>12456</td>\n",
       "      <td>Petrol</td>\n",
       "      <td>150</td>\n",
       "      <td>57.7</td>\n",
       "      <td>1.0</td>\n",
       "    </tr>\n",
       "    <tr>\n",
       "      <th>3</th>\n",
       "      <td>Fiesta</td>\n",
       "      <td>2019</td>\n",
       "      <td>17500</td>\n",
       "      <td>Manual</td>\n",
       "      <td>10460</td>\n",
       "      <td>Petrol</td>\n",
       "      <td>145</td>\n",
       "      <td>40.3</td>\n",
       "      <td>1.5</td>\n",
       "    </tr>\n",
       "    <tr>\n",
       "      <th>4</th>\n",
       "      <td>Fiesta</td>\n",
       "      <td>2019</td>\n",
       "      <td>16500</td>\n",
       "      <td>Automatic</td>\n",
       "      <td>1482</td>\n",
       "      <td>Petrol</td>\n",
       "      <td>145</td>\n",
       "      <td>48.7</td>\n",
       "      <td>1.0</td>\n",
       "    </tr>\n",
       "    <tr>\n",
       "      <th>...</th>\n",
       "      <td>...</td>\n",
       "      <td>...</td>\n",
       "      <td>...</td>\n",
       "      <td>...</td>\n",
       "      <td>...</td>\n",
       "      <td>...</td>\n",
       "      <td>...</td>\n",
       "      <td>...</td>\n",
       "      <td>...</td>\n",
       "    </tr>\n",
       "    <tr>\n",
       "      <th>17960</th>\n",
       "      <td>Fiesta</td>\n",
       "      <td>2016</td>\n",
       "      <td>7999</td>\n",
       "      <td>Manual</td>\n",
       "      <td>31348</td>\n",
       "      <td>Petrol</td>\n",
       "      <td>125</td>\n",
       "      <td>54.3</td>\n",
       "      <td>1.2</td>\n",
       "    </tr>\n",
       "    <tr>\n",
       "      <th>17961</th>\n",
       "      <td>B-MAX</td>\n",
       "      <td>2017</td>\n",
       "      <td>8999</td>\n",
       "      <td>Manual</td>\n",
       "      <td>16700</td>\n",
       "      <td>Petrol</td>\n",
       "      <td>150</td>\n",
       "      <td>47.1</td>\n",
       "      <td>1.4</td>\n",
       "    </tr>\n",
       "    <tr>\n",
       "      <th>17962</th>\n",
       "      <td>B-MAX</td>\n",
       "      <td>2014</td>\n",
       "      <td>7499</td>\n",
       "      <td>Manual</td>\n",
       "      <td>40700</td>\n",
       "      <td>Petrol</td>\n",
       "      <td>30</td>\n",
       "      <td>57.7</td>\n",
       "      <td>1.0</td>\n",
       "    </tr>\n",
       "    <tr>\n",
       "      <th>17963</th>\n",
       "      <td>Focus</td>\n",
       "      <td>2015</td>\n",
       "      <td>9999</td>\n",
       "      <td>Manual</td>\n",
       "      <td>7010</td>\n",
       "      <td>Diesel</td>\n",
       "      <td>20</td>\n",
       "      <td>67.3</td>\n",
       "      <td>1.6</td>\n",
       "    </tr>\n",
       "    <tr>\n",
       "      <th>17964</th>\n",
       "      <td>KA</td>\n",
       "      <td>2018</td>\n",
       "      <td>8299</td>\n",
       "      <td>Manual</td>\n",
       "      <td>5007</td>\n",
       "      <td>Petrol</td>\n",
       "      <td>145</td>\n",
       "      <td>57.7</td>\n",
       "      <td>1.2</td>\n",
       "    </tr>\n",
       "  </tbody>\n",
       "</table>\n",
       "<p>17811 rows × 9 columns</p>\n",
       "</div>"
      ],
      "text/plain": [
       "         model  year  price transmission  mileage fuelType  tax   mpg  \\\n",
       "0       Fiesta  2017  12000    Automatic    15944   Petrol  150  57.7   \n",
       "1        Focus  2018  14000       Manual     9083   Petrol  150  57.7   \n",
       "2        Focus  2017  13000       Manual    12456   Petrol  150  57.7   \n",
       "3       Fiesta  2019  17500       Manual    10460   Petrol  145  40.3   \n",
       "4       Fiesta  2019  16500    Automatic     1482   Petrol  145  48.7   \n",
       "...        ...   ...    ...          ...      ...      ...  ...   ...   \n",
       "17960   Fiesta  2016   7999       Manual    31348   Petrol  125  54.3   \n",
       "17961    B-MAX  2017   8999       Manual    16700   Petrol  150  47.1   \n",
       "17962    B-MAX  2014   7499       Manual    40700   Petrol   30  57.7   \n",
       "17963    Focus  2015   9999       Manual     7010   Diesel   20  67.3   \n",
       "17964       KA  2018   8299       Manual     5007   Petrol  145  57.7   \n",
       "\n",
       "       engineSize  \n",
       "0             1.0  \n",
       "1             1.0  \n",
       "2             1.0  \n",
       "3             1.5  \n",
       "4             1.0  \n",
       "...           ...  \n",
       "17960         1.2  \n",
       "17961         1.4  \n",
       "17962         1.0  \n",
       "17963         1.6  \n",
       "17964         1.2  \n",
       "\n",
       "[17811 rows x 9 columns]"
      ]
     },
     "execution_count": 5,
     "metadata": {},
     "output_type": "execute_result"
    }
   ],
   "source": [
    "data"
   ]
  },
  {
   "cell_type": "code",
   "execution_count": 6,
   "id": "31a03e26",
   "metadata": {
    "execution": {
     "iopub.execute_input": "2021-11-22T12:39:25.917343Z",
     "iopub.status.busy": "2021-11-22T12:39:25.916259Z",
     "iopub.status.idle": "2021-11-22T12:39:25.932243Z",
     "shell.execute_reply": "2021-11-22T12:39:25.933193Z",
     "shell.execute_reply.started": "2021-11-22T12:35:56.368025Z"
    },
    "papermill": {
     "duration": 0.098124,
     "end_time": "2021-11-22T12:39:25.933496",
     "exception": false,
     "start_time": "2021-11-22T12:39:25.835372",
     "status": "completed"
    },
    "tags": []
   },
   "outputs": [
    {
     "name": "stdout",
     "output_type": "stream",
     "text": [
      "<class 'pandas.core.frame.DataFrame'>\n",
      "Int64Index: 17811 entries, 0 to 17964\n",
      "Data columns (total 9 columns):\n",
      " #   Column        Non-Null Count  Dtype  \n",
      "---  ------        --------------  -----  \n",
      " 0   model         17811 non-null  object \n",
      " 1   year          17811 non-null  int64  \n",
      " 2   price         17811 non-null  int64  \n",
      " 3   transmission  17811 non-null  object \n",
      " 4   mileage       17811 non-null  int64  \n",
      " 5   fuelType      17811 non-null  object \n",
      " 6   tax           17811 non-null  int64  \n",
      " 7   mpg           17811 non-null  float64\n",
      " 8   engineSize    17811 non-null  float64\n",
      "dtypes: float64(2), int64(4), object(3)\n",
      "memory usage: 1.4+ MB\n"
     ]
    }
   ],
   "source": [
    "data.info()"
   ]
  },
  {
   "cell_type": "code",
   "execution_count": 7,
   "id": "2a1a540d",
   "metadata": {
    "execution": {
     "iopub.execute_input": "2021-11-22T12:39:26.081163Z",
     "iopub.status.busy": "2021-11-22T12:39:26.080462Z",
     "iopub.status.idle": "2021-11-22T12:39:26.093029Z",
     "shell.execute_reply": "2021-11-22T12:39:26.093566Z",
     "shell.execute_reply.started": "2021-11-22T12:35:56.395724Z"
    },
    "papermill": {
     "duration": 0.089124,
     "end_time": "2021-11-22T12:39:26.093751",
     "exception": false,
     "start_time": "2021-11-22T12:39:26.004627",
     "status": "completed"
    },
    "tags": []
   },
   "outputs": [
    {
     "data": {
      "text/plain": [
       "model              23\n",
       "year               23\n",
       "price            3511\n",
       "transmission        3\n",
       "mileage         13528\n",
       "fuelType            5\n",
       "tax                35\n",
       "mpg                90\n",
       "engineSize         16\n",
       "dtype: int64"
      ]
     },
     "execution_count": 7,
     "metadata": {},
     "output_type": "execute_result"
    }
   ],
   "source": [
    "data.nunique()"
   ]
  },
  {
   "cell_type": "code",
   "execution_count": 8,
   "id": "6ad67cad",
   "metadata": {
    "execution": {
     "iopub.execute_input": "2021-11-22T12:39:26.239004Z",
     "iopub.status.busy": "2021-11-22T12:39:26.238019Z",
     "iopub.status.idle": "2021-11-22T12:39:26.242155Z",
     "shell.execute_reply": "2021-11-22T12:39:26.242635Z",
     "shell.execute_reply.started": "2021-11-22T12:35:56.414397Z"
    },
    "papermill": {
     "duration": 0.080324,
     "end_time": "2021-11-22T12:39:26.242816",
     "exception": false,
     "start_time": "2021-11-22T12:39:26.162492",
     "status": "completed"
    },
    "tags": []
   },
   "outputs": [
    {
     "data": {
      "text/plain": [
       "model              Fiesta\n",
       "year                 2017\n",
       "price               12000\n",
       "transmission    Automatic\n",
       "mileage             15944\n",
       "fuelType           Petrol\n",
       "tax                   150\n",
       "mpg                  57.7\n",
       "engineSize            1.0\n",
       "Name: 0, dtype: object"
      ]
     },
     "execution_count": 8,
     "metadata": {},
     "output_type": "execute_result"
    }
   ],
   "source": [
    "data.iloc[0]"
   ]
  },
  {
   "cell_type": "markdown",
   "id": "e9d163f8",
   "metadata": {
    "papermill": {
     "duration": 0.067998,
     "end_time": "2021-11-22T12:39:26.379510",
     "exception": false,
     "start_time": "2021-11-22T12:39:26.311512",
     "status": "completed"
    },
    "tags": []
   },
   "source": [
    "**<li>model, transmission, fuelType -categorical (text) variables  >>>>   get_dummies**\n",
    "**<li>year, price, mileage, tax, mpg, engineSize - continuous variables    >>>>   no changes**"
   ]
  },
  {
   "cell_type": "markdown",
   "id": "84776b43",
   "metadata": {
    "papermill": {
     "duration": 0.06804,
     "end_time": "2021-11-22T12:39:26.516216",
     "exception": false,
     "start_time": "2021-11-22T12:39:26.448176",
     "status": "completed"
    },
    "tags": []
   },
   "source": [
    "# Data preparation and analysis"
   ]
  },
  {
   "cell_type": "markdown",
   "id": "09e118df",
   "metadata": {
    "papermill": {
     "duration": 0.068833,
     "end_time": "2021-11-22T12:39:26.653346",
     "exception": false,
     "start_time": "2021-11-22T12:39:26.584513",
     "status": "completed"
    },
    "tags": []
   },
   "source": [
    "## Removing spaces, lowercase letters"
   ]
  },
  {
   "cell_type": "code",
   "execution_count": 9,
   "id": "0ff1a82f",
   "metadata": {
    "execution": {
     "iopub.execute_input": "2021-11-22T12:39:26.797759Z",
     "iopub.status.busy": "2021-11-22T12:39:26.796760Z",
     "iopub.status.idle": "2021-11-22T12:39:26.801938Z",
     "shell.execute_reply": "2021-11-22T12:39:26.802403Z",
     "shell.execute_reply.started": "2021-11-22T12:35:56.422479Z"
    },
    "papermill": {
     "duration": 0.080248,
     "end_time": "2021-11-22T12:39:26.802616",
     "exception": false,
     "start_time": "2021-11-22T12:39:26.722368",
     "status": "completed"
    },
    "tags": []
   },
   "outputs": [
    {
     "data": {
      "text/plain": [
       "array([' Fiesta', ' Focus', ' Puma', ' Kuga', ' EcoSport', ' C-MAX',\n",
       "       ' Mondeo', ' Ka+', ' Tourneo Custom', ' S-MAX', ' B-MAX', ' Edge',\n",
       "       ' Tourneo Connect', ' Grand C-MAX', ' KA', ' Galaxy', ' Mustang',\n",
       "       ' Grand Tourneo Connect', ' Fusion', ' Ranger', ' Streetka',\n",
       "       ' Escort', ' Transit Tourneo'], dtype=object)"
      ]
     },
     "execution_count": 9,
     "metadata": {},
     "output_type": "execute_result"
    }
   ],
   "source": [
    "data.model.unique()"
   ]
  },
  {
   "cell_type": "code",
   "execution_count": 10,
   "id": "81139130",
   "metadata": {
    "execution": {
     "iopub.execute_input": "2021-11-22T12:39:26.948582Z",
     "iopub.status.busy": "2021-11-22T12:39:26.947629Z",
     "iopub.status.idle": "2021-11-22T12:39:26.981241Z",
     "shell.execute_reply": "2021-11-22T12:39:26.980603Z",
     "shell.execute_reply.started": "2021-11-22T12:35:56.438258Z"
    },
    "papermill": {
     "duration": 0.109901,
     "end_time": "2021-11-22T12:39:26.981385",
     "exception": false,
     "start_time": "2021-11-22T12:39:26.871484",
     "status": "completed"
    },
    "tags": []
   },
   "outputs": [],
   "source": [
    "data.model = data.model.str.strip().str.lower().str.replace(' ', '')"
   ]
  },
  {
   "cell_type": "code",
   "execution_count": 11,
   "id": "178251e8",
   "metadata": {
    "execution": {
     "iopub.execute_input": "2021-11-22T12:39:27.127200Z",
     "iopub.status.busy": "2021-11-22T12:39:27.126206Z",
     "iopub.status.idle": "2021-11-22T12:39:27.130740Z",
     "shell.execute_reply": "2021-11-22T12:39:27.131319Z",
     "shell.execute_reply.started": "2021-11-22T12:35:56.483567Z"
    },
    "papermill": {
     "duration": 0.079361,
     "end_time": "2021-11-22T12:39:27.131497",
     "exception": false,
     "start_time": "2021-11-22T12:39:27.052136",
     "status": "completed"
    },
    "tags": []
   },
   "outputs": [
    {
     "data": {
      "text/plain": [
       "array(['Automatic', 'Manual', 'Semi-Auto'], dtype=object)"
      ]
     },
     "execution_count": 11,
     "metadata": {},
     "output_type": "execute_result"
    }
   ],
   "source": [
    "data.transmission.unique()"
   ]
  },
  {
   "cell_type": "code",
   "execution_count": 12,
   "id": "b9fee5c6",
   "metadata": {
    "execution": {
     "iopub.execute_input": "2021-11-22T12:39:27.286440Z",
     "iopub.status.busy": "2021-11-22T12:39:27.285585Z",
     "iopub.status.idle": "2021-11-22T12:39:27.288480Z",
     "shell.execute_reply": "2021-11-22T12:39:27.289124Z",
     "shell.execute_reply.started": "2021-11-22T12:35:56.497849Z"
    },
    "papermill": {
     "duration": 0.087766,
     "end_time": "2021-11-22T12:39:27.289305",
     "exception": false,
     "start_time": "2021-11-22T12:39:27.201539",
     "status": "completed"
    },
    "tags": []
   },
   "outputs": [],
   "source": [
    "data.transmission = data.transmission.str.lower()"
   ]
  },
  {
   "cell_type": "code",
   "execution_count": 13,
   "id": "bb2f4618",
   "metadata": {
    "execution": {
     "iopub.execute_input": "2021-11-22T12:39:27.432574Z",
     "iopub.status.busy": "2021-11-22T12:39:27.431505Z",
     "iopub.status.idle": "2021-11-22T12:39:27.440799Z",
     "shell.execute_reply": "2021-11-22T12:39:27.441295Z",
     "shell.execute_reply.started": "2021-11-22T12:35:56.521046Z"
    },
    "papermill": {
     "duration": 0.082303,
     "end_time": "2021-11-22T12:39:27.441489",
     "exception": false,
     "start_time": "2021-11-22T12:39:27.359186",
     "status": "completed"
    },
    "tags": []
   },
   "outputs": [
    {
     "data": {
      "text/plain": [
       "array(['Petrol', 'Diesel', 'Hybrid', 'Electric', 'Other'], dtype=object)"
      ]
     },
     "execution_count": 13,
     "metadata": {},
     "output_type": "execute_result"
    }
   ],
   "source": [
    "data.fuelType.unique()"
   ]
  },
  {
   "cell_type": "code",
   "execution_count": 14,
   "id": "69f0ba6d",
   "metadata": {
    "execution": {
     "iopub.execute_input": "2021-11-22T12:39:27.597998Z",
     "iopub.status.busy": "2021-11-22T12:39:27.597253Z",
     "iopub.status.idle": "2021-11-22T12:39:27.600197Z",
     "shell.execute_reply": "2021-11-22T12:39:27.600711Z",
     "shell.execute_reply.started": "2021-11-22T12:35:56.538457Z"
    },
    "papermill": {
     "duration": 0.089101,
     "end_time": "2021-11-22T12:39:27.600906",
     "exception": false,
     "start_time": "2021-11-22T12:39:27.511805",
     "status": "completed"
    },
    "tags": []
   },
   "outputs": [],
   "source": [
    "data.fuelType = data.fuelType.str.lower()"
   ]
  },
  {
   "cell_type": "markdown",
   "id": "5f61cbbe",
   "metadata": {
    "papermill": {
     "duration": 0.069265,
     "end_time": "2021-11-22T12:39:27.740714",
     "exception": false,
     "start_time": "2021-11-22T12:39:27.671449",
     "status": "completed"
    },
    "tags": []
   },
   "source": [
    "## year"
   ]
  },
  {
   "cell_type": "code",
   "execution_count": 15,
   "id": "6a429199",
   "metadata": {
    "execution": {
     "iopub.execute_input": "2021-11-22T12:39:27.889772Z",
     "iopub.status.busy": "2021-11-22T12:39:27.888883Z",
     "iopub.status.idle": "2021-11-22T12:39:27.893486Z",
     "shell.execute_reply": "2021-11-22T12:39:27.894070Z",
     "shell.execute_reply.started": "2021-11-22T12:35:56.554606Z"
    },
    "papermill": {
     "duration": 0.081164,
     "end_time": "2021-11-22T12:39:27.894254",
     "exception": false,
     "start_time": "2021-11-22T12:39:27.813090",
     "status": "completed"
    },
    "tags": []
   },
   "outputs": [
    {
     "data": {
      "text/plain": [
       "array([2017, 2018, 2019, 2015, 2014, 2016, 2013, 2020, 2012, 2008, 2010,\n",
       "       2009, 2011, 1998, 2007, 2005, 2006, 2002, 2003, 1996, 2004, 2000,\n",
       "       2060])"
      ]
     },
     "execution_count": 15,
     "metadata": {},
     "output_type": "execute_result"
    }
   ],
   "source": [
    "data.year.unique()"
   ]
  },
  {
   "cell_type": "code",
   "execution_count": 16,
   "id": "0fe6f4eb",
   "metadata": {
    "execution": {
     "iopub.execute_input": "2021-11-22T12:39:28.043204Z",
     "iopub.status.busy": "2021-11-22T12:39:28.039709Z",
     "iopub.status.idle": "2021-11-22T12:39:28.046815Z",
     "shell.execute_reply": "2021-11-22T12:39:28.046194Z",
     "shell.execute_reply.started": "2021-11-22T12:35:56.572126Z"
    },
    "papermill": {
     "duration": 0.081287,
     "end_time": "2021-11-22T12:39:28.046981",
     "exception": false,
     "start_time": "2021-11-22T12:39:27.965694",
     "status": "completed"
    },
    "tags": []
   },
   "outputs": [],
   "source": [
    "data.year = 2021 - data.year"
   ]
  },
  {
   "cell_type": "code",
   "execution_count": 17,
   "id": "9a621ea6",
   "metadata": {
    "execution": {
     "iopub.execute_input": "2021-11-22T12:39:28.192142Z",
     "iopub.status.busy": "2021-11-22T12:39:28.191202Z",
     "iopub.status.idle": "2021-11-22T12:39:28.196740Z",
     "shell.execute_reply": "2021-11-22T12:39:28.197248Z",
     "shell.execute_reply.started": "2021-11-22T12:35:56.583951Z"
    },
    "papermill": {
     "duration": 0.079777,
     "end_time": "2021-11-22T12:39:28.197454",
     "exception": false,
     "start_time": "2021-11-22T12:39:28.117677",
     "status": "completed"
    },
    "tags": []
   },
   "outputs": [],
   "source": [
    "data = data[~(data['year'] == -39)]"
   ]
  },
  {
   "cell_type": "code",
   "execution_count": 18,
   "id": "38a0dcfb",
   "metadata": {
    "execution": {
     "iopub.execute_input": "2021-11-22T12:39:28.340945Z",
     "iopub.status.busy": "2021-11-22T12:39:28.339957Z",
     "iopub.status.idle": "2021-11-22T12:39:28.346014Z",
     "shell.execute_reply": "2021-11-22T12:39:28.346621Z",
     "shell.execute_reply.started": "2021-11-22T12:35:56.597288Z"
    },
    "papermill": {
     "duration": 0.0795,
     "end_time": "2021-11-22T12:39:28.346801",
     "exception": false,
     "start_time": "2021-11-22T12:39:28.267301",
     "status": "completed"
    },
    "tags": []
   },
   "outputs": [
    {
     "data": {
      "text/plain": [
       "array([ 4,  3,  2,  6,  7,  5,  8,  1,  9, 13, 11, 12, 10, 23, 14, 16, 15,\n",
       "       19, 18, 25, 17, 21])"
      ]
     },
     "execution_count": 18,
     "metadata": {},
     "output_type": "execute_result"
    }
   ],
   "source": [
    "data.year.unique()"
   ]
  },
  {
   "cell_type": "markdown",
   "id": "9061f00a",
   "metadata": {
    "papermill": {
     "duration": 0.070562,
     "end_time": "2021-11-22T12:39:28.487638",
     "exception": false,
     "start_time": "2021-11-22T12:39:28.417076",
     "status": "completed"
    },
    "tags": []
   },
   "source": [
    "**We will change the value of the variable to the age of the car, we will take 2021 as the countdown**"
   ]
  },
  {
   "cell_type": "code",
   "execution_count": 19,
   "id": "69e7a25c",
   "metadata": {
    "execution": {
     "iopub.execute_input": "2021-11-22T12:39:28.635143Z",
     "iopub.status.busy": "2021-11-22T12:39:28.634411Z",
     "iopub.status.idle": "2021-11-22T12:39:29.022914Z",
     "shell.execute_reply": "2021-11-22T12:39:29.022208Z",
     "shell.execute_reply.started": "2021-11-22T12:35:56.608716Z"
    },
    "papermill": {
     "duration": 0.465039,
     "end_time": "2021-11-22T12:39:29.023079",
     "exception": false,
     "start_time": "2021-11-22T12:39:28.558040",
     "status": "completed"
    },
    "tags": []
   },
   "outputs": [
    {
     "data": {
      "text/plain": [
       "<AxesSubplot:>"
      ]
     },
     "execution_count": 19,
     "metadata": {},
     "output_type": "execute_result"
    },
    {
     "data": {
      "image/png": "[encoded data removed]",
      "text/plain": [
       "<Figure size 360x360 with 1 Axes>"
      ]
     },
     "metadata": {
      "needs_background": "light"
     },
     "output_type": "display_data"
    }
   ],
   "source": [
    "data['year'].value_counts().plot.barh(figsize=(5, 5))"
   ]
  },
  {
   "cell_type": "markdown",
   "id": "59193f63",
   "metadata": {
    "papermill": {
     "duration": 0.070539,
     "end_time": "2021-11-22T12:39:29.167414",
     "exception": false,
     "start_time": "2021-11-22T12:39:29.096875",
     "status": "completed"
    },
    "tags": []
   },
   "source": [
    "## model"
   ]
  },
  {
   "cell_type": "code",
   "execution_count": 20,
   "id": "5d412e11",
   "metadata": {
    "execution": {
     "iopub.execute_input": "2021-11-22T12:39:29.313386Z",
     "iopub.status.busy": "2021-11-22T12:39:29.312721Z",
     "iopub.status.idle": "2021-11-22T12:39:29.325126Z",
     "shell.execute_reply": "2021-11-22T12:39:29.325798Z",
     "shell.execute_reply.started": "2021-11-22T12:35:56.928163Z"
    },
    "papermill": {
     "duration": 0.087668,
     "end_time": "2021-11-22T12:39:29.325984",
     "exception": false,
     "start_time": "2021-11-22T12:39:29.238316",
     "status": "completed"
    },
    "tags": []
   },
   "outputs": [
    {
     "data": {
      "text/plain": [
       "fiesta                 6508\n",
       "focus                  4555\n",
       "kuga                   2208\n",
       "ecosport               1127\n",
       "c-max                   542\n",
       "ka+                     523\n",
       "mondeo                  512\n",
       "b-max                   350\n",
       "s-max                   294\n",
       "grandc-max              247\n",
       "galaxy                  227\n",
       "edge                    205\n",
       "ka                      197\n",
       "puma                     79\n",
       "tourneocustom            69\n",
       "mustang                  57\n",
       "grandtourneoconnect      57\n",
       "tourneoconnect           32\n",
       "fusion                   16\n",
       "streetka                  2\n",
       "ranger                    1\n",
       "escort                    1\n",
       "transittourneo            1\n",
       "Name: model, dtype: int64"
      ]
     },
     "execution_count": 20,
     "metadata": {},
     "output_type": "execute_result"
    }
   ],
   "source": [
    "data.model.value_counts()"
   ]
  },
  {
   "cell_type": "code",
   "execution_count": 21,
   "id": "7b1eb5f7",
   "metadata": {
    "execution": {
     "iopub.execute_input": "2021-11-22T12:39:29.472794Z",
     "iopub.status.busy": "2021-11-22T12:39:29.472022Z",
     "iopub.status.idle": "2021-11-22T12:39:29.491459Z",
     "shell.execute_reply": "2021-11-22T12:39:29.492144Z",
     "shell.execute_reply.started": "2021-11-22T12:35:56.941054Z"
    },
    "papermill": {
     "duration": 0.094717,
     "end_time": "2021-11-22T12:39:29.492327",
     "exception": false,
     "start_time": "2021-11-22T12:39:29.397610",
     "status": "completed"
    },
    "tags": []
   },
   "outputs": [
    {
     "data": {
      "text/html": [
       "<div>\n",
       "<style scoped>\n",
       "    .dataframe tbody tr th:only-of-type {\n",
       "        vertical-align: middle;\n",
       "    }\n",
       "\n",
       "    .dataframe tbody tr th {\n",
       "        vertical-align: top;\n",
       "    }\n",
       "\n",
       "    .dataframe thead th {\n",
       "        text-align: right;\n",
       "    }\n",
       "</style>\n",
       "<table border=\"1\" class=\"dataframe\">\n",
       "  <thead>\n",
       "    <tr style=\"text-align: right;\">\n",
       "      <th></th>\n",
       "      <th>count</th>\n",
       "      <th>mean</th>\n",
       "    </tr>\n",
       "    <tr>\n",
       "      <th>model</th>\n",
       "      <th></th>\n",
       "      <th></th>\n",
       "    </tr>\n",
       "  </thead>\n",
       "  <tbody>\n",
       "    <tr>\n",
       "      <th>transittourneo</th>\n",
       "      <td>1</td>\n",
       "      <td>12450.000000</td>\n",
       "    </tr>\n",
       "    <tr>\n",
       "      <th>ranger</th>\n",
       "      <td>1</td>\n",
       "      <td>14495.000000</td>\n",
       "    </tr>\n",
       "    <tr>\n",
       "      <th>escort</th>\n",
       "      <td>1</td>\n",
       "      <td>3000.000000</td>\n",
       "    </tr>\n",
       "    <tr>\n",
       "      <th>streetka</th>\n",
       "      <td>2</td>\n",
       "      <td>1924.500000</td>\n",
       "    </tr>\n",
       "    <tr>\n",
       "      <th>fusion</th>\n",
       "      <td>16</td>\n",
       "      <td>2555.812500</td>\n",
       "    </tr>\n",
       "    <tr>\n",
       "      <th>tourneoconnect</th>\n",
       "      <td>32</td>\n",
       "      <td>13862.406250</td>\n",
       "    </tr>\n",
       "    <tr>\n",
       "      <th>mustang</th>\n",
       "      <td>57</td>\n",
       "      <td>34631.263158</td>\n",
       "    </tr>\n",
       "    <tr>\n",
       "      <th>grandtourneoconnect</th>\n",
       "      <td>57</td>\n",
       "      <td>14765.456140</td>\n",
       "    </tr>\n",
       "    <tr>\n",
       "      <th>tourneocustom</th>\n",
       "      <td>69</td>\n",
       "      <td>21165.985507</td>\n",
       "    </tr>\n",
       "    <tr>\n",
       "      <th>puma</th>\n",
       "      <td>79</td>\n",
       "      <td>21427.911392</td>\n",
       "    </tr>\n",
       "    <tr>\n",
       "      <th>ka</th>\n",
       "      <td>197</td>\n",
       "      <td>5206.822335</td>\n",
       "    </tr>\n",
       "    <tr>\n",
       "      <th>edge</th>\n",
       "      <td>205</td>\n",
       "      <td>22710.165854</td>\n",
       "    </tr>\n",
       "    <tr>\n",
       "      <th>galaxy</th>\n",
       "      <td>227</td>\n",
       "      <td>17848.669604</td>\n",
       "    </tr>\n",
       "    <tr>\n",
       "      <th>grandc-max</th>\n",
       "      <td>247</td>\n",
       "      <td>10881.574899</td>\n",
       "    </tr>\n",
       "    <tr>\n",
       "      <th>s-max</th>\n",
       "      <td>294</td>\n",
       "      <td>17655.401361</td>\n",
       "    </tr>\n",
       "    <tr>\n",
       "      <th>b-max</th>\n",
       "      <td>350</td>\n",
       "      <td>8271.691429</td>\n",
       "    </tr>\n",
       "    <tr>\n",
       "      <th>mondeo</th>\n",
       "      <td>512</td>\n",
       "      <td>12258.947266</td>\n",
       "    </tr>\n",
       "    <tr>\n",
       "      <th>ka+</th>\n",
       "      <td>523</td>\n",
       "      <td>8699.047801</td>\n",
       "    </tr>\n",
       "    <tr>\n",
       "      <th>c-max</th>\n",
       "      <td>542</td>\n",
       "      <td>9913.503690</td>\n",
       "    </tr>\n",
       "    <tr>\n",
       "      <th>ecosport</th>\n",
       "      <td>1127</td>\n",
       "      <td>12469.267081</td>\n",
       "    </tr>\n",
       "    <tr>\n",
       "      <th>kuga</th>\n",
       "      <td>2208</td>\n",
       "      <td>15819.159873</td>\n",
       "    </tr>\n",
       "    <tr>\n",
       "      <th>focus</th>\n",
       "      <td>4555</td>\n",
       "      <td>13178.973436</td>\n",
       "    </tr>\n",
       "    <tr>\n",
       "      <th>fiesta</th>\n",
       "      <td>6508</td>\n",
       "      <td>10191.424093</td>\n",
       "    </tr>\n",
       "  </tbody>\n",
       "</table>\n",
       "</div>"
      ],
      "text/plain": [
       "                     count          mean\n",
       "model                                   \n",
       "transittourneo           1  12450.000000\n",
       "ranger                   1  14495.000000\n",
       "escort                   1   3000.000000\n",
       "streetka                 2   1924.500000\n",
       "fusion                  16   2555.812500\n",
       "tourneoconnect          32  13862.406250\n",
       "mustang                 57  34631.263158\n",
       "grandtourneoconnect     57  14765.456140\n",
       "tourneocustom           69  21165.985507\n",
       "puma                    79  21427.911392\n",
       "ka                     197   5206.822335\n",
       "edge                   205  22710.165854\n",
       "galaxy                 227  17848.669604\n",
       "grandc-max             247  10881.574899\n",
       "s-max                  294  17655.401361\n",
       "b-max                  350   8271.691429\n",
       "mondeo                 512  12258.947266\n",
       "ka+                    523   8699.047801\n",
       "c-max                  542   9913.503690\n",
       "ecosport              1127  12469.267081\n",
       "kuga                  2208  15819.159873\n",
       "focus                 4555  13178.973436\n",
       "fiesta                6508  10191.424093"
      ]
     },
     "execution_count": 21,
     "metadata": {},
     "output_type": "execute_result"
    }
   ],
   "source": [
    "data.groupby('model')['price'].agg(['count', 'mean']).sort_values('count', ascending=True)"
   ]
  },
  {
   "cell_type": "markdown",
   "id": "3f5b6f42",
   "metadata": {
    "papermill": {
     "duration": 0.073635,
     "end_time": "2021-11-22T12:39:29.638720",
     "exception": false,
     "start_time": "2021-11-22T12:39:29.565085",
     "status": "completed"
    },
    "tags": []
   },
   "source": [
    "**`Fiesta`, `focus`, and `kuga` models represent 75% of all cars in the dataset. I wanted to create a separate category for unpopular models - `other`, but grouping by models showed that they differ greatly in price. And it's easier to split each model into 1/0 columns in order to 'feed' it to the algorithm - we don't have to count manually )**"
   ]
  },
  {
   "cell_type": "markdown",
   "id": "daff3bfd",
   "metadata": {
    "papermill": {
     "duration": 0.071538,
     "end_time": "2021-11-22T12:39:29.782443",
     "exception": false,
     "start_time": "2021-11-22T12:39:29.710905",
     "status": "completed"
    },
    "tags": []
   },
   "source": [
    "## fuelType"
   ]
  },
  {
   "cell_type": "code",
   "execution_count": 22,
   "id": "5f2b5af1",
   "metadata": {
    "execution": {
     "iopub.execute_input": "2021-11-22T12:39:29.932851Z",
     "iopub.status.busy": "2021-11-22T12:39:29.932108Z",
     "iopub.status.idle": "2021-11-22T12:39:29.943151Z",
     "shell.execute_reply": "2021-11-22T12:39:29.943791Z",
     "shell.execute_reply.started": "2021-11-22T12:35:56.964410Z"
    },
    "papermill": {
     "duration": 0.088211,
     "end_time": "2021-11-22T12:39:29.943969",
     "exception": false,
     "start_time": "2021-11-22T12:39:29.855758",
     "status": "completed"
    },
    "tags": []
   },
   "outputs": [
    {
     "data": {
      "text/plain": [
       "petrol      12079\n",
       "diesel       5706\n",
       "hybrid         22\n",
       "electric        2\n",
       "other           1\n",
       "Name: fuelType, dtype: int64"
      ]
     },
     "execution_count": 22,
     "metadata": {},
     "output_type": "execute_result"
    }
   ],
   "source": [
    "data.fuelType.value_counts()"
   ]
  },
  {
   "cell_type": "code",
   "execution_count": 23,
   "id": "d41ec2f7",
   "metadata": {
    "execution": {
     "iopub.execute_input": "2021-11-22T12:39:30.094731Z",
     "iopub.status.busy": "2021-11-22T12:39:30.094015Z",
     "iopub.status.idle": "2021-11-22T12:39:30.107417Z",
     "shell.execute_reply": "2021-11-22T12:39:30.108051Z",
     "shell.execute_reply.started": "2021-11-22T12:35:56.977261Z"
    },
    "papermill": {
     "duration": 0.091868,
     "end_time": "2021-11-22T12:39:30.108234",
     "exception": false,
     "start_time": "2021-11-22T12:39:30.016366",
     "status": "completed"
    },
    "tags": []
   },
   "outputs": [
    {
     "data": {
      "text/html": [
       "<div>\n",
       "<style scoped>\n",
       "    .dataframe tbody tr th:only-of-type {\n",
       "        vertical-align: middle;\n",
       "    }\n",
       "\n",
       "    .dataframe tbody tr th {\n",
       "        vertical-align: top;\n",
       "    }\n",
       "\n",
       "    .dataframe thead th {\n",
       "        text-align: right;\n",
       "    }\n",
       "</style>\n",
       "<table border=\"1\" class=\"dataframe\">\n",
       "  <thead>\n",
       "    <tr style=\"text-align: right;\">\n",
       "      <th></th>\n",
       "      <th>count</th>\n",
       "      <th>mean</th>\n",
       "    </tr>\n",
       "    <tr>\n",
       "      <th>fuelType</th>\n",
       "      <th></th>\n",
       "      <th></th>\n",
       "    </tr>\n",
       "  </thead>\n",
       "  <tbody>\n",
       "    <tr>\n",
       "      <th>diesel</th>\n",
       "      <td>5706</td>\n",
       "      <td>13642.600946</td>\n",
       "    </tr>\n",
       "    <tr>\n",
       "      <th>electric</th>\n",
       "      <td>2</td>\n",
       "      <td>15737.500000</td>\n",
       "    </tr>\n",
       "    <tr>\n",
       "      <th>hybrid</th>\n",
       "      <td>22</td>\n",
       "      <td>22149.090909</td>\n",
       "    </tr>\n",
       "    <tr>\n",
       "      <th>other</th>\n",
       "      <td>1</td>\n",
       "      <td>13800.000000</td>\n",
       "    </tr>\n",
       "    <tr>\n",
       "      <th>petrol</th>\n",
       "      <td>12079</td>\n",
       "      <td>11603.055468</td>\n",
       "    </tr>\n",
       "  </tbody>\n",
       "</table>\n",
       "</div>"
      ],
      "text/plain": [
       "          count          mean\n",
       "fuelType                     \n",
       "diesel     5706  13642.600946\n",
       "electric      2  15737.500000\n",
       "hybrid       22  22149.090909\n",
       "other         1  13800.000000\n",
       "petrol    12079  11603.055468"
      ]
     },
     "execution_count": 23,
     "metadata": {},
     "output_type": "execute_result"
    }
   ],
   "source": [
    "data.groupby('fuelType')['price'].agg(['count', 'mean'])"
   ]
  },
  {
   "cell_type": "code",
   "execution_count": 24,
   "id": "b9d26a01",
   "metadata": {
    "execution": {
     "iopub.execute_input": "2021-11-22T12:39:30.274218Z",
     "iopub.status.busy": "2021-11-22T12:39:30.273241Z",
     "iopub.status.idle": "2021-11-22T12:39:30.277669Z",
     "shell.execute_reply": "2021-11-22T12:39:30.277031Z",
     "shell.execute_reply.started": "2021-11-22T12:35:56.998631Z"
    },
    "papermill": {
     "duration": 0.095679,
     "end_time": "2021-11-22T12:39:30.277815",
     "exception": false,
     "start_time": "2021-11-22T12:39:30.182136",
     "status": "completed"
    },
    "tags": []
   },
   "outputs": [
    {
     "data": {
      "text/html": [
       "<div>\n",
       "<style scoped>\n",
       "    .dataframe tbody tr th:only-of-type {\n",
       "        vertical-align: middle;\n",
       "    }\n",
       "\n",
       "    .dataframe tbody tr th {\n",
       "        vertical-align: top;\n",
       "    }\n",
       "\n",
       "    .dataframe thead th {\n",
       "        text-align: right;\n",
       "    }\n",
       "</style>\n",
       "<table border=\"1\" class=\"dataframe\">\n",
       "  <thead>\n",
       "    <tr style=\"text-align: right;\">\n",
       "      <th></th>\n",
       "      <th>model</th>\n",
       "      <th>year</th>\n",
       "      <th>price</th>\n",
       "      <th>transmission</th>\n",
       "      <th>mileage</th>\n",
       "      <th>fuelType</th>\n",
       "      <th>tax</th>\n",
       "      <th>mpg</th>\n",
       "      <th>engineSize</th>\n",
       "    </tr>\n",
       "  </thead>\n",
       "  <tbody>\n",
       "    <tr>\n",
       "      <th>6385</th>\n",
       "      <td>mondeo</td>\n",
       "      <td>5</td>\n",
       "      <td>15975</td>\n",
       "      <td>automatic</td>\n",
       "      <td>9396</td>\n",
       "      <td>electric</td>\n",
       "      <td>0</td>\n",
       "      <td>67.3</td>\n",
       "      <td>2.0</td>\n",
       "    </tr>\n",
       "    <tr>\n",
       "      <th>11959</th>\n",
       "      <td>mondeo</td>\n",
       "      <td>5</td>\n",
       "      <td>15500</td>\n",
       "      <td>automatic</td>\n",
       "      <td>24531</td>\n",
       "      <td>electric</td>\n",
       "      <td>0</td>\n",
       "      <td>67.3</td>\n",
       "      <td>2.0</td>\n",
       "    </tr>\n",
       "  </tbody>\n",
       "</table>\n",
       "</div>"
      ],
      "text/plain": [
       "        model  year  price transmission  mileage  fuelType  tax   mpg  \\\n",
       "6385   mondeo     5  15975    automatic     9396  electric    0  67.3   \n",
       "11959  mondeo     5  15500    automatic    24531  electric    0  67.3   \n",
       "\n",
       "       engineSize  \n",
       "6385          2.0  \n",
       "11959         2.0  "
      ]
     },
     "execution_count": 24,
     "metadata": {},
     "output_type": "execute_result"
    }
   ],
   "source": [
    "data[data['fuelType'] == 'electric']"
   ]
  },
  {
   "cell_type": "code",
   "execution_count": 25,
   "id": "9d18a367",
   "metadata": {
    "execution": {
     "iopub.execute_input": "2021-11-22T12:39:30.437794Z",
     "iopub.status.busy": "2021-11-22T12:39:30.437030Z",
     "iopub.status.idle": "2021-11-22T12:39:30.445021Z",
     "shell.execute_reply": "2021-11-22T12:39:30.445701Z",
     "shell.execute_reply.started": "2021-11-22T12:35:57.017741Z"
    },
    "papermill": {
     "duration": 0.093693,
     "end_time": "2021-11-22T12:39:30.445896",
     "exception": false,
     "start_time": "2021-11-22T12:39:30.352203",
     "status": "completed"
    },
    "tags": []
   },
   "outputs": [
    {
     "data": {
      "text/html": [
       "<div>\n",
       "<style scoped>\n",
       "    .dataframe tbody tr th:only-of-type {\n",
       "        vertical-align: middle;\n",
       "    }\n",
       "\n",
       "    .dataframe tbody tr th {\n",
       "        vertical-align: top;\n",
       "    }\n",
       "\n",
       "    .dataframe thead th {\n",
       "        text-align: right;\n",
       "    }\n",
       "</style>\n",
       "<table border=\"1\" class=\"dataframe\">\n",
       "  <thead>\n",
       "    <tr style=\"text-align: right;\">\n",
       "      <th></th>\n",
       "      <th>model</th>\n",
       "      <th>year</th>\n",
       "      <th>price</th>\n",
       "      <th>transmission</th>\n",
       "      <th>mileage</th>\n",
       "      <th>fuelType</th>\n",
       "      <th>tax</th>\n",
       "      <th>mpg</th>\n",
       "      <th>engineSize</th>\n",
       "    </tr>\n",
       "  </thead>\n",
       "  <tbody>\n",
       "    <tr>\n",
       "      <th>17492</th>\n",
       "      <td>mondeo</td>\n",
       "      <td>6</td>\n",
       "      <td>13800</td>\n",
       "      <td>automatic</td>\n",
       "      <td>19470</td>\n",
       "      <td>other</td>\n",
       "      <td>0</td>\n",
       "      <td>67.3</td>\n",
       "      <td>2.0</td>\n",
       "    </tr>\n",
       "  </tbody>\n",
       "</table>\n",
       "</div>"
      ],
      "text/plain": [
       "        model  year  price transmission  mileage fuelType  tax   mpg  \\\n",
       "17492  mondeo     6  13800    automatic    19470    other    0  67.3   \n",
       "\n",
       "       engineSize  \n",
       "17492         2.0  "
      ]
     },
     "execution_count": 25,
     "metadata": {},
     "output_type": "execute_result"
    }
   ],
   "source": [
    "data[data['fuelType'] == 'other']"
   ]
  },
  {
   "cell_type": "code",
   "execution_count": 26,
   "id": "89ac0b23",
   "metadata": {
    "execution": {
     "iopub.execute_input": "2021-11-22T12:39:30.601779Z",
     "iopub.status.busy": "2021-11-22T12:39:30.600768Z",
     "iopub.status.idle": "2021-11-22T12:39:30.606973Z",
     "shell.execute_reply": "2021-11-22T12:39:30.607616Z",
     "shell.execute_reply.started": "2021-11-22T12:35:57.045034Z"
    },
    "papermill": {
     "duration": 0.086759,
     "end_time": "2021-11-22T12:39:30.607803",
     "exception": false,
     "start_time": "2021-11-22T12:39:30.521044",
     "status": "completed"
    },
    "tags": []
   },
   "outputs": [],
   "source": [
    "data['fuelType'].replace('other', 'electric', inplace=True)"
   ]
  },
  {
   "cell_type": "markdown",
   "id": "63e5b4e3",
   "metadata": {
    "papermill": {
     "duration": 0.075121,
     "end_time": "2021-11-22T12:39:30.759807",
     "exception": false,
     "start_time": "2021-11-22T12:39:30.684686",
     "status": "completed"
    },
    "tags": []
   },
   "source": [
    "**Let's add an element from the `other` category to `electric` - they have the same `model`, `transmission`, `tax`, `mpg` and `engineSize`**"
   ]
  },
  {
   "cell_type": "code",
   "execution_count": 27,
   "id": "c4a07ae1",
   "metadata": {
    "execution": {
     "iopub.execute_input": "2021-11-22T12:39:30.919853Z",
     "iopub.status.busy": "2021-11-22T12:39:30.918984Z",
     "iopub.status.idle": "2021-11-22T12:39:30.922189Z",
     "shell.execute_reply": "2021-11-22T12:39:30.922696Z",
     "shell.execute_reply.started": "2021-11-22T12:35:57.053168Z"
    },
    "papermill": {
     "duration": 0.088171,
     "end_time": "2021-11-22T12:39:30.922872",
     "exception": false,
     "start_time": "2021-11-22T12:39:30.834701",
     "status": "completed"
    },
    "tags": []
   },
   "outputs": [
    {
     "data": {
      "text/plain": [
       "petrol      12079\n",
       "diesel       5706\n",
       "hybrid         22\n",
       "electric        3\n",
       "Name: fuelType, dtype: int64"
      ]
     },
     "execution_count": 27,
     "metadata": {},
     "output_type": "execute_result"
    }
   ],
   "source": [
    "data.fuelType.value_counts()"
   ]
  },
  {
   "cell_type": "code",
   "execution_count": 28,
   "id": "a7805ff8",
   "metadata": {
    "execution": {
     "iopub.execute_input": "2021-11-22T12:39:31.077416Z",
     "iopub.status.busy": "2021-11-22T12:39:31.076243Z",
     "iopub.status.idle": "2021-11-22T12:39:31.243898Z",
     "shell.execute_reply": "2021-11-22T12:39:31.244449Z",
     "shell.execute_reply.started": "2021-11-22T12:35:57.077013Z"
    },
    "papermill": {
     "duration": 0.246379,
     "end_time": "2021-11-22T12:39:31.244641",
     "exception": false,
     "start_time": "2021-11-22T12:39:30.998262",
     "status": "completed"
    },
    "tags": []
   },
   "outputs": [
    {
     "data": {
      "text/plain": [
       "<AxesSubplot:>"
      ]
     },
     "execution_count": 28,
     "metadata": {},
     "output_type": "execute_result"
    },
    {
     "data": {
      "image/png": "[encoded data removed]",
      "text/plain": [
       "<Figure size 360x360 with 1 Axes>"
      ]
     },
     "metadata": {
      "needs_background": "light"
     },
     "output_type": "display_data"
    }
   ],
   "source": [
    "data['fuelType'].value_counts().plot.barh(figsize=(5, 5))"
   ]
  },
  {
   "cell_type": "markdown",
   "id": "69eac069",
   "metadata": {
    "papermill": {
     "duration": 0.074941,
     "end_time": "2021-11-22T12:39:31.394683",
     "exception": false,
     "start_time": "2021-11-22T12:39:31.319742",
     "status": "completed"
    },
    "tags": []
   },
   "source": [
    "## price"
   ]
  },
  {
   "cell_type": "code",
   "execution_count": 29,
   "id": "c0d43613",
   "metadata": {
    "execution": {
     "iopub.execute_input": "2021-11-22T12:39:31.549397Z",
     "iopub.status.busy": "2021-11-22T12:39:31.548147Z",
     "iopub.status.idle": "2021-11-22T12:39:31.920682Z",
     "shell.execute_reply": "2021-11-22T12:39:31.919819Z",
     "shell.execute_reply.started": "2021-11-22T12:35:57.285772Z"
    },
    "papermill": {
     "duration": 0.450891,
     "end_time": "2021-11-22T12:39:31.920843",
     "exception": false,
     "start_time": "2021-11-22T12:39:31.469952",
     "status": "completed"
    },
    "tags": []
   },
   "outputs": [
    {
     "data": {
      "text/plain": [
       "<AxesSubplot:>"
      ]
     },
     "execution_count": 29,
     "metadata": {},
     "output_type": "execute_result"
    },
    {
     "data": {
      "image/png": "[encoded data removed]",
      "text/plain": [
       "<Figure size 432x288 with 1 Axes>"
      ]
     },
     "metadata": {
      "needs_background": "light"
     },
     "output_type": "display_data"
    }
   ],
   "source": [
    "data.price.hist(bins=60)"
   ]
  },
  {
   "cell_type": "markdown",
   "id": "7bab505c",
   "metadata": {
    "papermill": {
     "duration": 0.077099,
     "end_time": "2021-11-22T12:39:32.075031",
     "exception": false,
     "start_time": "2021-11-22T12:39:31.997932",
     "status": "completed"
    },
    "tags": []
   },
   "source": [
    "**I don't like outliers after 30000, let's see what they include**"
   ]
  },
  {
   "cell_type": "code",
   "execution_count": 30,
   "id": "75ec8e77",
   "metadata": {
    "execution": {
     "iopub.execute_input": "2021-11-22T12:39:32.233653Z",
     "iopub.status.busy": "2021-11-22T12:39:32.232635Z",
     "iopub.status.idle": "2021-11-22T12:39:32.912000Z",
     "shell.execute_reply": "2021-11-22T12:39:32.912538Z",
     "shell.execute_reply.started": "2021-11-22T12:35:57.634458Z"
    },
    "papermill": {
     "duration": 0.760109,
     "end_time": "2021-11-22T12:39:32.912790",
     "exception": false,
     "start_time": "2021-11-22T12:39:32.152681",
     "status": "completed"
    },
    "tags": []
   },
   "outputs": [
    {
     "data": {
      "text/plain": [
       "<AxesSubplot:xlabel='price', ylabel='model'>"
      ]
     },
     "execution_count": 30,
     "metadata": {},
     "output_type": "execute_result"
    },
    {
     "data": {
      "image/png": "[encoded data removed]",
      "text/plain": [
       "<Figure size 720x1080 with 1 Axes>"
      ]
     },
     "metadata": {
      "needs_background": "light"
     },
     "output_type": "display_data"
    }
   ],
   "source": [
    "plt.figure(figsize=(10,15))\n",
    "sns.boxenplot(x=\"price\", y=\"model\",\n",
    "              color=\"b\",\n",
    "              scale=\"linear\", data=data)"
   ]
  },
  {
   "cell_type": "markdown",
   "id": "e0e442f4",
   "metadata": {
    "papermill": {
     "duration": 0.084585,
     "end_time": "2021-11-22T12:39:33.077263",
     "exception": false,
     "start_time": "2021-11-22T12:39:32.992678",
     "status": "completed"
    },
    "tags": []
   },
   "source": [
    "**The graph shows that all `mustang` models fall into these outliers, if we remove them, the algorithm will not predict their cost.**"
   ]
  },
  {
   "cell_type": "code",
   "execution_count": 31,
   "id": "9e91b80c",
   "metadata": {
    "execution": {
     "iopub.execute_input": "2021-11-22T12:39:33.243763Z",
     "iopub.status.busy": "2021-11-22T12:39:33.242703Z",
     "iopub.status.idle": "2021-11-22T12:39:33.256692Z",
     "shell.execute_reply": "2021-11-22T12:39:33.257402Z",
     "shell.execute_reply.started": "2021-11-22T12:35:58.404274Z"
    },
    "papermill": {
     "duration": 0.100427,
     "end_time": "2021-11-22T12:39:33.257676",
     "exception": false,
     "start_time": "2021-11-22T12:39:33.157249",
     "status": "completed"
    },
    "tags": []
   },
   "outputs": [
    {
     "name": "stdout",
     "output_type": "stream",
     "text": [
      "Mustang models: 57\n",
      "Percentage of mustang models: 0.32 %\n"
     ]
    }
   ],
   "source": [
    "print('Mustang models:', len(data[data['model'] == 'mustang']))\n",
    "print('Percentage of mustang models:', round(len(data[data['model'] =='mustang'])*100/len(data), 2), '%')"
   ]
  },
  {
   "cell_type": "code",
   "execution_count": 32,
   "id": "7b35ab6f",
   "metadata": {
    "execution": {
     "iopub.execute_input": "2021-11-22T12:39:33.422940Z",
     "iopub.status.busy": "2021-11-22T12:39:33.422268Z",
     "iopub.status.idle": "2021-11-22T12:39:33.426226Z",
     "shell.execute_reply": "2021-11-22T12:39:33.426785Z",
     "shell.execute_reply.started": "2021-11-22T12:35:58.420973Z"
    },
    "papermill": {
     "duration": 0.088365,
     "end_time": "2021-11-22T12:39:33.426965",
     "exception": false,
     "start_time": "2021-11-22T12:39:33.338600",
     "status": "completed"
    },
    "tags": []
   },
   "outputs": [],
   "source": [
    "data_mean, data_std = np.mean(data.price), np.std(data.price)\n",
    "cut_off = data_std * 3\n",
    "lower, upper = data_mean - cut_off, data_mean + cut_off"
   ]
  },
  {
   "cell_type": "code",
   "execution_count": 33,
   "id": "6ff7e7fa",
   "metadata": {
    "execution": {
     "iopub.execute_input": "2021-11-22T12:39:33.590126Z",
     "iopub.status.busy": "2021-11-22T12:39:33.589433Z",
     "iopub.status.idle": "2021-11-22T12:39:33.599498Z",
     "shell.execute_reply": "2021-11-22T12:39:33.600126Z",
     "shell.execute_reply.started": "2021-11-22T12:35:58.430311Z"
    },
    "papermill": {
     "duration": 0.093463,
     "end_time": "2021-11-22T12:39:33.600315",
     "exception": false,
     "start_time": "2021-11-22T12:39:33.506852",
     "status": "completed"
    },
    "scrolled": true,
    "tags": []
   },
   "outputs": [
    {
     "name": "stdout",
     "output_type": "stream",
     "text": [
      "Outliers: 176\n",
      "Percentage of emissions: 0.99 %\n"
     ]
    }
   ],
   "source": [
    "print('Outliers:', len(data[~data['price'].between(lower, upper)]))\n",
    "print('Percentage of emissions:', round(len(data[~data['price'].between(lower, upper)])*100/len(data), 2), '%')"
   ]
  },
  {
   "cell_type": "code",
   "execution_count": 34,
   "id": "f9a9a966",
   "metadata": {
    "execution": {
     "iopub.execute_input": "2021-11-22T12:39:33.765286Z",
     "iopub.status.busy": "2021-11-22T12:39:33.764657Z",
     "iopub.status.idle": "2021-11-22T12:39:33.772539Z",
     "shell.execute_reply": "2021-11-22T12:39:33.773087Z",
     "shell.execute_reply.started": "2021-11-22T12:35:58.447420Z"
    },
    "papermill": {
     "duration": 0.092019,
     "end_time": "2021-11-22T12:39:33.773276",
     "exception": false,
     "start_time": "2021-11-22T12:39:33.681257",
     "status": "completed"
    },
    "tags": []
   },
   "outputs": [],
   "source": [
    "data = data[data['price'].between(lower, upper)]"
   ]
  },
  {
   "cell_type": "markdown",
   "id": "c7df8f60",
   "metadata": {
    "papermill": {
     "duration": 0.07934,
     "end_time": "2021-11-22T12:39:33.933184",
     "exception": false,
     "start_time": "2021-11-22T12:39:33.853844",
     "status": "completed"
    },
    "tags": []
   },
   "source": [
    "**There are very few mustangs in the dataset - 99.68% of other Ford models. A third of the outliers are mustangs, the rest are other models. If we leave the mustangs, they will correlate very strongly with the price, overshadowing other signs in our training. So let's remove all outliers. The price distribution is close to the normal distribution, so we use 3 standard deviations to remove outliers.**"
   ]
  },
  {
   "cell_type": "markdown",
   "id": "10f62093",
   "metadata": {
    "papermill": {
     "duration": 0.081027,
     "end_time": "2021-11-22T12:39:34.095147",
     "exception": false,
     "start_time": "2021-11-22T12:39:34.014120",
     "status": "completed"
    },
    "tags": []
   },
   "source": [
    "## transmission"
   ]
  },
  {
   "cell_type": "code",
   "execution_count": 35,
   "id": "fe99a86e",
   "metadata": {
    "execution": {
     "iopub.execute_input": "2021-11-22T12:39:34.269051Z",
     "iopub.status.busy": "2021-11-22T12:39:34.268074Z",
     "iopub.status.idle": "2021-11-22T12:39:34.272714Z",
     "shell.execute_reply": "2021-11-22T12:39:34.272052Z",
     "shell.execute_reply.started": "2021-11-22T12:35:58.457390Z"
    },
    "papermill": {
     "duration": 0.098089,
     "end_time": "2021-11-22T12:39:34.272859",
     "exception": false,
     "start_time": "2021-11-22T12:39:34.174770",
     "status": "completed"
    },
    "tags": []
   },
   "outputs": [
    {
     "data": {
      "text/plain": [
       "manual       15319\n",
       "automatic     1296\n",
       "semi-auto     1019\n",
       "Name: transmission, dtype: int64"
      ]
     },
     "execution_count": 35,
     "metadata": {},
     "output_type": "execute_result"
    }
   ],
   "source": [
    "data.transmission.value_counts()"
   ]
  },
  {
   "cell_type": "markdown",
   "id": "896370d1",
   "metadata": {
    "papermill": {
     "duration": 0.079459,
     "end_time": "2021-11-22T12:39:34.433757",
     "exception": false,
     "start_time": "2021-11-22T12:39:34.354298",
     "status": "completed"
    },
    "tags": []
   },
   "source": [
    "**Most of it is `manual` transmission**"
   ]
  },
  {
   "cell_type": "code",
   "execution_count": 36,
   "id": "b026ca43",
   "metadata": {
    "execution": {
     "iopub.execute_input": "2021-11-22T12:39:34.605599Z",
     "iopub.status.busy": "2021-11-22T12:39:34.604883Z",
     "iopub.status.idle": "2021-11-22T12:39:34.615994Z",
     "shell.execute_reply": "2021-11-22T12:39:34.616527Z",
     "shell.execute_reply.started": "2021-11-22T12:35:58.474470Z"
    },
    "papermill": {
     "duration": 0.103821,
     "end_time": "2021-11-22T12:39:34.616739",
     "exception": false,
     "start_time": "2021-11-22T12:39:34.512918",
     "status": "completed"
    },
    "tags": []
   },
   "outputs": [
    {
     "name": "stdout",
     "output_type": "stream",
     "text": [
      "<class 'pandas.core.frame.DataFrame'>\n",
      "Int64Index: 17634 entries, 0 to 17964\n",
      "Data columns (total 9 columns):\n",
      " #   Column        Non-Null Count  Dtype  \n",
      "---  ------        --------------  -----  \n",
      " 0   model         17634 non-null  object \n",
      " 1   year          17634 non-null  int64  \n",
      " 2   price         17634 non-null  int64  \n",
      " 3   transmission  17634 non-null  object \n",
      " 4   mileage       17634 non-null  int64  \n",
      " 5   fuelType      17634 non-null  object \n",
      " 6   tax           17634 non-null  int64  \n",
      " 7   mpg           17634 non-null  float64\n",
      " 8   engineSize    17634 non-null  float64\n",
      "dtypes: float64(2), int64(4), object(3)\n",
      "memory usage: 1.3+ MB\n"
     ]
    }
   ],
   "source": [
    "data.info()"
   ]
  },
  {
   "cell_type": "code",
   "execution_count": 37,
   "id": "5781bba2",
   "metadata": {
    "execution": {
     "iopub.execute_input": "2021-11-22T12:39:34.784607Z",
     "iopub.status.busy": "2021-11-22T12:39:34.783930Z",
     "iopub.status.idle": "2021-11-22T12:39:34.803877Z",
     "shell.execute_reply": "2021-11-22T12:39:34.804354Z",
     "shell.execute_reply.started": "2021-11-22T12:35:58.502649Z"
    },
    "papermill": {
     "duration": 0.105693,
     "end_time": "2021-11-22T12:39:34.804572",
     "exception": false,
     "start_time": "2021-11-22T12:39:34.698879",
     "status": "completed"
    },
    "tags": []
   },
   "outputs": [],
   "source": [
    "data = pd.get_dummies(data)"
   ]
  },
  {
   "cell_type": "markdown",
   "id": "dc45c1c3",
   "metadata": {
    "papermill": {
     "duration": 0.08434,
     "end_time": "2021-11-22T12:39:34.970469",
     "exception": false,
     "start_time": "2021-11-22T12:39:34.886129",
     "status": "completed"
    },
    "tags": []
   },
   "source": [
    "**Let's apply the `get_dummies` method to the features `model`, `transmission`, `FuelType`**"
   ]
  },
  {
   "cell_type": "code",
   "execution_count": 38,
   "id": "20c0f49e",
   "metadata": {
    "execution": {
     "iopub.execute_input": "2021-11-22T12:39:35.135215Z",
     "iopub.status.busy": "2021-11-22T12:39:35.134478Z",
     "iopub.status.idle": "2021-11-22T12:39:35.164384Z",
     "shell.execute_reply": "2021-11-22T12:39:35.163817Z",
     "shell.execute_reply.started": "2021-11-22T12:35:58.525708Z"
    },
    "papermill": {
     "duration": 0.113791,
     "end_time": "2021-11-22T12:39:35.164538",
     "exception": false,
     "start_time": "2021-11-22T12:39:35.050747",
     "status": "completed"
    },
    "tags": []
   },
   "outputs": [
    {
     "data": {
      "text/html": [
       "<div>\n",
       "<style scoped>\n",
       "    .dataframe tbody tr th:only-of-type {\n",
       "        vertical-align: middle;\n",
       "    }\n",
       "\n",
       "    .dataframe tbody tr th {\n",
       "        vertical-align: top;\n",
       "    }\n",
       "\n",
       "    .dataframe thead th {\n",
       "        text-align: right;\n",
       "    }\n",
       "</style>\n",
       "<table border=\"1\" class=\"dataframe\">\n",
       "  <thead>\n",
       "    <tr style=\"text-align: right;\">\n",
       "      <th></th>\n",
       "      <th>year</th>\n",
       "      <th>price</th>\n",
       "      <th>mileage</th>\n",
       "      <th>tax</th>\n",
       "      <th>mpg</th>\n",
       "      <th>engineSize</th>\n",
       "      <th>model_b-max</th>\n",
       "      <th>model_c-max</th>\n",
       "      <th>model_ecosport</th>\n",
       "      <th>model_edge</th>\n",
       "      <th>...</th>\n",
       "      <th>model_tourneoconnect</th>\n",
       "      <th>model_tourneocustom</th>\n",
       "      <th>model_transittourneo</th>\n",
       "      <th>transmission_automatic</th>\n",
       "      <th>transmission_manual</th>\n",
       "      <th>transmission_semi-auto</th>\n",
       "      <th>fuelType_diesel</th>\n",
       "      <th>fuelType_electric</th>\n",
       "      <th>fuelType_hybrid</th>\n",
       "      <th>fuelType_petrol</th>\n",
       "    </tr>\n",
       "  </thead>\n",
       "  <tbody>\n",
       "    <tr>\n",
       "      <th>0</th>\n",
       "      <td>4</td>\n",
       "      <td>12000</td>\n",
       "      <td>15944</td>\n",
       "      <td>150</td>\n",
       "      <td>57.7</td>\n",
       "      <td>1.0</td>\n",
       "      <td>0</td>\n",
       "      <td>0</td>\n",
       "      <td>0</td>\n",
       "      <td>0</td>\n",
       "      <td>...</td>\n",
       "      <td>0</td>\n",
       "      <td>0</td>\n",
       "      <td>0</td>\n",
       "      <td>1</td>\n",
       "      <td>0</td>\n",
       "      <td>0</td>\n",
       "      <td>0</td>\n",
       "      <td>0</td>\n",
       "      <td>0</td>\n",
       "      <td>1</td>\n",
       "    </tr>\n",
       "    <tr>\n",
       "      <th>1</th>\n",
       "      <td>3</td>\n",
       "      <td>14000</td>\n",
       "      <td>9083</td>\n",
       "      <td>150</td>\n",
       "      <td>57.7</td>\n",
       "      <td>1.0</td>\n",
       "      <td>0</td>\n",
       "      <td>0</td>\n",
       "      <td>0</td>\n",
       "      <td>0</td>\n",
       "      <td>...</td>\n",
       "      <td>0</td>\n",
       "      <td>0</td>\n",
       "      <td>0</td>\n",
       "      <td>0</td>\n",
       "      <td>1</td>\n",
       "      <td>0</td>\n",
       "      <td>0</td>\n",
       "      <td>0</td>\n",
       "      <td>0</td>\n",
       "      <td>1</td>\n",
       "    </tr>\n",
       "    <tr>\n",
       "      <th>2</th>\n",
       "      <td>4</td>\n",
       "      <td>13000</td>\n",
       "      <td>12456</td>\n",
       "      <td>150</td>\n",
       "      <td>57.7</td>\n",
       "      <td>1.0</td>\n",
       "      <td>0</td>\n",
       "      <td>0</td>\n",
       "      <td>0</td>\n",
       "      <td>0</td>\n",
       "      <td>...</td>\n",
       "      <td>0</td>\n",
       "      <td>0</td>\n",
       "      <td>0</td>\n",
       "      <td>0</td>\n",
       "      <td>1</td>\n",
       "      <td>0</td>\n",
       "      <td>0</td>\n",
       "      <td>0</td>\n",
       "      <td>0</td>\n",
       "      <td>1</td>\n",
       "    </tr>\n",
       "    <tr>\n",
       "      <th>3</th>\n",
       "      <td>2</td>\n",
       "      <td>17500</td>\n",
       "      <td>10460</td>\n",
       "      <td>145</td>\n",
       "      <td>40.3</td>\n",
       "      <td>1.5</td>\n",
       "      <td>0</td>\n",
       "      <td>0</td>\n",
       "      <td>0</td>\n",
       "      <td>0</td>\n",
       "      <td>...</td>\n",
       "      <td>0</td>\n",
       "      <td>0</td>\n",
       "      <td>0</td>\n",
       "      <td>0</td>\n",
       "      <td>1</td>\n",
       "      <td>0</td>\n",
       "      <td>0</td>\n",
       "      <td>0</td>\n",
       "      <td>0</td>\n",
       "      <td>1</td>\n",
       "    </tr>\n",
       "    <tr>\n",
       "      <th>4</th>\n",
       "      <td>2</td>\n",
       "      <td>16500</td>\n",
       "      <td>1482</td>\n",
       "      <td>145</td>\n",
       "      <td>48.7</td>\n",
       "      <td>1.0</td>\n",
       "      <td>0</td>\n",
       "      <td>0</td>\n",
       "      <td>0</td>\n",
       "      <td>0</td>\n",
       "      <td>...</td>\n",
       "      <td>0</td>\n",
       "      <td>0</td>\n",
       "      <td>0</td>\n",
       "      <td>1</td>\n",
       "      <td>0</td>\n",
       "      <td>0</td>\n",
       "      <td>0</td>\n",
       "      <td>0</td>\n",
       "      <td>0</td>\n",
       "      <td>1</td>\n",
       "    </tr>\n",
       "    <tr>\n",
       "      <th>...</th>\n",
       "      <td>...</td>\n",
       "      <td>...</td>\n",
       "      <td>...</td>\n",
       "      <td>...</td>\n",
       "      <td>...</td>\n",
       "      <td>...</td>\n",
       "      <td>...</td>\n",
       "      <td>...</td>\n",
       "      <td>...</td>\n",
       "      <td>...</td>\n",
       "      <td>...</td>\n",
       "      <td>...</td>\n",
       "      <td>...</td>\n",
       "      <td>...</td>\n",
       "      <td>...</td>\n",
       "      <td>...</td>\n",
       "      <td>...</td>\n",
       "      <td>...</td>\n",
       "      <td>...</td>\n",
       "      <td>...</td>\n",
       "      <td>...</td>\n",
       "    </tr>\n",
       "    <tr>\n",
       "      <th>17960</th>\n",
       "      <td>5</td>\n",
       "      <td>7999</td>\n",
       "      <td>31348</td>\n",
       "      <td>125</td>\n",
       "      <td>54.3</td>\n",
       "      <td>1.2</td>\n",
       "      <td>0</td>\n",
       "      <td>0</td>\n",
       "      <td>0</td>\n",
       "      <td>0</td>\n",
       "      <td>...</td>\n",
       "      <td>0</td>\n",
       "      <td>0</td>\n",
       "      <td>0</td>\n",
       "      <td>0</td>\n",
       "      <td>1</td>\n",
       "      <td>0</td>\n",
       "      <td>0</td>\n",
       "      <td>0</td>\n",
       "      <td>0</td>\n",
       "      <td>1</td>\n",
       "    </tr>\n",
       "    <tr>\n",
       "      <th>17961</th>\n",
       "      <td>4</td>\n",
       "      <td>8999</td>\n",
       "      <td>16700</td>\n",
       "      <td>150</td>\n",
       "      <td>47.1</td>\n",
       "      <td>1.4</td>\n",
       "      <td>1</td>\n",
       "      <td>0</td>\n",
       "      <td>0</td>\n",
       "      <td>0</td>\n",
       "      <td>...</td>\n",
       "      <td>0</td>\n",
       "      <td>0</td>\n",
       "      <td>0</td>\n",
       "      <td>0</td>\n",
       "      <td>1</td>\n",
       "      <td>0</td>\n",
       "      <td>0</td>\n",
       "      <td>0</td>\n",
       "      <td>0</td>\n",
       "      <td>1</td>\n",
       "    </tr>\n",
       "    <tr>\n",
       "      <th>17962</th>\n",
       "      <td>7</td>\n",
       "      <td>7499</td>\n",
       "      <td>40700</td>\n",
       "      <td>30</td>\n",
       "      <td>57.7</td>\n",
       "      <td>1.0</td>\n",
       "      <td>1</td>\n",
       "      <td>0</td>\n",
       "      <td>0</td>\n",
       "      <td>0</td>\n",
       "      <td>...</td>\n",
       "      <td>0</td>\n",
       "      <td>0</td>\n",
       "      <td>0</td>\n",
       "      <td>0</td>\n",
       "      <td>1</td>\n",
       "      <td>0</td>\n",
       "      <td>0</td>\n",
       "      <td>0</td>\n",
       "      <td>0</td>\n",
       "      <td>1</td>\n",
       "    </tr>\n",
       "    <tr>\n",
       "      <th>17963</th>\n",
       "      <td>6</td>\n",
       "      <td>9999</td>\n",
       "      <td>7010</td>\n",
       "      <td>20</td>\n",
       "      <td>67.3</td>\n",
       "      <td>1.6</td>\n",
       "      <td>0</td>\n",
       "      <td>0</td>\n",
       "      <td>0</td>\n",
       "      <td>0</td>\n",
       "      <td>...</td>\n",
       "      <td>0</td>\n",
       "      <td>0</td>\n",
       "      <td>0</td>\n",
       "      <td>0</td>\n",
       "      <td>1</td>\n",
       "      <td>0</td>\n",
       "      <td>1</td>\n",
       "      <td>0</td>\n",
       "      <td>0</td>\n",
       "      <td>0</td>\n",
       "    </tr>\n",
       "    <tr>\n",
       "      <th>17964</th>\n",
       "      <td>3</td>\n",
       "      <td>8299</td>\n",
       "      <td>5007</td>\n",
       "      <td>145</td>\n",
       "      <td>57.7</td>\n",
       "      <td>1.2</td>\n",
       "      <td>0</td>\n",
       "      <td>0</td>\n",
       "      <td>0</td>\n",
       "      <td>0</td>\n",
       "      <td>...</td>\n",
       "      <td>0</td>\n",
       "      <td>0</td>\n",
       "      <td>0</td>\n",
       "      <td>0</td>\n",
       "      <td>1</td>\n",
       "      <td>0</td>\n",
       "      <td>0</td>\n",
       "      <td>0</td>\n",
       "      <td>0</td>\n",
       "      <td>1</td>\n",
       "    </tr>\n",
       "  </tbody>\n",
       "</table>\n",
       "<p>17634 rows × 36 columns</p>\n",
       "</div>"
      ],
      "text/plain": [
       "       year  price  mileage  tax   mpg  engineSize  model_b-max  model_c-max  \\\n",
       "0         4  12000    15944  150  57.7         1.0            0            0   \n",
       "1         3  14000     9083  150  57.7         1.0            0            0   \n",
       "2         4  13000    12456  150  57.7         1.0            0            0   \n",
       "3         2  17500    10460  145  40.3         1.5            0            0   \n",
       "4         2  16500     1482  145  48.7         1.0            0            0   \n",
       "...     ...    ...      ...  ...   ...         ...          ...          ...   \n",
       "17960     5   7999    31348  125  54.3         1.2            0            0   \n",
       "17961     4   8999    16700  150  47.1         1.4            1            0   \n",
       "17962     7   7499    40700   30  57.7         1.0            1            0   \n",
       "17963     6   9999     7010   20  67.3         1.6            0            0   \n",
       "17964     3   8299     5007  145  57.7         1.2            0            0   \n",
       "\n",
       "       model_ecosport  model_edge  ...  model_tourneoconnect  \\\n",
       "0                   0           0  ...                     0   \n",
       "1                   0           0  ...                     0   \n",
       "2                   0           0  ...                     0   \n",
       "3                   0           0  ...                     0   \n",
       "4                   0           0  ...                     0   \n",
       "...               ...         ...  ...                   ...   \n",
       "17960               0           0  ...                     0   \n",
       "17961               0           0  ...                     0   \n",
       "17962               0           0  ...                     0   \n",
       "17963               0           0  ...                     0   \n",
       "17964               0           0  ...                     0   \n",
       "\n",
       "       model_tourneocustom  model_transittourneo  transmission_automatic  \\\n",
       "0                        0                     0                       1   \n",
       "1                        0                     0                       0   \n",
       "2                        0                     0                       0   \n",
       "3                        0                     0                       0   \n",
       "4                        0                     0                       1   \n",
       "...                    ...                   ...                     ...   \n",
       "17960                    0                     0                       0   \n",
       "17961                    0                     0                       0   \n",
       "17962                    0                     0                       0   \n",
       "17963                    0                     0                       0   \n",
       "17964                    0                     0                       0   \n",
       "\n",
       "       transmission_manual  transmission_semi-auto  fuelType_diesel  \\\n",
       "0                        0                       0                0   \n",
       "1                        1                       0                0   \n",
       "2                        1                       0                0   \n",
       "3                        1                       0                0   \n",
       "4                        0                       0                0   \n",
       "...                    ...                     ...              ...   \n",
       "17960                    1                       0                0   \n",
       "17961                    1                       0                0   \n",
       "17962                    1                       0                0   \n",
       "17963                    1                       0                1   \n",
       "17964                    1                       0                0   \n",
       "\n",
       "       fuelType_electric  fuelType_hybrid  fuelType_petrol  \n",
       "0                      0                0                1  \n",
       "1                      0                0                1  \n",
       "2                      0                0                1  \n",
       "3                      0                0                1  \n",
       "4                      0                0                1  \n",
       "...                  ...              ...              ...  \n",
       "17960                  0                0                1  \n",
       "17961                  0                0                1  \n",
       "17962                  0                0                1  \n",
       "17963                  0                0                0  \n",
       "17964                  0                0                1  \n",
       "\n",
       "[17634 rows x 36 columns]"
      ]
     },
     "execution_count": 38,
     "metadata": {},
     "output_type": "execute_result"
    }
   ],
   "source": [
    "data"
   ]
  },
  {
   "cell_type": "markdown",
   "id": "de858346",
   "metadata": {
    "papermill": {
     "duration": 0.081033,
     "end_time": "2021-11-22T12:39:35.326767",
     "exception": false,
     "start_time": "2021-11-22T12:39:35.245734",
     "status": "completed"
    },
    "tags": []
   },
   "source": [
    "**We removed outliers, applied the `get_dummies` method to text (categorical) variables, and replaced the `year`.**  \n",
    "  \n",
    "**In total, we have 17634 elements and 36 variables.**"
   ]
  },
  {
   "cell_type": "markdown",
   "id": "d39fd0cd",
   "metadata": {
    "papermill": {
     "duration": 0.08055,
     "end_time": "2021-11-22T12:39:35.488509",
     "exception": false,
     "start_time": "2021-11-22T12:39:35.407959",
     "status": "completed"
    },
    "tags": []
   },
   "source": [
    "# Training the model"
   ]
  },
  {
   "cell_type": "markdown",
   "id": "5e690c9e",
   "metadata": {
    "papermill": {
     "duration": 0.08083,
     "end_time": "2021-11-22T12:39:35.650399",
     "exception": false,
     "start_time": "2021-11-22T12:39:35.569569",
     "status": "completed"
    },
    "tags": []
   },
   "source": [
    "## Correlation"
   ]
  },
  {
   "cell_type": "code",
   "execution_count": 39,
   "id": "3a6071c0",
   "metadata": {
    "execution": {
     "iopub.execute_input": "2021-11-22T12:39:35.816493Z",
     "iopub.status.busy": "2021-11-22T12:39:35.815822Z",
     "iopub.status.idle": "2021-11-22T12:39:35.910489Z",
     "shell.execute_reply": "2021-11-22T12:39:35.909927Z",
     "shell.execute_reply.started": "2021-11-22T12:35:58.556790Z"
    },
    "papermill": {
     "duration": 0.179595,
     "end_time": "2021-11-22T12:39:35.910706",
     "exception": false,
     "start_time": "2021-11-22T12:39:35.731111",
     "status": "completed"
    },
    "scrolled": true,
    "tags": []
   },
   "outputs": [
    {
     "data": {
      "text/html": [
       "<div>\n",
       "<style scoped>\n",
       "    .dataframe tbody tr th:only-of-type {\n",
       "        vertical-align: middle;\n",
       "    }\n",
       "\n",
       "    .dataframe tbody tr th {\n",
       "        vertical-align: top;\n",
       "    }\n",
       "\n",
       "    .dataframe thead th {\n",
       "        text-align: right;\n",
       "    }\n",
       "</style>\n",
       "<table border=\"1\" class=\"dataframe\">\n",
       "  <thead>\n",
       "    <tr style=\"text-align: right;\">\n",
       "      <th></th>\n",
       "      <th>model_transittourneo</th>\n",
       "      <th>model_ranger</th>\n",
       "      <th>model_mondeo</th>\n",
       "      <th>fuelType_electric</th>\n",
       "      <th>model_escort</th>\n",
       "      <th>model_tourneoconnect</th>\n",
       "      <th>model_ecosport</th>\n",
       "      <th>model_streetka</th>\n",
       "      <th>model_grandc-max</th>\n",
       "      <th>model_grandtourneoconnect</th>\n",
       "      <th>...</th>\n",
       "      <th>fuelType_petrol</th>\n",
       "      <th>transmission_manual</th>\n",
       "      <th>mpg</th>\n",
       "      <th>engineSize</th>\n",
       "      <th>model_kuga</th>\n",
       "      <th>model_fiesta</th>\n",
       "      <th>tax</th>\n",
       "      <th>mileage</th>\n",
       "      <th>year</th>\n",
       "      <th>price</th>\n",
       "    </tr>\n",
       "  </thead>\n",
       "  <tbody>\n",
       "    <tr>\n",
       "      <th>price</th>\n",
       "      <td>0.000651</td>\n",
       "      <td>0.00422</td>\n",
       "      <td>0.004582</td>\n",
       "      <td>0.009114</td>\n",
       "      <td>0.015841</td>\n",
       "      <td>0.017644</td>\n",
       "      <td>0.023767</td>\n",
       "      <td>0.025058</td>\n",
       "      <td>0.033014</td>\n",
       "      <td>0.035483</td>\n",
       "      <td>...</td>\n",
       "      <td>0.210946</td>\n",
       "      <td>0.22009</td>\n",
       "      <td>0.319333</td>\n",
       "      <td>0.321962</td>\n",
       "      <td>0.322776</td>\n",
       "      <td>0.334169</td>\n",
       "      <td>0.419983</td>\n",
       "      <td>0.546682</td>\n",
       "      <td>0.672069</td>\n",
       "      <td>1.0</td>\n",
       "    </tr>\n",
       "  </tbody>\n",
       "</table>\n",
       "<p>1 rows × 36 columns</p>\n",
       "</div>"
      ],
      "text/plain": [
       "       model_transittourneo  model_ranger  model_mondeo  fuelType_electric  \\\n",
       "price              0.000651       0.00422      0.004582           0.009114   \n",
       "\n",
       "       model_escort  model_tourneoconnect  model_ecosport  model_streetka  \\\n",
       "price      0.015841              0.017644        0.023767        0.025058   \n",
       "\n",
       "       model_grandc-max  model_grandtourneoconnect  ...  fuelType_petrol  \\\n",
       "price          0.033014                   0.035483  ...         0.210946   \n",
       "\n",
       "       transmission_manual       mpg  engineSize  model_kuga  model_fiesta  \\\n",
       "price              0.22009  0.319333    0.321962    0.322776      0.334169   \n",
       "\n",
       "            tax   mileage      year  price  \n",
       "price  0.419983  0.546682  0.672069    1.0  \n",
       "\n",
       "[1 rows x 36 columns]"
      ]
     },
     "execution_count": 39,
     "metadata": {},
     "output_type": "execute_result"
    }
   ],
   "source": [
    "pd.DataFrame(data.corr()['price'].abs()).sort_values('price').T"
   ]
  },
  {
   "cell_type": "markdown",
   "id": "d4dbce60",
   "metadata": {
    "papermill": {
     "duration": 0.083568,
     "end_time": "2021-11-22T12:39:36.076521",
     "exception": false,
     "start_time": "2021-11-22T12:39:35.992953",
     "status": "completed"
    },
    "tags": []
   },
   "source": [
    "**Let's build a correlation matrix, transpose it so that it is convenient to read. Variables with low correlation can be deleted now, but let's leave them to delete them at the stage of regression analysis.**"
   ]
  },
  {
   "cell_type": "markdown",
   "id": "c180426b",
   "metadata": {
    "papermill": {
     "duration": 0.081125,
     "end_time": "2021-11-22T12:39:36.239985",
     "exception": false,
     "start_time": "2021-11-22T12:39:36.158860",
     "status": "completed"
    },
    "tags": []
   },
   "source": [
    "## Regression analysis"
   ]
  },
  {
   "cell_type": "code",
   "execution_count": 40,
   "id": "33896b81",
   "metadata": {
    "execution": {
     "iopub.execute_input": "2021-11-22T12:39:36.418081Z",
     "iopub.status.busy": "2021-11-22T12:39:36.417286Z",
     "iopub.status.idle": "2021-11-22T12:39:36.599128Z",
     "shell.execute_reply": "2021-11-22T12:39:36.600170Z",
     "shell.execute_reply.started": "2021-11-22T12:35:58.649818Z"
    },
    "papermill": {
     "duration": 0.271697,
     "end_time": "2021-11-22T12:39:36.600509",
     "exception": false,
     "start_time": "2021-11-22T12:39:36.328812",
     "status": "completed"
    },
    "tags": []
   },
   "outputs": [
    {
     "data": {
      "text/html": [
       "<table class=\"simpletable\">\n",
       "<caption>OLS Regression Results</caption>\n",
       "<tr>\n",
       "  <th>Dep. Variable:</th>          <td>price</td>      <th>  R-squared:         </th>  <td>   0.849</td>  \n",
       "</tr>\n",
       "<tr>\n",
       "  <th>Model:</th>                   <td>OLS</td>       <th>  Adj. R-squared:    </th>  <td>   0.849</td>  \n",
       "</tr>\n",
       "<tr>\n",
       "  <th>Method:</th>             <td>Least Squares</td>  <th>  F-statistic:       </th>  <td>   3103.</td>  \n",
       "</tr>\n",
       "<tr>\n",
       "  <th>Date:</th>             <td>Mon, 22 Nov 2021</td> <th>  Prob (F-statistic):</th>   <td>  0.00</td>   \n",
       "</tr>\n",
       "<tr>\n",
       "  <th>Time:</th>                 <td>12:39:36</td>     <th>  Log-Likelihood:    </th> <td>-1.5592e+05</td>\n",
       "</tr>\n",
       "<tr>\n",
       "  <th>No. Observations:</th>      <td> 17634</td>      <th>  AIC:               </th>  <td>3.119e+05</td> \n",
       "</tr>\n",
       "<tr>\n",
       "  <th>Df Residuals:</th>          <td> 17601</td>      <th>  BIC:               </th>  <td>3.122e+05</td> \n",
       "</tr>\n",
       "<tr>\n",
       "  <th>Df Model:</th>              <td>    32</td>      <th>                     </th>      <td> </td>     \n",
       "</tr>\n",
       "<tr>\n",
       "  <th>Covariance Type:</th>      <td>nonrobust</td>    <th>                     </th>      <td> </td>     \n",
       "</tr>\n",
       "</table>\n",
       "<table class=\"simpletable\">\n",
       "<tr>\n",
       "              <td></td>                 <th>coef</th>     <th>std err</th>      <th>t</th>      <th>P>|t|</th>  <th>[0.025</th>    <th>0.975]</th>  \n",
       "</tr>\n",
       "<tr>\n",
       "  <th>year</th>                      <td>-1094.1352</td> <td>    9.929</td> <td> -110.192</td> <td> 0.000</td> <td>-1113.598</td> <td>-1074.673</td>\n",
       "</tr>\n",
       "<tr>\n",
       "  <th>mileage</th>                   <td>   -0.0596</td> <td>    0.001</td> <td>  -59.564</td> <td> 0.000</td> <td>   -0.062</td> <td>   -0.058</td>\n",
       "</tr>\n",
       "<tr>\n",
       "  <th>tax</th>                       <td>   -0.4448</td> <td>    0.265</td> <td>   -1.680</td> <td> 0.093</td> <td>   -0.964</td> <td>    0.074</td>\n",
       "</tr>\n",
       "<tr>\n",
       "  <th>mpg</th>                       <td>  -95.0571</td> <td>    2.759</td> <td>  -34.450</td> <td> 0.000</td> <td> -100.466</td> <td>  -89.649</td>\n",
       "</tr>\n",
       "<tr>\n",
       "  <th>engineSize</th>                <td> 2064.2864</td> <td>   73.818</td> <td>   27.965</td> <td> 0.000</td> <td> 1919.597</td> <td> 2208.976</td>\n",
       "</tr>\n",
       "<tr>\n",
       "  <th>model_b-max</th>               <td>-2309.8158</td> <td>  163.950</td> <td>  -14.089</td> <td> 0.000</td> <td>-2631.175</td> <td>-1988.457</td>\n",
       "</tr>\n",
       "<tr>\n",
       "  <th>model_c-max</th>               <td>-1241.7059</td> <td>  154.020</td> <td>   -8.062</td> <td> 0.000</td> <td>-1543.601</td> <td> -939.811</td>\n",
       "</tr>\n",
       "<tr>\n",
       "  <th>model_ecosport</th>            <td> -756.5132</td> <td>  146.614</td> <td>   -5.160</td> <td> 0.000</td> <td>-1043.890</td> <td> -469.136</td>\n",
       "</tr>\n",
       "<tr>\n",
       "  <th>model_edge</th>                <td> 5447.2831</td> <td>  186.927</td> <td>   29.141</td> <td> 0.000</td> <td> 5080.888</td> <td> 5813.678</td>\n",
       "</tr>\n",
       "<tr>\n",
       "  <th>model_escort</th>              <td>  1.23e+04</td> <td> 1622.420</td> <td>    7.584</td> <td> 0.000</td> <td> 9124.800</td> <td> 1.55e+04</td>\n",
       "</tr>\n",
       "<tr>\n",
       "  <th>model_fiesta</th>              <td>-1101.6432</td> <td>  145.322</td> <td>   -7.581</td> <td> 0.000</td> <td>-1386.489</td> <td> -816.798</td>\n",
       "</tr>\n",
       "<tr>\n",
       "  <th>model_focus</th>               <td>  865.4839</td> <td>  142.592</td> <td>    6.070</td> <td> 0.000</td> <td>  585.990</td> <td> 1144.978</td>\n",
       "</tr>\n",
       "<tr>\n",
       "  <th>model_fusion</th>              <td> 1045.2634</td> <td>  427.836</td> <td>    2.443</td> <td> 0.015</td> <td>  206.663</td> <td> 1883.864</td>\n",
       "</tr>\n",
       "<tr>\n",
       "  <th>model_galaxy</th>              <td> 4156.2799</td> <td>  175.921</td> <td>   23.626</td> <td> 0.000</td> <td> 3811.458</td> <td> 4501.102</td>\n",
       "</tr>\n",
       "<tr>\n",
       "  <th>model_grandc-max</th>          <td> -860.9272</td> <td>  171.006</td> <td>   -5.034</td> <td> 0.000</td> <td>-1196.116</td> <td> -525.738</td>\n",
       "</tr>\n",
       "<tr>\n",
       "  <th>model_grandtourneoconnect</th> <td> 1531.1672</td> <td>  253.551</td> <td>    6.039</td> <td> 0.000</td> <td> 1034.183</td> <td> 2028.151</td>\n",
       "</tr>\n",
       "<tr>\n",
       "  <th>model_ka</th>                  <td>-2841.4751</td> <td>  182.725</td> <td>  -15.551</td> <td> 0.000</td> <td>-3199.635</td> <td>-2483.316</td>\n",
       "</tr>\n",
       "<tr>\n",
       "  <th>model_ka+</th>                 <td>-5213.0790</td> <td>  157.320</td> <td>  -33.137</td> <td> 0.000</td> <td>-5521.442</td> <td>-4904.716</td>\n",
       "</tr>\n",
       "<tr>\n",
       "  <th>model_kuga</th>                <td> 1328.5245</td> <td>  140.792</td> <td>    9.436</td> <td> 0.000</td> <td> 1052.559</td> <td> 1604.490</td>\n",
       "</tr>\n",
       "<tr>\n",
       "  <th>model_mondeo</th>              <td>  702.1669</td> <td>  157.456</td> <td>    4.459</td> <td> 0.000</td> <td>  393.538</td> <td> 1010.796</td>\n",
       "</tr>\n",
       "<tr>\n",
       "  <th>model_mustang</th>             <td> 6905.2041</td> <td>  744.075</td> <td>    9.280</td> <td> 0.000</td> <td> 5446.744</td> <td> 8363.664</td>\n",
       "</tr>\n",
       "<tr>\n",
       "  <th>model_puma</th>                <td> 5605.0937</td> <td>  229.410</td> <td>   24.433</td> <td> 0.000</td> <td> 5155.428</td> <td> 6054.759</td>\n",
       "</tr>\n",
       "<tr>\n",
       "  <th>model_ranger</th>              <td> 3273.1620</td> <td> 1615.010</td> <td>    2.027</td> <td> 0.043</td> <td>  107.582</td> <td> 6438.742</td>\n",
       "</tr>\n",
       "<tr>\n",
       "  <th>model_s-max</th>               <td> 3648.5030</td> <td>  167.720</td> <td>   21.754</td> <td> 0.000</td> <td> 3319.756</td> <td> 3977.250</td>\n",
       "</tr>\n",
       "<tr>\n",
       "  <th>model_streetka</th>            <td> 2469.0896</td> <td> 1147.399</td> <td>    2.152</td> <td> 0.031</td> <td>  220.074</td> <td> 4718.105</td>\n",
       "</tr>\n",
       "<tr>\n",
       "  <th>model_tourneoconnect</th>      <td>  770.3843</td> <td>  315.593</td> <td>    2.441</td> <td> 0.015</td> <td>  151.791</td> <td> 1388.977</td>\n",
       "</tr>\n",
       "<tr>\n",
       "  <th>model_tourneocustom</th>       <td> 3637.8330</td> <td>  249.821</td> <td>   14.562</td> <td> 0.000</td> <td> 3148.159</td> <td> 4127.507</td>\n",
       "</tr>\n",
       "<tr>\n",
       "  <th>model_transittourneo</th>      <td> -568.7349</td> <td> 1612.964</td> <td>   -0.353</td> <td> 0.724</td> <td>-3730.304</td> <td> 2592.834</td>\n",
       "</tr>\n",
       "<tr>\n",
       "  <th>transmission_automatic</th>    <td> 1.311e+04</td> <td>  209.079</td> <td>   62.710</td> <td> 0.000</td> <td> 1.27e+04</td> <td> 1.35e+04</td>\n",
       "</tr>\n",
       "<tr>\n",
       "  <th>transmission_manual</th>       <td> 1.277e+04</td> <td>  215.075</td> <td>   59.369</td> <td> 0.000</td> <td> 1.23e+04</td> <td> 1.32e+04</td>\n",
       "</tr>\n",
       "<tr>\n",
       "  <th>transmission_semi-auto</th>    <td> 1.292e+04</td> <td>  212.739</td> <td>   60.714</td> <td> 0.000</td> <td> 1.25e+04</td> <td> 1.33e+04</td>\n",
       "</tr>\n",
       "<tr>\n",
       "  <th>fuelType_diesel</th>           <td> 8646.2760</td> <td>  206.538</td> <td>   41.863</td> <td> 0.000</td> <td> 8241.440</td> <td> 9051.112</td>\n",
       "</tr>\n",
       "<tr>\n",
       "  <th>fuelType_electric</th>         <td> 1.044e+04</td> <td>  839.808</td> <td>   12.436</td> <td> 0.000</td> <td> 8797.831</td> <td> 1.21e+04</td>\n",
       "</tr>\n",
       "<tr>\n",
       "  <th>fuelType_hybrid</th>           <td> 1.177e+04</td> <td>  395.888</td> <td>   29.736</td> <td> 0.000</td> <td>  1.1e+04</td> <td> 1.25e+04</td>\n",
       "</tr>\n",
       "<tr>\n",
       "  <th>fuelType_petrol</th>           <td> 7934.1836</td> <td>  181.996</td> <td>   43.595</td> <td> 0.000</td> <td> 7577.453</td> <td> 8290.914</td>\n",
       "</tr>\n",
       "</table>\n",
       "<table class=\"simpletable\">\n",
       "<tr>\n",
       "  <th>Omnibus:</th>       <td>1374.392</td> <th>  Durbin-Watson:     </th> <td>   1.765</td>\n",
       "</tr>\n",
       "<tr>\n",
       "  <th>Prob(Omnibus):</th>  <td> 0.000</td>  <th>  Jarque-Bera (JB):  </th> <td>2850.429</td>\n",
       "</tr>\n",
       "<tr>\n",
       "  <th>Skew:</th>           <td> 0.521</td>  <th>  Prob(JB):          </th> <td>    0.00</td>\n",
       "</tr>\n",
       "<tr>\n",
       "  <th>Kurtosis:</th>       <td> 4.671</td>  <th>  Cond. No.          </th> <td>1.12e+16</td>\n",
       "</tr>\n",
       "</table><br/><br/>Notes:<br/>[1] Standard Errors assume that the covariance matrix of the errors is correctly specified.<br/>[2] The smallest eigenvalue is 1.31e-19. This might indicate that there are<br/>strong multicollinearity problems or that the design matrix is singular."
      ],
      "text/plain": [
       "<class 'statsmodels.iolib.summary.Summary'>\n",
       "\"\"\"\n",
       "                            OLS Regression Results                            \n",
       "==============================================================================\n",
       "Dep. Variable:                  price   R-squared:                       0.849\n",
       "Model:                            OLS   Adj. R-squared:                  0.849\n",
       "Method:                 Least Squares   F-statistic:                     3103.\n",
       "Date:                Mon, 22 Nov 2021   Prob (F-statistic):               0.00\n",
       "Time:                        12:39:36   Log-Likelihood:            -1.5592e+05\n",
       "No. Observations:               17634   AIC:                         3.119e+05\n",
       "Df Residuals:                   17601   BIC:                         3.122e+05\n",
       "Df Model:                          32                                         \n",
       "Covariance Type:            nonrobust                                         \n",
       "=============================================================================================\n",
       "                                coef    std err          t      P>|t|      [0.025      0.975]\n",
       "---------------------------------------------------------------------------------------------\n",
       "year                      -1094.1352      9.929   -110.192      0.000   -1113.598   -1074.673\n",
       "mileage                      -0.0596      0.001    -59.564      0.000      -0.062      -0.058\n",
       "tax                          -0.4448      0.265     -1.680      0.093      -0.964       0.074\n",
       "mpg                         -95.0571      2.759    -34.450      0.000    -100.466     -89.649\n",
       "engineSize                 2064.2864     73.818     27.965      0.000    1919.597    2208.976\n",
       "model_b-max               -2309.8158    163.950    -14.089      0.000   -2631.175   -1988.457\n",
       "model_c-max               -1241.7059    154.020     -8.062      0.000   -1543.601    -939.811\n",
       "model_ecosport             -756.5132    146.614     -5.160      0.000   -1043.890    -469.136\n",
       "model_edge                 5447.2831    186.927     29.141      0.000    5080.888    5813.678\n",
       "model_escort                1.23e+04   1622.420      7.584      0.000    9124.800    1.55e+04\n",
       "model_fiesta              -1101.6432    145.322     -7.581      0.000   -1386.489    -816.798\n",
       "model_focus                 865.4839    142.592      6.070      0.000     585.990    1144.978\n",
       "model_fusion               1045.2634    427.836      2.443      0.015     206.663    1883.864\n",
       "model_galaxy               4156.2799    175.921     23.626      0.000    3811.458    4501.102\n",
       "model_grandc-max           -860.9272    171.006     -5.034      0.000   -1196.116    -525.738\n",
       "model_grandtourneoconnect  1531.1672    253.551      6.039      0.000    1034.183    2028.151\n",
       "model_ka                  -2841.4751    182.725    -15.551      0.000   -3199.635   -2483.316\n",
       "model_ka+                 -5213.0790    157.320    -33.137      0.000   -5521.442   -4904.716\n",
       "model_kuga                 1328.5245    140.792      9.436      0.000    1052.559    1604.490\n",
       "model_mondeo                702.1669    157.456      4.459      0.000     393.538    1010.796\n",
       "model_mustang              6905.2041    744.075      9.280      0.000    5446.744    8363.664\n",
       "model_puma                 5605.0937    229.410     24.433      0.000    5155.428    6054.759\n",
       "model_ranger               3273.1620   1615.010      2.027      0.043     107.582    6438.742\n",
       "model_s-max                3648.5030    167.720     21.754      0.000    3319.756    3977.250\n",
       "model_streetka             2469.0896   1147.399      2.152      0.031     220.074    4718.105\n",
       "model_tourneoconnect        770.3843    315.593      2.441      0.015     151.791    1388.977\n",
       "model_tourneocustom        3637.8330    249.821     14.562      0.000    3148.159    4127.507\n",
       "model_transittourneo       -568.7349   1612.964     -0.353      0.724   -3730.304    2592.834\n",
       "transmission_automatic     1.311e+04    209.079     62.710      0.000    1.27e+04    1.35e+04\n",
       "transmission_manual        1.277e+04    215.075     59.369      0.000    1.23e+04    1.32e+04\n",
       "transmission_semi-auto     1.292e+04    212.739     60.714      0.000    1.25e+04    1.33e+04\n",
       "fuelType_diesel            8646.2760    206.538     41.863      0.000    8241.440    9051.112\n",
       "fuelType_electric          1.044e+04    839.808     12.436      0.000    8797.831    1.21e+04\n",
       "fuelType_hybrid            1.177e+04    395.888     29.736      0.000     1.1e+04    1.25e+04\n",
       "fuelType_petrol            7934.1836    181.996     43.595      0.000    7577.453    8290.914\n",
       "==============================================================================\n",
       "Omnibus:                     1374.392   Durbin-Watson:                   1.765\n",
       "Prob(Omnibus):                  0.000   Jarque-Bera (JB):             2850.429\n",
       "Skew:                           0.521   Prob(JB):                         0.00\n",
       "Kurtosis:                       4.671   Cond. No.                     1.12e+16\n",
       "==============================================================================\n",
       "\n",
       "Notes:\n",
       "[1] Standard Errors assume that the covariance matrix of the errors is correctly specified.\n",
       "[2] The smallest eigenvalue is 1.31e-19. This might indicate that there are\n",
       "strong multicollinearity problems or that the design matrix is singular.\n",
       "\"\"\""
      ]
     },
     "execution_count": 40,
     "metadata": {},
     "output_type": "execute_result"
    }
   ],
   "source": [
    "X = data.drop(['price'], axis=1)\n",
    "y = data.price\n",
    "model_OLS = sm.OLS(y, X).fit()\n",
    "model_OLS.summary()"
   ]
  },
  {
   "cell_type": "markdown",
   "id": "7aa1a24f",
   "metadata": {
    "papermill": {
     "duration": 0.08647,
     "end_time": "2021-11-22T12:39:36.798727",
     "exception": false,
     "start_time": "2021-11-22T12:39:36.712257",
     "status": "completed"
    },
    "tags": []
   },
   "source": [
    "**Pay attention to `R-squared` and `Adj. R-squared` - they show how well the independent variables predict the target variable price. The maximum value is 1.**"
   ]
  },
  {
   "cell_type": "code",
   "execution_count": 41,
   "id": "2e00faa1",
   "metadata": {
    "execution": {
     "iopub.execute_input": "2021-11-22T12:39:36.977407Z",
     "iopub.status.busy": "2021-11-22T12:39:36.976630Z",
     "iopub.status.idle": "2021-11-22T12:39:36.980661Z",
     "shell.execute_reply": "2021-11-22T12:39:36.979625Z",
     "shell.execute_reply.started": "2021-11-22T12:35:58.827238Z"
    },
    "papermill": {
     "duration": 0.095136,
     "end_time": "2021-11-22T12:39:36.980900",
     "exception": false,
     "start_time": "2021-11-22T12:39:36.885764",
     "status": "completed"
    },
    "tags": []
   },
   "outputs": [
    {
     "name": "stdout",
     "output_type": "stream",
     "text": [
      "R-squared 0.8494300252753217\n",
      "Adj. R-squared 0.849156277238779\n"
     ]
    }
   ],
   "source": [
    "print('R-squared', model_OLS.rsquared)\n",
    "print('Adj. R-squared', model_OLS.rsquared_adj)"
   ]
  },
  {
   "cell_type": "code",
   "execution_count": 42,
   "id": "16296637",
   "metadata": {
    "execution": {
     "iopub.execute_input": "2021-11-22T12:39:37.161205Z",
     "iopub.status.busy": "2021-11-22T12:39:37.160445Z",
     "iopub.status.idle": "2021-11-22T12:39:37.164276Z",
     "shell.execute_reply": "2021-11-22T12:39:37.164929Z",
     "shell.execute_reply.started": "2021-11-22T12:35:58.835451Z"
    },
    "papermill": {
     "duration": 0.093565,
     "end_time": "2021-11-22T12:39:37.165138",
     "exception": false,
     "start_time": "2021-11-22T12:39:37.071573",
     "status": "completed"
    },
    "tags": []
   },
   "outputs": [
    {
     "name": "stdout",
     "output_type": "stream",
     "text": [
      "['HC0_se', 'HC1_se', 'HC2_se', 'HC3_se', '_HCCM', '__class__', '__delattr__', '__dict__', '__dir__', '__doc__', '__eq__', '__format__', '__ge__', '__getattribute__', '__gt__', '__hash__', '__init__', '__init_subclass__', '__le__', '__lt__', '__module__', '__ne__', '__new__', '__reduce__', '__reduce_ex__', '__repr__', '__setattr__', '__sizeof__', '__str__', '__subclasshook__', '__weakref__', '_abat_diagonal', '_cache', '_data_attr', '_data_in_cache', '_get_robustcov_results', '_is_nested', '_use_t', '_wexog_singular_values', 'aic', 'bic', 'bse', 'centered_tss', 'compare_f_test', 'compare_lm_test', 'compare_lr_test', 'condition_number', 'conf_int', 'conf_int_el', 'cov_HC0', 'cov_HC1', 'cov_HC2', 'cov_HC3', 'cov_kwds', 'cov_params', 'cov_type', 'df_model', 'df_resid', 'diagn', 'eigenvals', 'el_test', 'ess', 'f_pvalue', 'f_test', 'fittedvalues', 'fvalue', 'get_influence', 'get_prediction', 'get_robustcov_results', 'initialize', 'k_constant', 'llf', 'load', 'model', 'mse_model', 'mse_resid', 'mse_total', 'nobs', 'normalized_cov_params', 'outlier_test', 'params', 'predict', 'pvalues', 'remove_data', 'resid', 'resid_pearson', 'rsquared', 'rsquared_adj', 'save', 'scale', 'ssr', 'summary', 'summary2', 't_test', 't_test_pairwise', 'tvalues', 'uncentered_tss', 'use_t', 'wald_test', 'wald_test_terms', 'wresid']\n"
     ]
    }
   ],
   "source": [
    "print(dir(model_OLS))"
   ]
  },
  {
   "cell_type": "markdown",
   "id": "d460fd4d",
   "metadata": {
    "papermill": {
     "duration": 0.091421,
     "end_time": "2021-11-22T12:39:37.347075",
     "exception": false,
     "start_time": "2021-11-22T12:39:37.255654",
     "status": "completed"
    },
    "tags": []
   },
   "source": [
    "**We extracted these values using `model_OLS.name`, other `name` can be viewed using `dir(model_OLS)`**"
   ]
  },
  {
   "cell_type": "code",
   "execution_count": 43,
   "id": "51c19063",
   "metadata": {
    "execution": {
     "iopub.execute_input": "2021-11-22T12:39:37.533823Z",
     "iopub.status.busy": "2021-11-22T12:39:37.533091Z",
     "iopub.status.idle": "2021-11-22T12:39:37.542501Z",
     "shell.execute_reply": "2021-11-22T12:39:37.543164Z",
     "shell.execute_reply.started": "2021-11-22T12:35:58.848270Z"
    },
    "papermill": {
     "duration": 0.105114,
     "end_time": "2021-11-22T12:39:37.543383",
     "exception": false,
     "start_time": "2021-11-22T12:39:37.438269",
     "status": "completed"
    },
    "tags": []
   },
   "outputs": [
    {
     "data": {
      "text/html": [
       "<div>\n",
       "<style scoped>\n",
       "    .dataframe tbody tr th:only-of-type {\n",
       "        vertical-align: middle;\n",
       "    }\n",
       "\n",
       "    .dataframe tbody tr th {\n",
       "        vertical-align: top;\n",
       "    }\n",
       "\n",
       "    .dataframe thead th {\n",
       "        text-align: right;\n",
       "    }\n",
       "</style>\n",
       "<table border=\"1\" class=\"dataframe\">\n",
       "  <thead>\n",
       "    <tr style=\"text-align: right;\">\n",
       "      <th></th>\n",
       "      <th>pvalues</th>\n",
       "    </tr>\n",
       "  </thead>\n",
       "  <tbody>\n",
       "    <tr>\n",
       "      <th>year</th>\n",
       "      <td>0.000000e+00</td>\n",
       "    </tr>\n",
       "    <tr>\n",
       "      <th>mileage</th>\n",
       "      <td>0.000000e+00</td>\n",
       "    </tr>\n",
       "    <tr>\n",
       "      <th>tax</th>\n",
       "      <td>9.305098e-02</td>\n",
       "    </tr>\n",
       "    <tr>\n",
       "      <th>mpg</th>\n",
       "      <td>9.671964e-252</td>\n",
       "    </tr>\n",
       "    <tr>\n",
       "      <th>engineSize</th>\n",
       "      <td>2.060844e-168</td>\n",
       "    </tr>\n",
       "    <tr>\n",
       "      <th>model_b-max</th>\n",
       "      <td>7.832227e-45</td>\n",
       "    </tr>\n",
       "    <tr>\n",
       "      <th>model_c-max</th>\n",
       "      <td>7.986045e-16</td>\n",
       "    </tr>\n",
       "  </tbody>\n",
       "</table>\n",
       "</div>"
      ],
      "text/plain": [
       "                   pvalues\n",
       "year          0.000000e+00\n",
       "mileage       0.000000e+00\n",
       "tax           9.305098e-02\n",
       "mpg          9.671964e-252\n",
       "engineSize   2.060844e-168\n",
       "model_b-max   7.832227e-45\n",
       "model_c-max   7.986045e-16"
      ]
     },
     "execution_count": 43,
     "metadata": {},
     "output_type": "execute_result"
    }
   ],
   "source": [
    "pd.DataFrame(model_OLS.pvalues, columns = ['pvalues']).head(7)"
   ]
  },
  {
   "cell_type": "code",
   "execution_count": 44,
   "id": "67134380",
   "metadata": {
    "execution": {
     "iopub.execute_input": "2021-11-22T12:39:37.731159Z",
     "iopub.status.busy": "2021-11-22T12:39:37.730332Z",
     "iopub.status.idle": "2021-11-22T12:39:37.734840Z",
     "shell.execute_reply": "2021-11-22T12:39:37.735427Z",
     "shell.execute_reply.started": "2021-11-22T12:35:58.871142Z"
    },
    "papermill": {
     "duration": 0.099668,
     "end_time": "2021-11-22T12:39:37.735677",
     "exception": false,
     "start_time": "2021-11-22T12:39:37.636009",
     "status": "completed"
    },
    "tags": []
   },
   "outputs": [],
   "source": [
    "p_value = pd.DataFrame(model_OLS.pvalues, columns = ['pvalues'])"
   ]
  },
  {
   "cell_type": "code",
   "execution_count": 45,
   "id": "ccc1aae5",
   "metadata": {
    "execution": {
     "iopub.execute_input": "2021-11-22T12:39:37.924618Z",
     "iopub.status.busy": "2021-11-22T12:39:37.923597Z",
     "iopub.status.idle": "2021-11-22T12:39:38.000519Z",
     "shell.execute_reply": "2021-11-22T12:39:37.999894Z",
     "shell.execute_reply.started": "2021-11-22T12:35:58.879907Z"
    },
    "papermill": {
     "duration": 0.172461,
     "end_time": "2021-11-22T12:39:38.000738",
     "exception": false,
     "start_time": "2021-11-22T12:39:37.828277",
     "status": "completed"
    },
    "tags": []
   },
   "outputs": [],
   "source": [
    "p_value = p_value.style.format({'pvalues': '{:.7f}'})"
   ]
  },
  {
   "cell_type": "code",
   "execution_count": 46,
   "id": "06f55c41",
   "metadata": {
    "execution": {
     "iopub.execute_input": "2021-11-22T12:39:38.184325Z",
     "iopub.status.busy": "2021-11-22T12:39:38.183428Z",
     "iopub.status.idle": "2021-11-22T12:39:38.191573Z",
     "shell.execute_reply": "2021-11-22T12:39:38.192099Z",
     "shell.execute_reply.started": "2021-11-22T12:35:58.955220Z"
    },
    "papermill": {
     "duration": 0.105147,
     "end_time": "2021-11-22T12:39:38.192304",
     "exception": false,
     "start_time": "2021-11-22T12:39:38.087157",
     "status": "completed"
    },
    "tags": []
   },
   "outputs": [
    {
     "data": {
      "text/html": [
       "<style type=\"text/css\">\n",
       "</style>\n",
       "<table id=\"T_da760_\">\n",
       "  <thead>\n",
       "    <tr>\n",
       "      <th class=\"blank level0\" >&nbsp;</th>\n",
       "      <th class=\"col_heading level0 col0\" >pvalues</th>\n",
       "    </tr>\n",
       "  </thead>\n",
       "  <tbody>\n",
       "    <tr>\n",
       "      <th id=\"T_da760_level0_row0\" class=\"row_heading level0 row0\" >year</th>\n",
       "      <td id=\"T_da760_row0_col0\" class=\"data row0 col0\" >0.0000000</td>\n",
       "    </tr>\n",
       "    <tr>\n",
       "      <th id=\"T_da760_level0_row1\" class=\"row_heading level0 row1\" >mileage</th>\n",
       "      <td id=\"T_da760_row1_col0\" class=\"data row1 col0\" >0.0000000</td>\n",
       "    </tr>\n",
       "    <tr>\n",
       "      <th id=\"T_da760_level0_row2\" class=\"row_heading level0 row2\" >tax</th>\n",
       "      <td id=\"T_da760_row2_col0\" class=\"data row2 col0\" >0.0930510</td>\n",
       "    </tr>\n",
       "    <tr>\n",
       "      <th id=\"T_da760_level0_row3\" class=\"row_heading level0 row3\" >mpg</th>\n",
       "      <td id=\"T_da760_row3_col0\" class=\"data row3 col0\" >0.0000000</td>\n",
       "    </tr>\n",
       "    <tr>\n",
       "      <th id=\"T_da760_level0_row4\" class=\"row_heading level0 row4\" >engineSize</th>\n",
       "      <td id=\"T_da760_row4_col0\" class=\"data row4 col0\" >0.0000000</td>\n",
       "    </tr>\n",
       "    <tr>\n",
       "      <th id=\"T_da760_level0_row5\" class=\"row_heading level0 row5\" >model_b-max</th>\n",
       "      <td id=\"T_da760_row5_col0\" class=\"data row5 col0\" >0.0000000</td>\n",
       "    </tr>\n",
       "    <tr>\n",
       "      <th id=\"T_da760_level0_row6\" class=\"row_heading level0 row6\" >model_c-max</th>\n",
       "      <td id=\"T_da760_row6_col0\" class=\"data row6 col0\" >0.0000000</td>\n",
       "    </tr>\n",
       "    <tr>\n",
       "      <th id=\"T_da760_level0_row7\" class=\"row_heading level0 row7\" >model_ecosport</th>\n",
       "      <td id=\"T_da760_row7_col0\" class=\"data row7 col0\" >0.0000002</td>\n",
       "    </tr>\n",
       "    <tr>\n",
       "      <th id=\"T_da760_level0_row8\" class=\"row_heading level0 row8\" >model_edge</th>\n",
       "      <td id=\"T_da760_row8_col0\" class=\"data row8 col0\" >0.0000000</td>\n",
       "    </tr>\n",
       "    <tr>\n",
       "      <th id=\"T_da760_level0_row9\" class=\"row_heading level0 row9\" >model_escort</th>\n",
       "      <td id=\"T_da760_row9_col0\" class=\"data row9 col0\" >0.0000000</td>\n",
       "    </tr>\n",
       "    <tr>\n",
       "      <th id=\"T_da760_level0_row10\" class=\"row_heading level0 row10\" >model_fiesta</th>\n",
       "      <td id=\"T_da760_row10_col0\" class=\"data row10 col0\" >0.0000000</td>\n",
       "    </tr>\n",
       "    <tr>\n",
       "      <th id=\"T_da760_level0_row11\" class=\"row_heading level0 row11\" >model_focus</th>\n",
       "      <td id=\"T_da760_row11_col0\" class=\"data row11 col0\" >0.0000000</td>\n",
       "    </tr>\n",
       "    <tr>\n",
       "      <th id=\"T_da760_level0_row12\" class=\"row_heading level0 row12\" >model_fusion</th>\n",
       "      <td id=\"T_da760_row12_col0\" class=\"data row12 col0\" >0.0145698</td>\n",
       "    </tr>\n",
       "    <tr>\n",
       "      <th id=\"T_da760_level0_row13\" class=\"row_heading level0 row13\" >model_galaxy</th>\n",
       "      <td id=\"T_da760_row13_col0\" class=\"data row13 col0\" >0.0000000</td>\n",
       "    </tr>\n",
       "    <tr>\n",
       "      <th id=\"T_da760_level0_row14\" class=\"row_heading level0 row14\" >model_grandc-max</th>\n",
       "      <td id=\"T_da760_row14_col0\" class=\"data row14 col0\" >0.0000005</td>\n",
       "    </tr>\n",
       "    <tr>\n",
       "      <th id=\"T_da760_level0_row15\" class=\"row_heading level0 row15\" >model_grandtourneoconnect</th>\n",
       "      <td id=\"T_da760_row15_col0\" class=\"data row15 col0\" >0.0000000</td>\n",
       "    </tr>\n",
       "    <tr>\n",
       "      <th id=\"T_da760_level0_row16\" class=\"row_heading level0 row16\" >model_ka</th>\n",
       "      <td id=\"T_da760_row16_col0\" class=\"data row16 col0\" >0.0000000</td>\n",
       "    </tr>\n",
       "    <tr>\n",
       "      <th id=\"T_da760_level0_row17\" class=\"row_heading level0 row17\" >model_ka+</th>\n",
       "      <td id=\"T_da760_row17_col0\" class=\"data row17 col0\" >0.0000000</td>\n",
       "    </tr>\n",
       "    <tr>\n",
       "      <th id=\"T_da760_level0_row18\" class=\"row_heading level0 row18\" >model_kuga</th>\n",
       "      <td id=\"T_da760_row18_col0\" class=\"data row18 col0\" >0.0000000</td>\n",
       "    </tr>\n",
       "    <tr>\n",
       "      <th id=\"T_da760_level0_row19\" class=\"row_heading level0 row19\" >model_mondeo</th>\n",
       "      <td id=\"T_da760_row19_col0\" class=\"data row19 col0\" >0.0000083</td>\n",
       "    </tr>\n",
       "    <tr>\n",
       "      <th id=\"T_da760_level0_row20\" class=\"row_heading level0 row20\" >model_mustang</th>\n",
       "      <td id=\"T_da760_row20_col0\" class=\"data row20 col0\" >0.0000000</td>\n",
       "    </tr>\n",
       "    <tr>\n",
       "      <th id=\"T_da760_level0_row21\" class=\"row_heading level0 row21\" >model_puma</th>\n",
       "      <td id=\"T_da760_row21_col0\" class=\"data row21 col0\" >0.0000000</td>\n",
       "    </tr>\n",
       "    <tr>\n",
       "      <th id=\"T_da760_level0_row22\" class=\"row_heading level0 row22\" >model_ranger</th>\n",
       "      <td id=\"T_da760_row22_col0\" class=\"data row22 col0\" >0.0427068</td>\n",
       "    </tr>\n",
       "    <tr>\n",
       "      <th id=\"T_da760_level0_row23\" class=\"row_heading level0 row23\" >model_s-max</th>\n",
       "      <td id=\"T_da760_row23_col0\" class=\"data row23 col0\" >0.0000000</td>\n",
       "    </tr>\n",
       "    <tr>\n",
       "      <th id=\"T_da760_level0_row24\" class=\"row_heading level0 row24\" >model_streetka</th>\n",
       "      <td id=\"T_da760_row24_col0\" class=\"data row24 col0\" >0.0314187</td>\n",
       "    </tr>\n",
       "    <tr>\n",
       "      <th id=\"T_da760_level0_row25\" class=\"row_heading level0 row25\" >model_tourneoconnect</th>\n",
       "      <td id=\"T_da760_row25_col0\" class=\"data row25 col0\" >0.0146535</td>\n",
       "    </tr>\n",
       "    <tr>\n",
       "      <th id=\"T_da760_level0_row26\" class=\"row_heading level0 row26\" >model_tourneocustom</th>\n",
       "      <td id=\"T_da760_row26_col0\" class=\"data row26 col0\" >0.0000000</td>\n",
       "    </tr>\n",
       "    <tr>\n",
       "      <th id=\"T_da760_level0_row27\" class=\"row_heading level0 row27\" >model_transittourneo</th>\n",
       "      <td id=\"T_da760_row27_col0\" class=\"data row27 col0\" >0.7243908</td>\n",
       "    </tr>\n",
       "    <tr>\n",
       "      <th id=\"T_da760_level0_row28\" class=\"row_heading level0 row28\" >transmission_automatic</th>\n",
       "      <td id=\"T_da760_row28_col0\" class=\"data row28 col0\" >0.0000000</td>\n",
       "    </tr>\n",
       "    <tr>\n",
       "      <th id=\"T_da760_level0_row29\" class=\"row_heading level0 row29\" >transmission_manual</th>\n",
       "      <td id=\"T_da760_row29_col0\" class=\"data row29 col0\" >0.0000000</td>\n",
       "    </tr>\n",
       "    <tr>\n",
       "      <th id=\"T_da760_level0_row30\" class=\"row_heading level0 row30\" >transmission_semi-auto</th>\n",
       "      <td id=\"T_da760_row30_col0\" class=\"data row30 col0\" >0.0000000</td>\n",
       "    </tr>\n",
       "    <tr>\n",
       "      <th id=\"T_da760_level0_row31\" class=\"row_heading level0 row31\" >fuelType_diesel</th>\n",
       "      <td id=\"T_da760_row31_col0\" class=\"data row31 col0\" >0.0000000</td>\n",
       "    </tr>\n",
       "    <tr>\n",
       "      <th id=\"T_da760_level0_row32\" class=\"row_heading level0 row32\" >fuelType_electric</th>\n",
       "      <td id=\"T_da760_row32_col0\" class=\"data row32 col0\" >0.0000000</td>\n",
       "    </tr>\n",
       "    <tr>\n",
       "      <th id=\"T_da760_level0_row33\" class=\"row_heading level0 row33\" >fuelType_hybrid</th>\n",
       "      <td id=\"T_da760_row33_col0\" class=\"data row33 col0\" >0.0000000</td>\n",
       "    </tr>\n",
       "    <tr>\n",
       "      <th id=\"T_da760_level0_row34\" class=\"row_heading level0 row34\" >fuelType_petrol</th>\n",
       "      <td id=\"T_da760_row34_col0\" class=\"data row34 col0\" >0.0000000</td>\n",
       "    </tr>\n",
       "  </tbody>\n",
       "</table>\n"
      ],
      "text/plain": [
       "<pandas.io.formats.style.Styler at 0x7f43372e2510>"
      ]
     },
     "execution_count": 46,
     "metadata": {},
     "output_type": "execute_result"
    }
   ],
   "source": [
    "p_value"
   ]
  },
  {
   "cell_type": "markdown",
   "id": "12db383b",
   "metadata": {
    "papermill": {
     "duration": 0.087209,
     "end_time": "2021-11-22T12:39:38.369782",
     "exception": false,
     "start_time": "2021-11-22T12:39:38.282573",
     "status": "completed"
    },
    "tags": []
   },
   "source": [
    "**Take `p_value`, formalize it into a dataframe and replace exponential numbers with prime ones. The value of `p_value` tells us how much the variable affects the target variable. The closer to 1, the worse. We will now delete variables and build the model anew to reduce the value of `p_value` for all signs to 0**"
   ]
  },
  {
   "cell_type": "code",
   "execution_count": 47,
   "id": "c0b63ac9",
   "metadata": {
    "execution": {
     "iopub.execute_input": "2021-11-22T12:39:38.553192Z",
     "iopub.status.busy": "2021-11-22T12:39:38.549380Z",
     "iopub.status.idle": "2021-11-22T12:39:38.683825Z",
     "shell.execute_reply": "2021-11-22T12:39:38.684730Z",
     "shell.execute_reply.started": "2021-11-22T12:35:58.967410Z"
    },
    "papermill": {
     "duration": 0.227179,
     "end_time": "2021-11-22T12:39:38.685110",
     "exception": false,
     "start_time": "2021-11-22T12:39:38.457931",
     "status": "completed"
    },
    "tags": []
   },
   "outputs": [
    {
     "name": "stdout",
     "output_type": "stream",
     "text": [
      "                            OLS Regression Results                            \n",
      "==============================================================================\n",
      "Dep. Variable:                  price   R-squared:                       0.849\n",
      "Model:                            OLS   Adj. R-squared:                  0.849\n",
      "Method:                 Least Squares   F-statistic:                     3103.\n",
      "Date:                Mon, 22 Nov 2021   Prob (F-statistic):               0.00\n",
      "Time:                        12:39:38   Log-Likelihood:            -1.5592e+05\n",
      "No. Observations:               17634   AIC:                         3.119e+05\n",
      "Df Residuals:                   17601   BIC:                         3.122e+05\n",
      "Df Model:                          32                                         \n",
      "Covariance Type:            nonrobust                                         \n",
      "=============================================================================================\n",
      "                                coef    std err          t      P>|t|      [0.025      0.975]\n",
      "---------------------------------------------------------------------------------------------\n",
      "year                      -1094.1352      9.929   -110.192      0.000   -1113.598   -1074.673\n",
      "mileage                      -0.0596      0.001    -59.564      0.000      -0.062      -0.058\n",
      "tax                          -0.4448      0.265     -1.680      0.093      -0.964       0.074\n",
      "mpg                         -95.0571      2.759    -34.450      0.000    -100.466     -89.649\n",
      "engineSize                 2064.2864     73.818     27.965      0.000    1919.597    2208.976\n",
      "model_b-max               -1741.0809   1679.984     -1.036      0.300   -5034.015    1551.853\n",
      "model_c-max                -672.9710   1678.813     -0.401      0.689   -3963.611    2617.669\n",
      "model_ecosport             -187.7783   1678.220     -0.112      0.911   -3477.256    3101.699\n",
      "model_edge                 6016.0180   1681.760      3.577      0.000    2719.603    9312.433\n",
      "model_escort               1.287e+04   2375.814      5.419      0.000    8216.808    1.75e+04\n",
      "model_fiesta               -532.9083   1678.311     -0.318      0.751   -3822.564    2756.748\n",
      "model_focus                1434.2188   1677.824      0.855      0.393   -1854.482    4722.919\n",
      "model_fusion               1613.9983   1728.928      0.934      0.351   -1774.871    5002.867\n",
      "model_galaxy               4725.0148   1680.584      2.812      0.005    1430.905    8019.125\n",
      "model_grandc-max           -292.1924   1680.559     -0.174      0.862   -3586.255    3001.870\n",
      "model_grandtourneoconnect  2099.9021   1691.584      1.241      0.214   -1215.770    5415.574\n",
      "model_ka                  -2272.7403   1682.211     -1.351      0.177   -5570.039    1024.559\n",
      "model_ka+                 -4644.3441   1679.266     -2.766      0.006   -7935.872   -1352.816\n",
      "model_kuga                 1897.2594   1677.037      1.131      0.258   -1389.899    5184.418\n",
      "model_mondeo               1270.9018   1679.146      0.757      0.449   -2020.391    4562.195\n",
      "model_mustang              7473.9389   1840.824      4.060      0.000    3865.742    1.11e+04\n",
      "model_puma                 6173.8285   1688.303      3.657      0.000    2864.588    9483.069\n",
      "model_ranger               3841.8969   2371.709      1.620      0.105    -806.887    8490.681\n",
      "model_s-max                4217.2378   1679.700      2.511      0.012     924.861    7509.615\n",
      "model_streetka             3037.8245   2054.198      1.479      0.139    -988.606    7064.255\n",
      "model_tourneoconnect       1339.1191   1702.925      0.786      0.432   -1998.783    4677.021\n",
      "model_tourneocustom        4206.5679   1690.307      2.489      0.013     893.399    7519.737\n",
      "transmission_automatic     1.279e+04    979.558     13.053      0.000    1.09e+04    1.47e+04\n",
      "transmission_manual        1.244e+04    980.481     12.692      0.000    1.05e+04    1.44e+04\n",
      "transmission_semi-auto     1.259e+04    980.352     12.844      0.000    1.07e+04    1.45e+04\n",
      "fuelType_diesel            8402.5325    743.771     11.297      0.000    6944.668    9860.397\n",
      "fuelType_electric           1.02e+04   1108.997      9.198      0.000    8026.451    1.24e+04\n",
      "fuelType_hybrid            1.153e+04    818.563     14.084      0.000    9923.844    1.31e+04\n",
      "fuelType_petrol            7690.4400    738.055     10.420      0.000    6243.779    9137.101\n",
      "==============================================================================\n",
      "Omnibus:                     1374.392   Durbin-Watson:                   1.765\n",
      "Prob(Omnibus):                  0.000   Jarque-Bera (JB):             2850.429\n",
      "Skew:                           0.521   Prob(JB):                         0.00\n",
      "Kurtosis:                       4.671   Cond. No.                     1.12e+16\n",
      "==============================================================================\n",
      "\n",
      "Notes:\n",
      "[1] Standard Errors assume that the covariance matrix of the errors is correctly specified.\n",
      "[2] The smallest eigenvalue is 1.31e-19. This might indicate that there are\n",
      "strong multicollinearity problems or that the design matrix is singular.\n"
     ]
    }
   ],
   "source": [
    "X = data.drop(['price', 'model_transittourneo'], axis=1)\n",
    "y = data.price\n",
    "model_OLS = sm.OLS(y, X).fit()\n",
    "print(model_OLS.summary())"
   ]
  },
  {
   "cell_type": "markdown",
   "id": "9f85163a",
   "metadata": {
    "papermill": {
     "duration": 0.088293,
     "end_time": "2021-11-22T12:39:38.894832",
     "exception": false,
     "start_time": "2021-11-22T12:39:38.806539",
     "status": "completed"
    },
    "tags": []
   },
   "source": [
    "**Removing `model_transittourneo`  -  0.7243908.**"
   ]
  },
  {
   "cell_type": "code",
   "execution_count": 48,
   "id": "d541e148",
   "metadata": {
    "execution": {
     "iopub.execute_input": "2021-11-22T12:39:39.082296Z",
     "iopub.status.busy": "2021-11-22T12:39:39.080436Z",
     "iopub.status.idle": "2021-11-22T12:39:39.183181Z",
     "shell.execute_reply": "2021-11-22T12:39:39.184257Z",
     "shell.execute_reply.started": "2021-11-22T12:35:59.084203Z"
    },
    "papermill": {
     "duration": 0.200854,
     "end_time": "2021-11-22T12:39:39.184634",
     "exception": false,
     "start_time": "2021-11-22T12:39:38.983780",
     "status": "completed"
    },
    "tags": []
   },
   "outputs": [
    {
     "name": "stdout",
     "output_type": "stream",
     "text": [
      "                            OLS Regression Results                            \n",
      "==============================================================================\n",
      "Dep. Variable:                  price   R-squared:                       0.849\n",
      "Model:                            OLS   Adj. R-squared:                  0.849\n",
      "Method:                 Least Squares   F-statistic:                     3545.\n",
      "Date:                Mon, 22 Nov 2021   Prob (F-statistic):               0.00\n",
      "Time:                        12:39:39   Log-Likelihood:            -1.5593e+05\n",
      "No. Observations:               17634   AIC:                         3.119e+05\n",
      "Df Residuals:                   17605   BIC:                         3.121e+05\n",
      "Df Model:                          28                                         \n",
      "Covariance Type:            nonrobust                                         \n",
      "=============================================================================================\n",
      "                                coef    std err          t      P>|t|      [0.025      0.975]\n",
      "---------------------------------------------------------------------------------------------\n",
      "year                      -1090.5390      9.604   -113.548      0.000   -1109.364   -1071.714\n",
      "mileage                      -0.0596      0.001    -59.517      0.000      -0.062      -0.058\n",
      "mpg                         -93.9592      2.675    -35.130      0.000     -99.202     -88.717\n",
      "engineSize                 2054.8062     73.138     28.095      0.000    1911.448    2198.164\n",
      "model_b-max               -1529.8303    102.354    -14.946      0.000   -1730.455   -1329.206\n",
      "model_c-max                -456.1744     86.429     -5.278      0.000    -625.584    -286.765\n",
      "model_edge                 6214.4863    146.342     42.466      0.000    5927.642    6501.330\n",
      "model_escort               1.296e+04   1686.429      7.687      0.000    9658.845    1.63e+04\n",
      "model_fiesta               -328.5160     56.299     -5.835      0.000    -438.868    -218.164\n",
      "model_focus                1637.1758     55.444     29.528      0.000    1528.500    1745.852\n",
      "model_fusion               1768.8033    426.275      4.149      0.000     933.263    2604.343\n",
      "model_galaxy               4920.6809    129.106     38.114      0.000    4667.621    5173.741\n",
      "model_grandtourneoconnect  2302.5615    228.790     10.064      0.000    1854.111    2751.012\n",
      "model_ka                  -2052.9760    131.170    -15.651      0.000   -2310.081   -1795.870\n",
      "model_ka+                 -4441.4055     87.941    -50.504      0.000   -4613.779   -4269.032\n",
      "model_kuga                 2097.8478     66.359     31.614      0.000    1967.778    2227.918\n",
      "model_mondeo               1477.4532     96.853     15.255      0.000    1287.612    1667.294\n",
      "model_mustang              7613.3469    763.932      9.966      0.000    6115.964    9110.730\n",
      "model_puma                 6377.5182    195.838     32.565      0.000    5993.657    6761.379\n",
      "model_s-max                4412.8774    116.457     37.893      0.000    4184.611    4641.144\n",
      "model_streetka             3151.7949   1189.255      2.650      0.008     820.738    5482.852\n",
      "model_tourneoconnect       1544.5051    301.442      5.124      0.000     953.648    2135.362\n",
      "model_tourneocustom        4413.2050    228.394     19.323      0.000    3965.531    4860.879\n",
      "transmission_automatic     1.261e+04    204.811     61.562      0.000    1.22e+04     1.3e+04\n",
      "transmission_manual        1.227e+04    211.828     57.928      0.000    1.19e+04    1.27e+04\n",
      "transmission_semi-auto     1.242e+04    208.769     59.483      0.000     1.2e+04    1.28e+04\n",
      "fuelType_diesel            8256.9032    193.035     42.774      0.000    7878.535    8635.272\n",
      "fuelType_electric           1.01e+04    845.892     11.936      0.000    8438.288    1.18e+04\n",
      "fuelType_hybrid             1.14e+04    393.318     28.992      0.000    1.06e+04    1.22e+04\n",
      "fuelType_petrol            7541.2373    162.536     46.397      0.000    7222.650    7859.825\n",
      "==============================================================================\n",
      "Omnibus:                     1351.154   Durbin-Watson:                   1.766\n",
      "Prob(Omnibus):                  0.000   Jarque-Bera (JB):             2774.110\n",
      "Skew:                           0.517   Prob(JB):                         0.00\n",
      "Kurtosis:                       4.645   Cond. No.                     1.12e+16\n",
      "==============================================================================\n",
      "\n",
      "Notes:\n",
      "[1] Standard Errors assume that the covariance matrix of the errors is correctly specified.\n",
      "[2] The smallest eigenvalue is 1.31e-19. This might indicate that there are\n",
      "strong multicollinearity problems or that the design matrix is singular.\n"
     ]
    }
   ],
   "source": [
    "X = data.drop(['price', 'model_transittourneo', 'model_grandc-max', 'model_ecosport', 'tax', 'model_ranger'], axis=1)\n",
    "y = data.price\n",
    "model_OLS = sm.OLS(y, X).fit()\n",
    "print(model_OLS.summary())"
   ]
  },
  {
   "cell_type": "markdown",
   "id": "0afe00e0",
   "metadata": {
    "papermill": {
     "duration": 0.087048,
     "end_time": "2021-11-22T12:39:39.398732",
     "exception": false,
     "start_time": "2021-11-22T12:39:39.311684",
     "status": "completed"
    },
    "tags": []
   },
   "source": [
    "**We removed `model_grand c-max`, `model_ecosport`, `tax`, `model_ranger` until the p-value was close to 0 in all variables**"
   ]
  },
  {
   "cell_type": "code",
   "execution_count": 49,
   "id": "bf9330aa",
   "metadata": {
    "execution": {
     "iopub.execute_input": "2021-11-22T12:39:39.574530Z",
     "iopub.status.busy": "2021-11-22T12:39:39.573744Z",
     "iopub.status.idle": "2021-11-22T12:39:39.592477Z",
     "shell.execute_reply": "2021-11-22T12:39:39.591748Z",
     "shell.execute_reply.started": "2021-11-22T12:35:59.182756Z"
    },
    "papermill": {
     "duration": 0.109093,
     "end_time": "2021-11-22T12:39:39.592677",
     "exception": false,
     "start_time": "2021-11-22T12:39:39.483584",
     "status": "completed"
    },
    "scrolled": true,
    "tags": []
   },
   "outputs": [
    {
     "data": {
      "text/html": [
       "<div>\n",
       "<style scoped>\n",
       "    .dataframe tbody tr th:only-of-type {\n",
       "        vertical-align: middle;\n",
       "    }\n",
       "\n",
       "    .dataframe tbody tr th {\n",
       "        vertical-align: top;\n",
       "    }\n",
       "\n",
       "    .dataframe thead th {\n",
       "        text-align: right;\n",
       "    }\n",
       "</style>\n",
       "<table border=\"1\" class=\"dataframe\">\n",
       "  <thead>\n",
       "    <tr style=\"text-align: right;\">\n",
       "      <th></th>\n",
       "      <th>year</th>\n",
       "      <th>mileage</th>\n",
       "      <th>mpg</th>\n",
       "      <th>engineSize</th>\n",
       "      <th>model_b-max</th>\n",
       "      <th>model_c-max</th>\n",
       "      <th>model_edge</th>\n",
       "      <th>model_escort</th>\n",
       "      <th>model_fiesta</th>\n",
       "      <th>model_focus</th>\n",
       "      <th>...</th>\n",
       "      <th>model_streetka</th>\n",
       "      <th>model_tourneoconnect</th>\n",
       "      <th>model_tourneocustom</th>\n",
       "      <th>transmission_automatic</th>\n",
       "      <th>transmission_manual</th>\n",
       "      <th>transmission_semi-auto</th>\n",
       "      <th>fuelType_diesel</th>\n",
       "      <th>fuelType_electric</th>\n",
       "      <th>fuelType_hybrid</th>\n",
       "      <th>fuelType_petrol</th>\n",
       "    </tr>\n",
       "  </thead>\n",
       "  <tbody>\n",
       "    <tr>\n",
       "      <th>0</th>\n",
       "      <td>4</td>\n",
       "      <td>15944</td>\n",
       "      <td>57.7</td>\n",
       "      <td>1.0</td>\n",
       "      <td>0</td>\n",
       "      <td>0</td>\n",
       "      <td>0</td>\n",
       "      <td>0</td>\n",
       "      <td>1</td>\n",
       "      <td>0</td>\n",
       "      <td>...</td>\n",
       "      <td>0</td>\n",
       "      <td>0</td>\n",
       "      <td>0</td>\n",
       "      <td>1</td>\n",
       "      <td>0</td>\n",
       "      <td>0</td>\n",
       "      <td>0</td>\n",
       "      <td>0</td>\n",
       "      <td>0</td>\n",
       "      <td>1</td>\n",
       "    </tr>\n",
       "    <tr>\n",
       "      <th>1</th>\n",
       "      <td>3</td>\n",
       "      <td>9083</td>\n",
       "      <td>57.7</td>\n",
       "      <td>1.0</td>\n",
       "      <td>0</td>\n",
       "      <td>0</td>\n",
       "      <td>0</td>\n",
       "      <td>0</td>\n",
       "      <td>0</td>\n",
       "      <td>1</td>\n",
       "      <td>...</td>\n",
       "      <td>0</td>\n",
       "      <td>0</td>\n",
       "      <td>0</td>\n",
       "      <td>0</td>\n",
       "      <td>1</td>\n",
       "      <td>0</td>\n",
       "      <td>0</td>\n",
       "      <td>0</td>\n",
       "      <td>0</td>\n",
       "      <td>1</td>\n",
       "    </tr>\n",
       "    <tr>\n",
       "      <th>2</th>\n",
       "      <td>4</td>\n",
       "      <td>12456</td>\n",
       "      <td>57.7</td>\n",
       "      <td>1.0</td>\n",
       "      <td>0</td>\n",
       "      <td>0</td>\n",
       "      <td>0</td>\n",
       "      <td>0</td>\n",
       "      <td>0</td>\n",
       "      <td>1</td>\n",
       "      <td>...</td>\n",
       "      <td>0</td>\n",
       "      <td>0</td>\n",
       "      <td>0</td>\n",
       "      <td>0</td>\n",
       "      <td>1</td>\n",
       "      <td>0</td>\n",
       "      <td>0</td>\n",
       "      <td>0</td>\n",
       "      <td>0</td>\n",
       "      <td>1</td>\n",
       "    </tr>\n",
       "    <tr>\n",
       "      <th>3</th>\n",
       "      <td>2</td>\n",
       "      <td>10460</td>\n",
       "      <td>40.3</td>\n",
       "      <td>1.5</td>\n",
       "      <td>0</td>\n",
       "      <td>0</td>\n",
       "      <td>0</td>\n",
       "      <td>0</td>\n",
       "      <td>1</td>\n",
       "      <td>0</td>\n",
       "      <td>...</td>\n",
       "      <td>0</td>\n",
       "      <td>0</td>\n",
       "      <td>0</td>\n",
       "      <td>0</td>\n",
       "      <td>1</td>\n",
       "      <td>0</td>\n",
       "      <td>0</td>\n",
       "      <td>0</td>\n",
       "      <td>0</td>\n",
       "      <td>1</td>\n",
       "    </tr>\n",
       "    <tr>\n",
       "      <th>4</th>\n",
       "      <td>2</td>\n",
       "      <td>1482</td>\n",
       "      <td>48.7</td>\n",
       "      <td>1.0</td>\n",
       "      <td>0</td>\n",
       "      <td>0</td>\n",
       "      <td>0</td>\n",
       "      <td>0</td>\n",
       "      <td>1</td>\n",
       "      <td>0</td>\n",
       "      <td>...</td>\n",
       "      <td>0</td>\n",
       "      <td>0</td>\n",
       "      <td>0</td>\n",
       "      <td>1</td>\n",
       "      <td>0</td>\n",
       "      <td>0</td>\n",
       "      <td>0</td>\n",
       "      <td>0</td>\n",
       "      <td>0</td>\n",
       "      <td>1</td>\n",
       "    </tr>\n",
       "  </tbody>\n",
       "</table>\n",
       "<p>5 rows × 30 columns</p>\n",
       "</div>"
      ],
      "text/plain": [
       "   year  mileage   mpg  engineSize  model_b-max  model_c-max  model_edge  \\\n",
       "0     4    15944  57.7         1.0            0            0           0   \n",
       "1     3     9083  57.7         1.0            0            0           0   \n",
       "2     4    12456  57.7         1.0            0            0           0   \n",
       "3     2    10460  40.3         1.5            0            0           0   \n",
       "4     2     1482  48.7         1.0            0            0           0   \n",
       "\n",
       "   model_escort  model_fiesta  model_focus  ...  model_streetka  \\\n",
       "0             0             1            0  ...               0   \n",
       "1             0             0            1  ...               0   \n",
       "2             0             0            1  ...               0   \n",
       "3             0             1            0  ...               0   \n",
       "4             0             1            0  ...               0   \n",
       "\n",
       "   model_tourneoconnect  model_tourneocustom  transmission_automatic  \\\n",
       "0                     0                    0                       1   \n",
       "1                     0                    0                       0   \n",
       "2                     0                    0                       0   \n",
       "3                     0                    0                       0   \n",
       "4                     0                    0                       1   \n",
       "\n",
       "   transmission_manual  transmission_semi-auto  fuelType_diesel  \\\n",
       "0                    0                       0                0   \n",
       "1                    1                       0                0   \n",
       "2                    1                       0                0   \n",
       "3                    1                       0                0   \n",
       "4                    0                       0                0   \n",
       "\n",
       "   fuelType_electric  fuelType_hybrid  fuelType_petrol  \n",
       "0                  0                0                1  \n",
       "1                  0                0                1  \n",
       "2                  0                0                1  \n",
       "3                  0                0                1  \n",
       "4                  0                0                1  \n",
       "\n",
       "[5 rows x 30 columns]"
      ]
     },
     "execution_count": 49,
     "metadata": {},
     "output_type": "execute_result"
    }
   ],
   "source": [
    "X.head()"
   ]
  },
  {
   "cell_type": "markdown",
   "id": "310c6e62",
   "metadata": {
    "papermill": {
     "duration": 0.0896,
     "end_time": "2021-11-22T12:39:39.771371",
     "exception": false,
     "start_time": "2021-11-22T12:39:39.681771",
     "status": "completed"
    },
    "tags": []
   },
   "source": [
    "## Learning by algorithms"
   ]
  },
  {
   "cell_type": "markdown",
   "id": "fb296622",
   "metadata": {
    "papermill": {
     "duration": 0.086951,
     "end_time": "2021-11-22T12:39:39.948379",
     "exception": false,
     "start_time": "2021-11-22T12:39:39.861428",
     "status": "completed"
    },
    "tags": []
   },
   "source": [
    "**Let's run several algorithms, the best algorithm is set up and run again**"
   ]
  },
  {
   "cell_type": "code",
   "execution_count": 50,
   "id": "202d9a78",
   "metadata": {
    "execution": {
     "iopub.execute_input": "2021-11-22T12:39:40.132150Z",
     "iopub.status.busy": "2021-11-22T12:39:40.131169Z",
     "iopub.status.idle": "2021-11-22T12:39:40.140199Z",
     "shell.execute_reply": "2021-11-22T12:39:40.140785Z",
     "shell.execute_reply.started": "2021-11-22T12:35:59.227555Z"
    },
    "papermill": {
     "duration": 0.102883,
     "end_time": "2021-11-22T12:39:40.141003",
     "exception": false,
     "start_time": "2021-11-22T12:39:40.038120",
     "status": "completed"
    },
    "tags": []
   },
   "outputs": [],
   "source": [
    "x_train, x_test, y_train, y_test = train_test_split(X, y, test_size=0.25, random_state=42)"
   ]
  },
  {
   "cell_type": "code",
   "execution_count": 51,
   "id": "57b073b0",
   "metadata": {
    "execution": {
     "iopub.execute_input": "2021-11-22T12:39:40.323738Z",
     "iopub.status.busy": "2021-11-22T12:39:40.322919Z",
     "iopub.status.idle": "2021-11-22T12:40:51.257965Z",
     "shell.execute_reply": "2021-11-22T12:40:51.258562Z",
     "shell.execute_reply.started": "2021-11-22T12:35:59.249304Z"
    },
    "papermill": {
     "duration": 71.028379,
     "end_time": "2021-11-22T12:40:51.258785",
     "exception": false,
     "start_time": "2021-11-22T12:39:40.230406",
     "status": "completed"
    },
    "tags": []
   },
   "outputs": [
    {
     "name": "stdout",
     "output_type": "stream",
     "text": [
      "LR: r2_score = 0.854\n",
      "R: r2_score = 0.854\n",
      "L: r2_score = 0.853\n",
      "BR: r2_score = 0.854\n",
      "KNR: r2_score = 0.284\n",
      "DTR: r2_score = 0.884\n",
      "SVR: r2_score = 0.091\n",
      "ABR: r2_score = 0.668\n",
      "BR: r2_score = 0.927\n",
      "ETR: r2_score = 0.915\n",
      "GBR: r2_score = 0.929\n",
      "RFR: r2_score = 0.926\n",
      "XGB: r2_score = 0.932\n"
     ]
    }
   ],
   "source": [
    "models = []\n",
    "\n",
    "models.append(('LR', LinearRegression()))\n",
    "models.append(('R', Ridge()))\n",
    "models.append(('L', Lasso()))\n",
    "models.append(('BR', BayesianRidge(n_iter=1000)))\n",
    "models.append(('KNR', KNeighborsRegressor()))\n",
    "models.append(('DTR', DecisionTreeRegressor()))\n",
    "models.append(('SVR', SVR()))\n",
    "models.append(('ABR', AdaBoostRegressor(n_estimators=300)))\n",
    "models.append(('BR', BaggingRegressor(n_estimators=300)))\n",
    "models.append(('ETR', ExtraTreesRegressor(n_estimators=300)))\n",
    "models.append(('GBR', GradientBoostingRegressor(n_estimators=300)))\n",
    "models.append(('RFR', RandomForestRegressor(n_estimators=300)))\n",
    "models.append(('XGB', XGBRegressor(n_estimators=300)))\n",
    "for name, model in models:\n",
    "    model.fit(x_train, y_train)\n",
    "    m_predict = model.predict(x_test)\n",
    "    m_score = r2_score(y_test, m_predict)\n",
    "    print(\"%s: r2_score = %.3f\" % (name, m_score))"
   ]
  },
  {
   "cell_type": "markdown",
   "id": "6ca52a8c",
   "metadata": {
    "papermill": {
     "duration": 0.090329,
     "end_time": "2021-11-22T12:40:51.439117",
     "exception": false,
     "start_time": "2021-11-22T12:40:51.348788",
     "status": "completed"
    },
    "tags": []
   },
   "source": [
    "**`XGBRegressor` showed 0.932, so we will work with it**"
   ]
  },
  {
   "cell_type": "markdown",
   "id": "a1a01755",
   "metadata": {
    "papermill": {
     "duration": 0.091852,
     "end_time": "2021-11-22T12:40:51.621682",
     "exception": false,
     "start_time": "2021-11-22T12:40:51.529830",
     "status": "completed"
    },
    "tags": []
   },
   "source": [
    "## XGBRegressor"
   ]
  },
  {
   "cell_type": "code",
   "execution_count": 52,
   "id": "c135a439",
   "metadata": {
    "execution": {
     "iopub.execute_input": "2021-11-22T12:40:51.813721Z",
     "iopub.status.busy": "2021-11-22T12:40:51.812965Z",
     "iopub.status.idle": "2021-11-22T12:40:56.181942Z",
     "shell.execute_reply": "2021-11-22T12:40:56.182563Z",
     "shell.execute_reply.started": "2021-11-22T12:37:08.345500Z"
    },
    "papermill": {
     "duration": 4.469355,
     "end_time": "2021-11-22T12:40:56.182843",
     "exception": false,
     "start_time": "2021-11-22T12:40:51.713488",
     "status": "completed"
    },
    "tags": []
   },
   "outputs": [],
   "source": [
    "XGBR = XGBRegressor(n_estimators = 300, eta=0.07, gamma=0.1, \n",
    "                    max_depth=8, min_child_weight=6, \n",
    "                    colsample_bytree=0.6, subsample=0.9)\n",
    "XGBR.fit(x_train, y_train)\n",
    "y_pred = XGBR.predict(x_test)"
   ]
  },
  {
   "cell_type": "code",
   "execution_count": 53,
   "id": "b79520cb",
   "metadata": {
    "execution": {
     "iopub.execute_input": "2021-11-22T12:40:56.381077Z",
     "iopub.status.busy": "2021-11-22T12:40:56.380302Z",
     "iopub.status.idle": "2021-11-22T12:40:56.384917Z",
     "shell.execute_reply": "2021-11-22T12:40:56.385663Z",
     "shell.execute_reply.started": "2021-11-22T12:37:12.336288Z"
    },
    "papermill": {
     "duration": 0.105926,
     "end_time": "2021-11-22T12:40:56.385942",
     "exception": false,
     "start_time": "2021-11-22T12:40:56.280016",
     "status": "completed"
    },
    "tags": []
   },
   "outputs": [
    {
     "name": "stdout",
     "output_type": "stream",
     "text": [
      "R2 score: 0.941\n",
      "RMSE: 32.309\n"
     ]
    }
   ],
   "source": [
    "r2 = round(r2_score(y_test, y_pred), 3)\n",
    "rmse = round(np.sqrt(mean_squared_error(y_test, y_pred, squared=False)), 3)\n",
    "print('R2 score:', r2)\n",
    "print('RMSE:', rmse)"
   ]
  },
  {
   "cell_type": "markdown",
   "id": "db95551b",
   "metadata": {
    "papermill": {
     "duration": 0.095891,
     "end_time": "2021-11-22T12:40:56.576804",
     "exception": false,
     "start_time": "2021-11-22T12:40:56.480913",
     "status": "completed"
    },
    "tags": []
   },
   "source": [
    "**It was 0.932, it became 0.941. Let's see which signs affected more**"
   ]
  },
  {
   "cell_type": "code",
   "execution_count": 54,
   "id": "288aad8d",
   "metadata": {
    "execution": {
     "iopub.execute_input": "2021-11-22T12:40:56.771421Z",
     "iopub.status.busy": "2021-11-22T12:40:56.770663Z",
     "iopub.status.idle": "2021-11-22T12:40:56.776799Z",
     "shell.execute_reply": "2021-11-22T12:40:56.776156Z",
     "shell.execute_reply.started": "2021-11-22T12:37:12.349013Z"
    },
    "papermill": {
     "duration": 0.109158,
     "end_time": "2021-11-22T12:40:56.776983",
     "exception": false,
     "start_time": "2021-11-22T12:40:56.667825",
     "status": "completed"
    },
    "tags": []
   },
   "outputs": [],
   "source": [
    "feat_import = pd.DataFrame(XGBR.feature_importances_, columns = ['value'])"
   ]
  },
  {
   "cell_type": "code",
   "execution_count": 55,
   "id": "413c24a5",
   "metadata": {
    "execution": {
     "iopub.execute_input": "2021-11-22T12:40:56.985044Z",
     "iopub.status.busy": "2021-11-22T12:40:56.982162Z",
     "iopub.status.idle": "2021-11-22T12:40:56.987022Z",
     "shell.execute_reply": "2021-11-22T12:40:56.987658Z",
     "shell.execute_reply.started": "2021-11-22T12:37:12.360283Z"
    },
    "papermill": {
     "duration": 0.115479,
     "end_time": "2021-11-22T12:40:56.987884",
     "exception": false,
     "start_time": "2021-11-22T12:40:56.872405",
     "status": "completed"
    },
    "tags": []
   },
   "outputs": [],
   "source": [
    "features = pd.DataFrame(x_train.columns, columns = ['features'])"
   ]
  },
  {
   "cell_type": "code",
   "execution_count": 56,
   "id": "0e92362f",
   "metadata": {
    "execution": {
     "iopub.execute_input": "2021-11-22T12:40:57.177838Z",
     "iopub.status.busy": "2021-11-22T12:40:57.177076Z",
     "iopub.status.idle": "2021-11-22T12:40:57.181878Z",
     "shell.execute_reply": "2021-11-22T12:40:57.182400Z",
     "shell.execute_reply.started": "2021-11-22T12:37:12.369946Z"
    },
    "papermill": {
     "duration": 0.100707,
     "end_time": "2021-11-22T12:40:57.182612",
     "exception": false,
     "start_time": "2021-11-22T12:40:57.081905",
     "status": "completed"
    },
    "tags": []
   },
   "outputs": [],
   "source": [
    "feat_import = pd.concat([features, feat_import], axis=1)"
   ]
  },
  {
   "cell_type": "code",
   "execution_count": 57,
   "id": "953627ce",
   "metadata": {
    "execution": {
     "iopub.execute_input": "2021-11-22T12:40:57.387033Z",
     "iopub.status.busy": "2021-11-22T12:40:57.386302Z",
     "iopub.status.idle": "2021-11-22T12:40:57.393724Z",
     "shell.execute_reply": "2021-11-22T12:40:57.394230Z",
     "shell.execute_reply.started": "2021-11-22T12:37:12.384292Z"
    },
    "papermill": {
     "duration": 0.117968,
     "end_time": "2021-11-22T12:40:57.394441",
     "exception": false,
     "start_time": "2021-11-22T12:40:57.276473",
     "status": "completed"
    },
    "tags": []
   },
   "outputs": [],
   "source": [
    "feat_import.sort_values('value', ascending=False, inplace=True)"
   ]
  },
  {
   "cell_type": "code",
   "execution_count": 58,
   "id": "66933a8a",
   "metadata": {
    "execution": {
     "iopub.execute_input": "2021-11-22T12:40:57.606673Z",
     "iopub.status.busy": "2021-11-22T12:40:57.604259Z",
     "iopub.status.idle": "2021-11-22T12:40:57.623278Z",
     "shell.execute_reply": "2021-11-22T12:40:57.622451Z",
     "shell.execute_reply.started": "2021-11-22T12:37:12.398630Z"
    },
    "papermill": {
     "duration": 0.132143,
     "end_time": "2021-11-22T12:40:57.623433",
     "exception": false,
     "start_time": "2021-11-22T12:40:57.491290",
     "status": "completed"
    },
    "tags": []
   },
   "outputs": [
    {
     "data": {
      "text/html": [
       "<div>\n",
       "<style scoped>\n",
       "    .dataframe tbody tr th:only-of-type {\n",
       "        vertical-align: middle;\n",
       "    }\n",
       "\n",
       "    .dataframe tbody tr th {\n",
       "        vertical-align: top;\n",
       "    }\n",
       "\n",
       "    .dataframe thead th {\n",
       "        text-align: right;\n",
       "    }\n",
       "</style>\n",
       "<table border=\"1\" class=\"dataframe\">\n",
       "  <thead>\n",
       "    <tr style=\"text-align: right;\">\n",
       "      <th></th>\n",
       "      <th>features</th>\n",
       "      <th>value</th>\n",
       "    </tr>\n",
       "  </thead>\n",
       "  <tbody>\n",
       "    <tr>\n",
       "      <th>0</th>\n",
       "      <td>year</td>\n",
       "      <td>0.134661</td>\n",
       "    </tr>\n",
       "    <tr>\n",
       "      <th>14</th>\n",
       "      <td>model_ka+</td>\n",
       "      <td>0.122159</td>\n",
       "    </tr>\n",
       "    <tr>\n",
       "      <th>8</th>\n",
       "      <td>model_fiesta</td>\n",
       "      <td>0.099512</td>\n",
       "    </tr>\n",
       "    <tr>\n",
       "      <th>29</th>\n",
       "      <td>fuelType_petrol</td>\n",
       "      <td>0.097710</td>\n",
       "    </tr>\n",
       "    <tr>\n",
       "      <th>3</th>\n",
       "      <td>engineSize</td>\n",
       "      <td>0.088138</td>\n",
       "    </tr>\n",
       "    <tr>\n",
       "      <th>15</th>\n",
       "      <td>model_kuga</td>\n",
       "      <td>0.062351</td>\n",
       "    </tr>\n",
       "    <tr>\n",
       "      <th>6</th>\n",
       "      <td>model_edge</td>\n",
       "      <td>0.059770</td>\n",
       "    </tr>\n",
       "    <tr>\n",
       "      <th>18</th>\n",
       "      <td>model_puma</td>\n",
       "      <td>0.052948</td>\n",
       "    </tr>\n",
       "    <tr>\n",
       "      <th>13</th>\n",
       "      <td>model_ka</td>\n",
       "      <td>0.045538</td>\n",
       "    </tr>\n",
       "    <tr>\n",
       "      <th>26</th>\n",
       "      <td>fuelType_diesel</td>\n",
       "      <td>0.038605</td>\n",
       "    </tr>\n",
       "    <tr>\n",
       "      <th>11</th>\n",
       "      <td>model_galaxy</td>\n",
       "      <td>0.034428</td>\n",
       "    </tr>\n",
       "    <tr>\n",
       "      <th>4</th>\n",
       "      <td>model_b-max</td>\n",
       "      <td>0.022689</td>\n",
       "    </tr>\n",
       "    <tr>\n",
       "      <th>19</th>\n",
       "      <td>model_s-max</td>\n",
       "      <td>0.021991</td>\n",
       "    </tr>\n",
       "    <tr>\n",
       "      <th>24</th>\n",
       "      <td>transmission_manual</td>\n",
       "      <td>0.018701</td>\n",
       "    </tr>\n",
       "    <tr>\n",
       "      <th>9</th>\n",
       "      <td>model_focus</td>\n",
       "      <td>0.018656</td>\n",
       "    </tr>\n",
       "    <tr>\n",
       "      <th>5</th>\n",
       "      <td>model_c-max</td>\n",
       "      <td>0.017650</td>\n",
       "    </tr>\n",
       "    <tr>\n",
       "      <th>2</th>\n",
       "      <td>mpg</td>\n",
       "      <td>0.015405</td>\n",
       "    </tr>\n",
       "    <tr>\n",
       "      <th>1</th>\n",
       "      <td>mileage</td>\n",
       "      <td>0.010626</td>\n",
       "    </tr>\n",
       "    <tr>\n",
       "      <th>16</th>\n",
       "      <td>model_mondeo</td>\n",
       "      <td>0.009942</td>\n",
       "    </tr>\n",
       "    <tr>\n",
       "      <th>22</th>\n",
       "      <td>model_tourneocustom</td>\n",
       "      <td>0.006244</td>\n",
       "    </tr>\n",
       "    <tr>\n",
       "      <th>28</th>\n",
       "      <td>fuelType_hybrid</td>\n",
       "      <td>0.006050</td>\n",
       "    </tr>\n",
       "    <tr>\n",
       "      <th>12</th>\n",
       "      <td>model_grandtourneoconnect</td>\n",
       "      <td>0.005767</td>\n",
       "    </tr>\n",
       "    <tr>\n",
       "      <th>10</th>\n",
       "      <td>model_fusion</td>\n",
       "      <td>0.005054</td>\n",
       "    </tr>\n",
       "    <tr>\n",
       "      <th>23</th>\n",
       "      <td>transmission_automatic</td>\n",
       "      <td>0.001974</td>\n",
       "    </tr>\n",
       "    <tr>\n",
       "      <th>21</th>\n",
       "      <td>model_tourneoconnect</td>\n",
       "      <td>0.001796</td>\n",
       "    </tr>\n",
       "    <tr>\n",
       "      <th>25</th>\n",
       "      <td>transmission_semi-auto</td>\n",
       "      <td>0.001635</td>\n",
       "    </tr>\n",
       "    <tr>\n",
       "      <th>7</th>\n",
       "      <td>model_escort</td>\n",
       "      <td>0.000000</td>\n",
       "    </tr>\n",
       "    <tr>\n",
       "      <th>27</th>\n",
       "      <td>fuelType_electric</td>\n",
       "      <td>0.000000</td>\n",
       "    </tr>\n",
       "    <tr>\n",
       "      <th>20</th>\n",
       "      <td>model_streetka</td>\n",
       "      <td>0.000000</td>\n",
       "    </tr>\n",
       "    <tr>\n",
       "      <th>17</th>\n",
       "      <td>model_mustang</td>\n",
       "      <td>0.000000</td>\n",
       "    </tr>\n",
       "  </tbody>\n",
       "</table>\n",
       "</div>"
      ],
      "text/plain": [
       "                     features     value\n",
       "0                        year  0.134661\n",
       "14                  model_ka+  0.122159\n",
       "8                model_fiesta  0.099512\n",
       "29            fuelType_petrol  0.097710\n",
       "3                  engineSize  0.088138\n",
       "15                 model_kuga  0.062351\n",
       "6                  model_edge  0.059770\n",
       "18                 model_puma  0.052948\n",
       "13                   model_ka  0.045538\n",
       "26            fuelType_diesel  0.038605\n",
       "11               model_galaxy  0.034428\n",
       "4                 model_b-max  0.022689\n",
       "19                model_s-max  0.021991\n",
       "24        transmission_manual  0.018701\n",
       "9                 model_focus  0.018656\n",
       "5                 model_c-max  0.017650\n",
       "2                         mpg  0.015405\n",
       "1                     mileage  0.010626\n",
       "16               model_mondeo  0.009942\n",
       "22        model_tourneocustom  0.006244\n",
       "28            fuelType_hybrid  0.006050\n",
       "12  model_grandtourneoconnect  0.005767\n",
       "10               model_fusion  0.005054\n",
       "23     transmission_automatic  0.001974\n",
       "21       model_tourneoconnect  0.001796\n",
       "25     transmission_semi-auto  0.001635\n",
       "7                model_escort  0.000000\n",
       "27          fuelType_electric  0.000000\n",
       "20             model_streetka  0.000000\n",
       "17              model_mustang  0.000000"
      ]
     },
     "execution_count": 58,
     "metadata": {},
     "output_type": "execute_result"
    }
   ],
   "source": [
    "feat_import"
   ]
  },
  {
   "cell_type": "code",
   "execution_count": 59,
   "id": "0c61b342",
   "metadata": {
    "execution": {
     "iopub.execute_input": "2021-11-22T12:40:57.847411Z",
     "iopub.status.busy": "2021-11-22T12:40:57.825240Z",
     "iopub.status.idle": "2021-11-22T12:40:58.384487Z",
     "shell.execute_reply": "2021-11-22T12:40:58.385065Z",
     "shell.execute_reply.started": "2021-11-22T12:38:35.545939Z"
    },
    "papermill": {
     "duration": 0.654518,
     "end_time": "2021-11-22T12:40:58.385290",
     "exception": false,
     "start_time": "2021-11-22T12:40:57.730772",
     "status": "completed"
    },
    "tags": []
   },
   "outputs": [
    {
     "data": {
      "text/plain": [
       "<AxesSubplot:ylabel='features'>"
      ]
     },
     "execution_count": 59,
     "metadata": {},
     "output_type": "execute_result"
    },
    {
     "data": {
      "image/png": "[encoded data removed]",
      "text/plain": [
       "<Figure size 936x648 with 1 Axes>"
      ]
     },
     "metadata": {
      "needs_background": "light"
     },
     "output_type": "display_data"
    }
   ],
   "source": [
    "feat_import.plot.barh(x ='features', figsize=(13, 9))"
   ]
  },
  {
   "cell_type": "markdown",
   "id": "470736a4",
   "metadata": {
    "papermill": {
     "duration": 0.0958,
     "end_time": "2021-11-22T12:40:58.578513",
     "exception": false,
     "start_time": "2021-11-22T12:40:58.482713",
     "status": "completed"
    },
    "tags": []
   },
   "source": [
    "**Let's create a dataframe with the attributes and their values, sort them in descending order. `Model_mustang`, `model_escort`, `fuelType_electric`, `model_streetka` didn't bring anything to our training.**  \n",
    "  \n",
    "**Let's remove the signs with a small value and perform a regression analysis again**    "
   ]
  },
  {
   "cell_type": "code",
   "execution_count": 60,
   "id": "7f5275d8",
   "metadata": {
    "execution": {
     "iopub.execute_input": "2021-11-22T12:40:58.779595Z",
     "iopub.status.busy": "2021-11-22T12:40:58.778780Z",
     "iopub.status.idle": "2021-11-22T12:40:58.785182Z",
     "shell.execute_reply": "2021-11-22T12:40:58.786184Z",
     "shell.execute_reply.started": "2021-11-22T12:37:12.420533Z"
    },
    "papermill": {
     "duration": 0.108806,
     "end_time": "2021-11-22T12:40:58.786572",
     "exception": false,
     "start_time": "2021-11-22T12:40:58.677766",
     "status": "completed"
    },
    "tags": []
   },
   "outputs": [
    {
     "name": "stdout",
     "output_type": "stream",
     "text": [
      "['year', 'model_ka+', 'model_fiesta', 'fuelType_petrol', 'engineSize', 'model_kuga', 'model_edge', 'model_puma', 'model_ka', 'fuelType_diesel', 'model_galaxy', 'model_b-max', 'model_s-max', 'transmission_manual', 'model_focus', 'model_c-max', 'mpg', 'mileage', 'model_mondeo', 'model_tourneocustom', 'fuelType_hybrid', 'model_grandtourneoconnect', 'model_fusion', 'transmission_automatic', 'model_tourneoconnect', 'transmission_semi-auto', 'model_escort', 'fuelType_electric', 'model_streetka', 'model_mustang']\n"
     ]
    }
   ],
   "source": [
    "print(list(feat_import.features))"
   ]
  },
  {
   "cell_type": "markdown",
   "id": "fd836a88",
   "metadata": {
    "papermill": {
     "duration": 0.100452,
     "end_time": "2021-11-22T12:40:58.981259",
     "exception": false,
     "start_time": "2021-11-22T12:40:58.880807",
     "status": "completed"
    },
    "tags": []
   },
   "source": [
    "**Let's take those signs where the value is less than 0.01**"
   ]
  },
  {
   "cell_type": "code",
   "execution_count": 61,
   "id": "d446e7bd",
   "metadata": {
    "execution": {
     "iopub.execute_input": "2021-11-22T12:40:59.185755Z",
     "iopub.status.busy": "2021-11-22T12:40:59.184523Z",
     "iopub.status.idle": "2021-11-22T12:40:59.421688Z",
     "shell.execute_reply": "2021-11-22T12:40:59.421004Z",
     "shell.execute_reply.started": "2021-11-22T12:37:12.432647Z"
    },
    "papermill": {
     "duration": 0.343342,
     "end_time": "2021-11-22T12:40:59.421860",
     "exception": false,
     "start_time": "2021-11-22T12:40:59.078518",
     "status": "completed"
    },
    "tags": []
   },
   "outputs": [
    {
     "name": "stdout",
     "output_type": "stream",
     "text": [
      "                                 OLS Regression Results                                \n",
      "=======================================================================================\n",
      "Dep. Variable:                  price   R-squared (uncentered):                   0.979\n",
      "Model:                            OLS   Adj. R-squared (uncentered):              0.979\n",
      "Method:                 Least Squares   F-statistic:                          4.875e+04\n",
      "Date:                Mon, 22 Nov 2021   Prob (F-statistic):                        0.00\n",
      "Time:                        12:40:59   Log-Likelihood:                     -1.5768e+05\n",
      "No. Observations:               17634   AIC:                                  3.154e+05\n",
      "Df Residuals:                   17617   BIC:                                  3.155e+05\n",
      "Df Model:                          17                                                  \n",
      "Covariance Type:            nonrobust                                                  \n",
      "===================================================================================\n",
      "                      coef    std err          t      P>|t|      [0.025      0.975]\n",
      "-----------------------------------------------------------------------------------\n",
      "year            -1085.8274     10.409   -104.317      0.000   -1106.230   -1065.425\n",
      "mileage            -0.0623      0.001    -56.805      0.000      -0.064      -0.060\n",
      "mpg               -45.3165      2.380    -19.039      0.000     -49.982     -40.651\n",
      "engineSize       3774.0557     70.960     53.186      0.000    3634.967    3913.144\n",
      "model_b-max     -1805.3521    108.405    -16.654      0.000   -2017.837   -1592.868\n",
      "model_edge       6319.0777    156.431     40.395      0.000    6012.458    6625.697\n",
      "model_fiesta     -761.5291     54.495    -13.974      0.000    -868.345    -654.713\n",
      "model_focus      1245.6915     52.656     23.657      0.000    1142.480    1348.903\n",
      "model_galaxy     4719.3062    137.487     34.326      0.000    4449.818    4988.794\n",
      "model_ka        -2432.8158    141.610    -17.180      0.000   -2710.386   -2155.246\n",
      "model_ka+       -4786.7502     93.053    -51.441      0.000   -4969.142   -4604.358\n",
      "model_kuga       2011.5022     63.711     31.573      0.000    1886.623    2136.381\n",
      "model_mondeo     1656.0871    100.009     16.559      0.000    1460.060    1852.114\n",
      "model_puma       6743.0059    214.286     31.467      0.000    6322.985    7163.027\n",
      "model_s-max      4219.6278    123.048     34.293      0.000    3978.442    4460.814\n",
      "fuelType_diesel  1.481e+04    231.257     64.044      0.000    1.44e+04    1.53e+04\n",
      "fuelType_petrol  1.553e+04    175.257     88.628      0.000    1.52e+04    1.59e+04\n",
      "==============================================================================\n",
      "Omnibus:                     7195.068   Durbin-Watson:                   1.760\n",
      "Prob(Omnibus):                  0.000   Jarque-Bera (JB):           104458.305\n",
      "Skew:                           1.566   Prob(JB):                         0.00\n",
      "Kurtosis:                      14.505   Cond. No.                     6.50e+05\n",
      "==============================================================================\n",
      "\n",
      "Notes:\n",
      "[1] R² is computed without centering (uncentered) since the model does not contain a constant.\n",
      "[2] Standard Errors assume that the covariance matrix of the errors is correctly specified.\n",
      "[3] The condition number is large, 6.5e+05. This might indicate that there are\n",
      "strong multicollinearity or other numerical problems.\n"
     ]
    }
   ],
   "source": [
    "X = data.drop(['price', 'model_transittourneo', 'model_grandc-max', 'model_ecosport', 'tax', 'model_ranger', 'model_c-max',\n",
    " 'transmission_manual',\n",
    " 'model_grandtourneoconnect',\n",
    " 'model_tourneocustom',\n",
    " 'fuelType_hybrid',\n",
    " 'model_fusion',\n",
    " 'model_tourneoconnect',\n",
    " 'transmission_automatic',\n",
    " 'transmission_semi-auto',\n",
    " 'model_mustang',\n",
    " 'model_escort',\n",
    " 'fuelType_electric',\n",
    " 'model_streetka'], axis=1)\n",
    "y = data.price\n",
    "model_OLS_2 = sm.OLS(y, X).fit()\n",
    "print(model_OLS_2.summary())"
   ]
  },
  {
   "cell_type": "code",
   "execution_count": 62,
   "id": "a73c74e5",
   "metadata": {
    "execution": {
     "iopub.execute_input": "2021-11-22T12:40:59.628613Z",
     "iopub.status.busy": "2021-11-22T12:40:59.627871Z",
     "iopub.status.idle": "2021-11-22T12:40:59.630713Z",
     "shell.execute_reply": "2021-11-22T12:40:59.631352Z",
     "shell.execute_reply.started": "2021-11-22T12:37:12.495450Z"
    },
    "papermill": {
     "duration": 0.111481,
     "end_time": "2021-11-22T12:40:59.631583",
     "exception": false,
     "start_time": "2021-11-22T12:40:59.520102",
     "status": "completed"
    },
    "tags": []
   },
   "outputs": [
    {
     "name": "stdout",
     "output_type": "stream",
     "text": [
      "R-squared 0.8493517963468167\n",
      "Adj. R-squared 0.8491121968181436\n"
     ]
    }
   ],
   "source": [
    "print('R-squared', model_OLS.rsquared)\n",
    "print('Adj. R-squared', model_OLS.rsquared_adj)"
   ]
  },
  {
   "cell_type": "code",
   "execution_count": 63,
   "id": "e6637acc",
   "metadata": {
    "execution": {
     "iopub.execute_input": "2021-11-22T12:40:59.822176Z",
     "iopub.status.busy": "2021-11-22T12:40:59.821446Z",
     "iopub.status.idle": "2021-11-22T12:40:59.828650Z",
     "shell.execute_reply": "2021-11-22T12:40:59.828037Z",
     "shell.execute_reply.started": "2021-11-22T12:37:12.504376Z"
    },
    "papermill": {
     "duration": 0.104022,
     "end_time": "2021-11-22T12:40:59.828809",
     "exception": false,
     "start_time": "2021-11-22T12:40:59.724787",
     "status": "completed"
    },
    "tags": []
   },
   "outputs": [
    {
     "name": "stdout",
     "output_type": "stream",
     "text": [
      "R-squared 0.9791845889642671\n",
      "Adj. R-squared 0.9791645025711464\n"
     ]
    }
   ],
   "source": [
    "print('R-squared', model_OLS_2.rsquared)\n",
    "print('Adj. R-squared', model_OLS_2.rsquared_adj)"
   ]
  },
  {
   "cell_type": "markdown",
   "id": "6bc27bb1",
   "metadata": {
    "papermill": {
     "duration": 0.094341,
     "end_time": "2021-11-22T12:41:00.016650",
     "exception": false,
     "start_time": "2021-11-22T12:40:59.922309",
     "status": "completed"
    },
    "tags": []
   },
   "source": [
    "**<li>Up to `XGBRegressor` the result is `R-squared` 0.849**\n",
    "**<li>after learning on the `XGBRegressor` algorithm and removing weak features - `R-squared` 0.979**"
   ]
  }
 ],
 "metadata": {
  "kernelspec": {
   "display_name": "Python 3",
   "language": "python",
   "name": "python3"
  },
  "language_info": {
   "codemirror_mode": {
    "name": "ipython",
    "version": 3
   },
   "file_extension": ".py",
   "mimetype": "text/x-python",
   "name": "python",
   "nbconvert_exporter": "python",
   "pygments_lexer": "ipython3",
   "version": "3.7.10"
  },
  "papermill": {
   "default_parameters": {},
   "duration": 109.306901,
   "end_time": "2021-11-22T12:41:01.330768",
   "environment_variables": {},
   "exception": null,
   "input_path": "__notebook__.ipynb",
   "output_path": "__notebook__.ipynb",
   "parameters": {},
   "start_time": "2021-11-22T12:39:12.023867",
   "version": "2.3.3"
  }
 },
 "nbformat": 4,
 "nbformat_minor": 5
}

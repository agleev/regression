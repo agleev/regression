{
 "cells": [
  {
   "cell_type": "markdown",
   "id": "16defa00",
   "metadata": {
    "papermill": {
     "duration": 0.044724,
     "end_time": "2021-11-02T19:51:09.160181",
     "exception": false,
     "start_time": "2021-11-02T19:51:09.115457",
     "status": "completed"
    },
    "tags": []
   },
   "source": [
    "# Importing Necessary Libraries"
   ]
  },
  {
   "cell_type": "code",
   "execution_count": 1,
   "id": "c4b05da2",
   "metadata": {
    "execution": {
     "iopub.execute_input": "2021-11-02T19:51:09.254279Z",
     "iopub.status.busy": "2021-11-02T19:51:09.253058Z",
     "iopub.status.idle": "2021-11-02T19:51:11.208485Z",
     "shell.execute_reply": "2021-11-02T19:51:11.207706Z",
     "shell.execute_reply.started": "2021-11-02T10:16:24.379372Z"
    },
    "papermill": {
     "duration": 2.002711,
     "end_time": "2021-11-02T19:51:11.208647",
     "exception": false,
     "start_time": "2021-11-02T19:51:09.205936",
     "status": "completed"
    },
    "tags": []
   },
   "outputs": [],
   "source": [
    "import numpy as np\n",
    "import pandas as pd \n",
    "import matplotlib.pyplot as plt\n",
    "import seaborn as sns\n",
    "%matplotlib inline\n",
    "from sklearn.preprocessing import LabelEncoder\n",
    "\n",
    "import statsmodels.api as sm\n",
    "from sklearn.model_selection import train_test_split\n",
    "from sklearn.model_selection import KFold\n",
    "from sklearn.metrics import r2_score\n",
    "from sklearn.model_selection import cross_val_score\n",
    "\n",
    "from sklearn.linear_model import LinearRegression\n",
    "from sklearn.linear_model import Ridge\n",
    "from sklearn.linear_model import Lasso\n",
    "from sklearn.linear_model import BayesianRidge\n",
    "from sklearn.neighbors import KNeighborsRegressor\n",
    "from sklearn.tree import DecisionTreeRegressor\n",
    "from sklearn.svm import SVR\n",
    "from sklearn.ensemble import AdaBoostRegressor\n",
    "from sklearn.ensemble import BaggingRegressor\n",
    "from sklearn.ensemble import ExtraTreesRegressor\n",
    "from sklearn.ensemble import GradientBoostingRegressor\n",
    "from sklearn.ensemble import RandomForestRegressor\n"
   ]
  },
  {
   "cell_type": "markdown",
   "id": "afc079fd",
   "metadata": {
    "papermill": {
     "duration": 0.044816,
     "end_time": "2021-11-02T19:51:11.298724",
     "exception": false,
     "start_time": "2021-11-02T19:51:11.253908",
     "status": "completed"
    },
    "tags": []
   },
   "source": [
    "# Reading the Dataset"
   ]
  },
  {
   "cell_type": "code",
   "execution_count": 2,
   "id": "22202ea7",
   "metadata": {
    "execution": {
     "iopub.execute_input": "2021-11-02T19:51:11.390292Z",
     "iopub.status.busy": "2021-11-02T19:51:11.389715Z",
     "iopub.status.idle": "2021-11-02T19:51:11.406807Z",
     "shell.execute_reply": "2021-11-02T19:51:11.407255Z",
     "shell.execute_reply.started": "2021-11-02T10:16:24.405289Z"
    },
    "papermill": {
     "duration": 0.064059,
     "end_time": "2021-11-02T19:51:11.407417",
     "exception": false,
     "start_time": "2021-11-02T19:51:11.343358",
     "status": "completed"
    },
    "tags": []
   },
   "outputs": [],
   "source": [
    "data = pd.read_csv('/kaggle/input/pizza-price-prediction/pizza_v2.csv')"
   ]
  },
  {
   "cell_type": "code",
   "execution_count": 3,
   "id": "a30c65cf",
   "metadata": {
    "execution": {
     "iopub.execute_input": "2021-11-02T19:51:11.500294Z",
     "iopub.status.busy": "2021-11-02T19:51:11.499629Z",
     "iopub.status.idle": "2021-11-02T19:51:11.525040Z",
     "shell.execute_reply": "2021-11-02T19:51:11.525532Z",
     "shell.execute_reply.started": "2021-11-02T10:16:24.418469Z"
    },
    "papermill": {
     "duration": 0.073845,
     "end_time": "2021-11-02T19:51:11.525713",
     "exception": false,
     "start_time": "2021-11-02T19:51:11.451868",
     "status": "completed"
    },
    "tags": []
   },
   "outputs": [
    {
     "data": {
      "text/html": [
       "<div>\n",
       "<style scoped>\n",
       "    .dataframe tbody tr th:only-of-type {\n",
       "        vertical-align: middle;\n",
       "    }\n",
       "\n",
       "    .dataframe tbody tr th {\n",
       "        vertical-align: top;\n",
       "    }\n",
       "\n",
       "    .dataframe thead th {\n",
       "        text-align: right;\n",
       "    }\n",
       "</style>\n",
       "<table border=\"1\" class=\"dataframe\">\n",
       "  <thead>\n",
       "    <tr style=\"text-align: right;\">\n",
       "      <th></th>\n",
       "      <th>company</th>\n",
       "      <th>price_rupiah</th>\n",
       "      <th>diameter</th>\n",
       "      <th>topping</th>\n",
       "      <th>variant</th>\n",
       "      <th>size</th>\n",
       "      <th>extra_sauce</th>\n",
       "      <th>extra_cheese</th>\n",
       "      <th>extra_mushrooms</th>\n",
       "    </tr>\n",
       "  </thead>\n",
       "  <tbody>\n",
       "    <tr>\n",
       "      <th>0</th>\n",
       "      <td>A</td>\n",
       "      <td>Rp235,000</td>\n",
       "      <td>22 inch</td>\n",
       "      <td>chicken</td>\n",
       "      <td>double_signature</td>\n",
       "      <td>jumbo</td>\n",
       "      <td>yes</td>\n",
       "      <td>yes</td>\n",
       "      <td>no</td>\n",
       "    </tr>\n",
       "    <tr>\n",
       "      <th>1</th>\n",
       "      <td>A</td>\n",
       "      <td>Rp198,000</td>\n",
       "      <td>20 inch</td>\n",
       "      <td>papperoni</td>\n",
       "      <td>double_signature</td>\n",
       "      <td>jumbo</td>\n",
       "      <td>yes</td>\n",
       "      <td>yes</td>\n",
       "      <td>no</td>\n",
       "    </tr>\n",
       "    <tr>\n",
       "      <th>2</th>\n",
       "      <td>A</td>\n",
       "      <td>Rp120,000</td>\n",
       "      <td>16 inch</td>\n",
       "      <td>mushrooms</td>\n",
       "      <td>double_signature</td>\n",
       "      <td>reguler</td>\n",
       "      <td>yes</td>\n",
       "      <td>yes</td>\n",
       "      <td>yes</td>\n",
       "    </tr>\n",
       "    <tr>\n",
       "      <th>3</th>\n",
       "      <td>A</td>\n",
       "      <td>Rp155,000</td>\n",
       "      <td>14 inch</td>\n",
       "      <td>smoked_beef</td>\n",
       "      <td>double_signature</td>\n",
       "      <td>reguler</td>\n",
       "      <td>yes</td>\n",
       "      <td>no</td>\n",
       "      <td>yes</td>\n",
       "    </tr>\n",
       "    <tr>\n",
       "      <th>4</th>\n",
       "      <td>A</td>\n",
       "      <td>Rp248,000</td>\n",
       "      <td>18 inch</td>\n",
       "      <td>mozzarella</td>\n",
       "      <td>double_signature</td>\n",
       "      <td>jumbo</td>\n",
       "      <td>yes</td>\n",
       "      <td>no</td>\n",
       "      <td>yes</td>\n",
       "    </tr>\n",
       "    <tr>\n",
       "      <th>...</th>\n",
       "      <td>...</td>\n",
       "      <td>...</td>\n",
       "      <td>...</td>\n",
       "      <td>...</td>\n",
       "      <td>...</td>\n",
       "      <td>...</td>\n",
       "      <td>...</td>\n",
       "      <td>...</td>\n",
       "      <td>...</td>\n",
       "    </tr>\n",
       "    <tr>\n",
       "      <th>124</th>\n",
       "      <td>E</td>\n",
       "      <td>Rp39,000</td>\n",
       "      <td>8.5 inch</td>\n",
       "      <td>tuna</td>\n",
       "      <td>spicy tuna</td>\n",
       "      <td>small</td>\n",
       "      <td>yes</td>\n",
       "      <td>yes</td>\n",
       "      <td>yes</td>\n",
       "    </tr>\n",
       "    <tr>\n",
       "      <th>125</th>\n",
       "      <td>E</td>\n",
       "      <td>Rp72,000</td>\n",
       "      <td>12 inch</td>\n",
       "      <td>tuna</td>\n",
       "      <td>spicy tuna</td>\n",
       "      <td>medium</td>\n",
       "      <td>yes</td>\n",
       "      <td>yes</td>\n",
       "      <td>yes</td>\n",
       "    </tr>\n",
       "    <tr>\n",
       "      <th>126</th>\n",
       "      <td>E</td>\n",
       "      <td>Rp99,000</td>\n",
       "      <td>14 inch</td>\n",
       "      <td>tuna</td>\n",
       "      <td>spicy tuna</td>\n",
       "      <td>large</td>\n",
       "      <td>yes</td>\n",
       "      <td>yes</td>\n",
       "      <td>yes</td>\n",
       "    </tr>\n",
       "    <tr>\n",
       "      <th>127</th>\n",
       "      <td>E</td>\n",
       "      <td>Rp44,000</td>\n",
       "      <td>8.5 inch</td>\n",
       "      <td>meat</td>\n",
       "      <td>BBQ_meat_fiesta</td>\n",
       "      <td>small</td>\n",
       "      <td>yes</td>\n",
       "      <td>no</td>\n",
       "      <td>yes</td>\n",
       "    </tr>\n",
       "    <tr>\n",
       "      <th>128</th>\n",
       "      <td>E</td>\n",
       "      <td>Rp78,000</td>\n",
       "      <td>12 inch</td>\n",
       "      <td>meat</td>\n",
       "      <td>BBQ_meat_fiesta</td>\n",
       "      <td>medium</td>\n",
       "      <td>no</td>\n",
       "      <td>no</td>\n",
       "      <td>yes</td>\n",
       "    </tr>\n",
       "  </tbody>\n",
       "</table>\n",
       "<p>129 rows × 9 columns</p>\n",
       "</div>"
      ],
      "text/plain": [
       "    company price_rupiah  diameter      topping           variant     size  \\\n",
       "0         A    Rp235,000   22 inch      chicken  double_signature    jumbo   \n",
       "1         A    Rp198,000   20 inch    papperoni  double_signature    jumbo   \n",
       "2         A    Rp120,000   16 inch    mushrooms  double_signature  reguler   \n",
       "3         A    Rp155,000   14 inch  smoked_beef  double_signature  reguler   \n",
       "4         A    Rp248,000   18 inch   mozzarella  double_signature    jumbo   \n",
       "..      ...          ...       ...          ...               ...      ...   \n",
       "124       E     Rp39,000  8.5 inch         tuna        spicy tuna    small   \n",
       "125       E     Rp72,000   12 inch         tuna        spicy tuna   medium   \n",
       "126       E     Rp99,000   14 inch         tuna        spicy tuna    large   \n",
       "127       E     Rp44,000  8.5 inch         meat   BBQ_meat_fiesta    small   \n",
       "128       E     Rp78,000   12 inch         meat   BBQ_meat_fiesta   medium   \n",
       "\n",
       "    extra_sauce extra_cheese extra_mushrooms  \n",
       "0           yes          yes              no  \n",
       "1           yes          yes              no  \n",
       "2           yes          yes             yes  \n",
       "3           yes           no             yes  \n",
       "4           yes           no             yes  \n",
       "..          ...          ...             ...  \n",
       "124         yes          yes             yes  \n",
       "125         yes          yes             yes  \n",
       "126         yes          yes             yes  \n",
       "127         yes           no             yes  \n",
       "128          no           no             yes  \n",
       "\n",
       "[129 rows x 9 columns]"
      ]
     },
     "execution_count": 3,
     "metadata": {},
     "output_type": "execute_result"
    }
   ],
   "source": [
    "data"
   ]
  },
  {
   "cell_type": "code",
   "execution_count": 4,
   "id": "3c371b1a",
   "metadata": {
    "execution": {
     "iopub.execute_input": "2021-11-02T19:51:11.676496Z",
     "iopub.status.busy": "2021-11-02T19:51:11.675878Z",
     "iopub.status.idle": "2021-11-02T19:51:11.683144Z",
     "shell.execute_reply": "2021-11-02T19:51:11.683603Z",
     "shell.execute_reply.started": "2021-11-02T10:16:24.438846Z"
    },
    "papermill": {
     "duration": 0.055211,
     "end_time": "2021-11-02T19:51:11.683779",
     "exception": false,
     "start_time": "2021-11-02T19:51:11.628568",
     "status": "completed"
    },
    "tags": []
   },
   "outputs": [
    {
     "data": {
      "text/plain": [
       "company            0.0\n",
       "price_rupiah       0.0\n",
       "diameter           0.0\n",
       "topping            0.0\n",
       "variant            0.0\n",
       "size               0.0\n",
       "extra_sauce        0.0\n",
       "extra_cheese       0.0\n",
       "extra_mushrooms    0.0\n",
       "dtype: float64"
      ]
     },
     "execution_count": 4,
     "metadata": {},
     "output_type": "execute_result"
    }
   ],
   "source": [
    "data.isnull().mean()"
   ]
  },
  {
   "cell_type": "code",
   "execution_count": 5,
   "id": "3e4d192c",
   "metadata": {
    "execution": {
     "iopub.execute_input": "2021-11-02T19:51:11.777703Z",
     "iopub.status.busy": "2021-11-02T19:51:11.777081Z",
     "iopub.status.idle": "2021-11-02T19:51:11.795978Z",
     "shell.execute_reply": "2021-11-02T19:51:11.796870Z",
     "shell.execute_reply.started": "2021-11-02T10:16:24.451582Z"
    },
    "papermill": {
     "duration": 0.068629,
     "end_time": "2021-11-02T19:51:11.797123",
     "exception": false,
     "start_time": "2021-11-02T19:51:11.728494",
     "status": "completed"
    },
    "tags": []
   },
   "outputs": [
    {
     "name": "stdout",
     "output_type": "stream",
     "text": [
      "<class 'pandas.core.frame.DataFrame'>\n",
      "RangeIndex: 129 entries, 0 to 128\n",
      "Data columns (total 9 columns):\n",
      " #   Column           Non-Null Count  Dtype \n",
      "---  ------           --------------  ----- \n",
      " 0   company          129 non-null    object\n",
      " 1   price_rupiah     129 non-null    object\n",
      " 2   diameter         129 non-null    object\n",
      " 3   topping          129 non-null    object\n",
      " 4   variant          129 non-null    object\n",
      " 5   size             129 non-null    object\n",
      " 6   extra_sauce      129 non-null    object\n",
      " 7   extra_cheese     129 non-null    object\n",
      " 8   extra_mushrooms  129 non-null    object\n",
      "dtypes: object(9)\n",
      "memory usage: 9.2+ KB\n"
     ]
    }
   ],
   "source": [
    "data.info()"
   ]
  },
  {
   "cell_type": "code",
   "execution_count": 6,
   "id": "fbf19800",
   "metadata": {
    "execution": {
     "iopub.execute_input": "2021-11-02T19:51:11.893013Z",
     "iopub.status.busy": "2021-11-02T19:51:11.891952Z",
     "iopub.status.idle": "2021-11-02T19:51:11.900085Z",
     "shell.execute_reply": "2021-11-02T19:51:11.900682Z",
     "shell.execute_reply.started": "2021-11-02T10:16:24.485794Z"
    },
    "papermill": {
     "duration": 0.05732,
     "end_time": "2021-11-02T19:51:11.900880",
     "exception": false,
     "start_time": "2021-11-02T19:51:11.843560",
     "status": "completed"
    },
    "tags": []
   },
   "outputs": [
    {
     "data": {
      "text/plain": [
       "company             5\n",
       "price_rupiah       43\n",
       "diameter           12\n",
       "topping            12\n",
       "variant            20\n",
       "size                6\n",
       "extra_sauce         2\n",
       "extra_cheese        2\n",
       "extra_mushrooms     2\n",
       "dtype: int64"
      ]
     },
     "execution_count": 6,
     "metadata": {},
     "output_type": "execute_result"
    }
   ],
   "source": [
    "data.nunique()"
   ]
  },
  {
   "cell_type": "markdown",
   "id": "a730fa49",
   "metadata": {
    "papermill": {
     "duration": 0.045369,
     "end_time": "2021-11-02T19:51:11.991064",
     "exception": false,
     "start_time": "2021-11-02T19:51:11.945695",
     "status": "completed"
    },
    "tags": []
   },
   "source": [
    "**company** - categorical variable   \n",
    "**price_rupiah** - continuous variable   \n",
    "**diameter** - categorical variable    \n",
    "**topping** - categorical variable   \n",
    "**variant** - categorical variable    \n",
    "**size** - categorical variable   \n",
    "**extra_sauce** - binary variable    \n",
    "**extra_cheese** - binary variable   \n",
    "**extra_mushrooms** - binary variable  "
   ]
  },
  {
   "cell_type": "markdown",
   "id": "3ed65959",
   "metadata": {
    "papermill": {
     "duration": 0.045851,
     "end_time": "2021-11-02T19:51:12.083047",
     "exception": false,
     "start_time": "2021-11-02T19:51:12.037196",
     "status": "completed"
    },
    "tags": []
   },
   "source": [
    "# Data preparation and analysis"
   ]
  },
  {
   "cell_type": "markdown",
   "id": "22addb6b",
   "metadata": {
    "papermill": {
     "duration": 0.044501,
     "end_time": "2021-11-02T19:51:12.173451",
     "exception": false,
     "start_time": "2021-11-02T19:51:12.128950",
     "status": "completed"
    },
    "tags": []
   },
   "source": [
    "### price_rupiah"
   ]
  },
  {
   "cell_type": "markdown",
   "id": "5af81ae5",
   "metadata": {
    "papermill": {
     "duration": 0.044247,
     "end_time": "2021-11-02T19:51:12.262377",
     "exception": false,
     "start_time": "2021-11-02T19:51:12.218130",
     "status": "completed"
    },
    "tags": []
   },
   "source": [
    "**price_rupiah shows the price for pizza in rupees, we remove the currency designation and leave only the price**"
   ]
  },
  {
   "cell_type": "code",
   "execution_count": 7,
   "id": "ed3d022a",
   "metadata": {
    "execution": {
     "iopub.execute_input": "2021-11-02T19:51:12.357187Z",
     "iopub.status.busy": "2021-11-02T19:51:12.356170Z",
     "iopub.status.idle": "2021-11-02T19:51:12.362119Z",
     "shell.execute_reply": "2021-11-02T19:51:12.362654Z",
     "shell.execute_reply.started": "2021-11-02T10:16:24.496677Z"
    },
    "papermill": {
     "duration": 0.055462,
     "end_time": "2021-11-02T19:51:12.362836",
     "exception": false,
     "start_time": "2021-11-02T19:51:12.307374",
     "status": "completed"
    },
    "tags": []
   },
   "outputs": [
    {
     "data": {
      "text/plain": [
       "array(['Rp235,000', 'Rp198,000', 'Rp120,000', 'Rp155,000', 'Rp248,000',\n",
       "       'Rp140,000', 'Rp110,000', 'Rp70,000', 'Rp90,000', 'Rp230,000',\n",
       "       'Rp188,000', 'Rp114,000', 'Rp149,000', 'Rp23,500', 'Rp46,000',\n",
       "       'Rp72,000', 'Rp49,000', 'Rp83,000', 'Rp96,000', 'Rp31,000',\n",
       "       'Rp69,000', 'Rp93,000', 'Rp75,000', 'Rp115,000', 'Rp123,000',\n",
       "       'Rp33,000', 'Rp76,000', 'Rp119,000', 'Rp126,500', 'Rp39,000',\n",
       "       'Rp99,000', 'Rp44,000', 'Rp78,000', 'Rp105,000', 'Rp35,000',\n",
       "       'Rp60,000', 'Rp98,000', 'Rp28,000', 'Rp51,000', 'Rp84,000',\n",
       "       'Rp32,000', 'Rp54,000', 'Rp92,000'], dtype=object)"
      ]
     },
     "execution_count": 7,
     "metadata": {},
     "output_type": "execute_result"
    }
   ],
   "source": [
    "data['price_rupiah'].unique()"
   ]
  },
  {
   "cell_type": "code",
   "execution_count": 8,
   "id": "bea3cfd0",
   "metadata": {
    "execution": {
     "iopub.execute_input": "2021-11-02T19:51:12.458531Z",
     "iopub.status.busy": "2021-11-02T19:51:12.457555Z",
     "iopub.status.idle": "2021-11-02T19:51:12.463512Z",
     "shell.execute_reply": "2021-11-02T19:51:12.464136Z",
     "shell.execute_reply.started": "2021-11-02T10:16:24.505284Z"
    },
    "papermill": {
     "duration": 0.055347,
     "end_time": "2021-11-02T19:51:12.464314",
     "exception": false,
     "start_time": "2021-11-02T19:51:12.408967",
     "status": "completed"
    },
    "tags": []
   },
   "outputs": [],
   "source": [
    "data['price_rupiah'] = data.price_rupiah.str.extract(r'(\\d+[.\\d]*)').astype(int)"
   ]
  },
  {
   "cell_type": "code",
   "execution_count": 9,
   "id": "adade276",
   "metadata": {
    "execution": {
     "iopub.execute_input": "2021-11-02T19:51:12.563630Z",
     "iopub.status.busy": "2021-11-02T19:51:12.562881Z",
     "iopub.status.idle": "2021-11-02T19:51:12.565982Z",
     "shell.execute_reply": "2021-11-02T19:51:12.566454Z",
     "shell.execute_reply.started": "2021-11-02T10:16:24.519053Z"
    },
    "papermill": {
     "duration": 0.056462,
     "end_time": "2021-11-02T19:51:12.566606",
     "exception": false,
     "start_time": "2021-11-02T19:51:12.510144",
     "status": "completed"
    },
    "tags": []
   },
   "outputs": [
    {
     "data": {
      "text/plain": [
       "array([235, 198, 120, 155, 248, 140, 110,  70,  90, 230, 188, 114, 149,\n",
       "        23,  46,  72,  49,  83,  96,  31,  69,  93,  75, 115, 123,  33,\n",
       "        76, 119, 126,  39,  99,  44,  78, 105,  35,  60,  98,  28,  51,\n",
       "        84,  32,  54,  92])"
      ]
     },
     "execution_count": 9,
     "metadata": {},
     "output_type": "execute_result"
    }
   ],
   "source": [
    "data['price_rupiah'].unique()"
   ]
  },
  {
   "cell_type": "markdown",
   "id": "d7a230e4",
   "metadata": {
    "papermill": {
     "duration": 0.046154,
     "end_time": "2021-11-02T19:51:12.659650",
     "exception": false,
     "start_time": "2021-11-02T19:51:12.613496",
     "status": "completed"
    },
    "tags": []
   },
   "source": [
    "### diameter"
   ]
  },
  {
   "cell_type": "markdown",
   "id": "cb47eba4",
   "metadata": {
    "papermill": {
     "duration": 0.045918,
     "end_time": "2021-11-02T19:51:12.752242",
     "exception": false,
     "start_time": "2021-11-02T19:51:12.706324",
     "status": "completed"
    },
    "tags": []
   },
   "source": [
    "**diameter - the diameter of the pizza in inches, similarly with the price - we make it a numerical sign**"
   ]
  },
  {
   "cell_type": "code",
   "execution_count": 10,
   "id": "21d3dc49",
   "metadata": {
    "execution": {
     "iopub.execute_input": "2021-11-02T19:51:12.849677Z",
     "iopub.status.busy": "2021-11-02T19:51:12.848628Z",
     "iopub.status.idle": "2021-11-02T19:51:12.854500Z",
     "shell.execute_reply": "2021-11-02T19:51:12.855110Z",
     "shell.execute_reply.started": "2021-11-02T10:16:24.534219Z"
    },
    "papermill": {
     "duration": 0.055791,
     "end_time": "2021-11-02T19:51:12.855270",
     "exception": false,
     "start_time": "2021-11-02T19:51:12.799479",
     "status": "completed"
    },
    "tags": []
   },
   "outputs": [
    {
     "data": {
      "text/plain": [
       "array(['22 inch', '20 inch', '16 inch', '14 inch', '18 inch', '18.5 inch',\n",
       "       '8 inch', '12 inch', '16.5 inch', '8.5 inch', '17 inch',\n",
       "       '14 inch\\n'], dtype=object)"
      ]
     },
     "execution_count": 10,
     "metadata": {},
     "output_type": "execute_result"
    }
   ],
   "source": [
    "data['diameter'].unique()"
   ]
  },
  {
   "cell_type": "code",
   "execution_count": 11,
   "id": "6659c885",
   "metadata": {
    "execution": {
     "iopub.execute_input": "2021-11-02T19:51:12.952361Z",
     "iopub.status.busy": "2021-11-02T19:51:12.951370Z",
     "iopub.status.idle": "2021-11-02T19:51:12.956911Z",
     "shell.execute_reply": "2021-11-02T19:51:12.957445Z",
     "shell.execute_reply.started": "2021-11-02T10:16:24.548593Z"
    },
    "papermill": {
     "duration": 0.056084,
     "end_time": "2021-11-02T19:51:12.957598",
     "exception": false,
     "start_time": "2021-11-02T19:51:12.901514",
     "status": "completed"
    },
    "tags": []
   },
   "outputs": [],
   "source": [
    "data['diameter'] = data.diameter.str.extract(r'(\\d+[.\\d]*)').astype(float)"
   ]
  },
  {
   "cell_type": "code",
   "execution_count": 12,
   "id": "448f523c",
   "metadata": {
    "execution": {
     "iopub.execute_input": "2021-11-02T19:51:13.054901Z",
     "iopub.status.busy": "2021-11-02T19:51:13.054260Z",
     "iopub.status.idle": "2021-11-02T19:51:13.059171Z",
     "shell.execute_reply": "2021-11-02T19:51:13.059740Z",
     "shell.execute_reply.started": "2021-11-02T10:16:24.558195Z"
    },
    "papermill": {
     "duration": 0.055045,
     "end_time": "2021-11-02T19:51:13.059889",
     "exception": false,
     "start_time": "2021-11-02T19:51:13.004844",
     "status": "completed"
    },
    "tags": []
   },
   "outputs": [
    {
     "data": {
      "text/plain": [
       "array([22. , 20. , 16. , 14. , 18. , 18.5,  8. , 12. , 16.5,  8.5, 17. ])"
      ]
     },
     "execution_count": 12,
     "metadata": {},
     "output_type": "execute_result"
    }
   ],
   "source": [
    "data['diameter'].unique()"
   ]
  },
  {
   "cell_type": "markdown",
   "id": "c88fda05",
   "metadata": {
    "papermill": {
     "duration": 0.046484,
     "end_time": "2021-11-02T19:51:13.153641",
     "exception": false,
     "start_time": "2021-11-02T19:51:13.107157",
     "status": "completed"
    },
    "tags": []
   },
   "source": [
    "### extra_sauce, extra_mushrooms, extra_sauce"
   ]
  },
  {
   "cell_type": "markdown",
   "id": "3c4bc223",
   "metadata": {
    "papermill": {
     "duration": 0.0471,
     "end_time": "2021-11-02T19:51:13.248522",
     "exception": false,
     "start_time": "2021-11-02T19:51:13.201422",
     "status": "completed"
    },
    "tags": []
   },
   "source": [
    "**We change these variables yes|no >>>>  1 | 0**"
   ]
  },
  {
   "cell_type": "code",
   "execution_count": 13,
   "id": "3695a585",
   "metadata": {
    "execution": {
     "iopub.execute_input": "2021-11-02T19:51:13.346918Z",
     "iopub.status.busy": "2021-11-02T19:51:13.346299Z",
     "iopub.status.idle": "2021-11-02T19:51:13.351071Z",
     "shell.execute_reply": "2021-11-02T19:51:13.351622Z",
     "shell.execute_reply.started": "2021-11-02T10:16:24.571273Z"
    },
    "papermill": {
     "duration": 0.055508,
     "end_time": "2021-11-02T19:51:13.351798",
     "exception": false,
     "start_time": "2021-11-02T19:51:13.296290",
     "status": "completed"
    },
    "tags": []
   },
   "outputs": [
    {
     "data": {
      "text/plain": [
       "array(['no', 'yes'], dtype=object)"
      ]
     },
     "execution_count": 13,
     "metadata": {},
     "output_type": "execute_result"
    }
   ],
   "source": [
    "data.extra_mushrooms.unique()"
   ]
  },
  {
   "cell_type": "code",
   "execution_count": 14,
   "id": "4b66f62c",
   "metadata": {
    "execution": {
     "iopub.execute_input": "2021-11-02T19:51:13.450376Z",
     "iopub.status.busy": "2021-11-02T19:51:13.449806Z",
     "iopub.status.idle": "2021-11-02T19:51:13.455165Z",
     "shell.execute_reply": "2021-11-02T19:51:13.455717Z",
     "shell.execute_reply.started": "2021-11-02T10:16:24.58071Z"
    },
    "papermill": {
     "duration": 0.056109,
     "end_time": "2021-11-02T19:51:13.455876",
     "exception": false,
     "start_time": "2021-11-02T19:51:13.399767",
     "status": "completed"
    },
    "tags": []
   },
   "outputs": [],
   "source": [
    "cat = ['extra_sauce', 'extra_cheese', 'extra_mushrooms']\n",
    "labelencoder = LabelEncoder()\n",
    "for i in cat:\n",
    "    data[i] = labelencoder.fit_transform(data[i])"
   ]
  },
  {
   "cell_type": "code",
   "execution_count": 15,
   "id": "86b3eaf7",
   "metadata": {
    "execution": {
     "iopub.execute_input": "2021-11-02T19:51:13.555185Z",
     "iopub.status.busy": "2021-11-02T19:51:13.554522Z",
     "iopub.status.idle": "2021-11-02T19:51:13.559302Z",
     "shell.execute_reply": "2021-11-02T19:51:13.559893Z",
     "shell.execute_reply.started": "2021-11-02T10:16:24.591279Z"
    },
    "papermill": {
     "duration": 0.05575,
     "end_time": "2021-11-02T19:51:13.560047",
     "exception": false,
     "start_time": "2021-11-02T19:51:13.504297",
     "status": "completed"
    },
    "tags": []
   },
   "outputs": [
    {
     "data": {
      "text/plain": [
       "array([0, 1])"
      ]
     },
     "execution_count": 15,
     "metadata": {},
     "output_type": "execute_result"
    }
   ],
   "source": [
    "data.extra_mushrooms.unique()"
   ]
  },
  {
   "cell_type": "markdown",
   "id": "773e2bec",
   "metadata": {
    "papermill": {
     "duration": 0.047379,
     "end_time": "2021-11-02T19:51:13.656931",
     "exception": false,
     "start_time": "2021-11-02T19:51:13.609552",
     "status": "completed"
    },
    "tags": []
   },
   "source": [
    "### topping / variant"
   ]
  },
  {
   "cell_type": "markdown",
   "id": "a10e11e8",
   "metadata": {
    "papermill": {
     "duration": 0.048347,
     "end_time": "2021-11-02T19:51:13.753141",
     "exception": false,
     "start_time": "2021-11-02T19:51:13.704794",
     "status": "completed"
    },
    "tags": []
   },
   "source": [
    "**topping - pizza filler**  \n",
    "**variant - pizza name on the menu**"
   ]
  },
  {
   "cell_type": "code",
   "execution_count": 16,
   "id": "c9966051",
   "metadata": {
    "execution": {
     "iopub.execute_input": "2021-11-02T19:51:13.878289Z",
     "iopub.status.busy": "2021-11-02T19:51:13.877479Z",
     "iopub.status.idle": "2021-11-02T19:51:13.888429Z",
     "shell.execute_reply": "2021-11-02T19:51:13.887830Z",
     "shell.execute_reply.started": "2021-11-02T10:16:24.601961Z"
    },
    "papermill": {
     "duration": 0.075348,
     "end_time": "2021-11-02T19:51:13.888561",
     "exception": false,
     "start_time": "2021-11-02T19:51:13.813213",
     "status": "completed"
    },
    "tags": []
   },
   "outputs": [
    {
     "name": "stdout",
     "output_type": "stream",
     "text": [
      "company A ['chicken', 'papperoni', 'mushrooms', 'smoked_beef', 'mozzarella', 'black_papper']\n",
      "company B ['mozzarella', 'chicken', 'smoked_beef', 'mushrooms']\n",
      "company C ['tuna', 'meat', 'sausage', 'mushrooms', 'onion', 'mozzarella', 'vegetables', 'beef']\n",
      "company D ['mozzarella', 'smoked_beef', 'chicken', 'mushrooms']\n",
      "company E ['mozzarella', 'chicken', 'smoked_beef', 'mushrooms', 'tuna', 'meat']\n"
     ]
    }
   ],
   "source": [
    "for i in data.company.unique():\n",
    "    print('company', i, list(data[data['company'] == i]['topping'].unique()))"
   ]
  },
  {
   "cell_type": "markdown",
   "id": "551cb9e4",
   "metadata": {
    "papermill": {
     "duration": 0.052938,
     "end_time": "2021-11-02T19:51:13.996033",
     "exception": false,
     "start_time": "2021-11-02T19:51:13.943095",
     "status": "completed"
    },
    "tags": []
   },
   "source": [
    "**Unique toppings by company**"
   ]
  },
  {
   "cell_type": "code",
   "execution_count": 17,
   "id": "25ac02df",
   "metadata": {
    "execution": {
     "iopub.execute_input": "2021-11-02T19:51:14.106008Z",
     "iopub.status.busy": "2021-11-02T19:51:14.104970Z",
     "iopub.status.idle": "2021-11-02T19:51:14.131612Z",
     "shell.execute_reply": "2021-11-02T19:51:14.132145Z",
     "shell.execute_reply.started": "2021-11-02T10:16:24.62274Z"
    },
    "papermill": {
     "duration": 0.083403,
     "end_time": "2021-11-02T19:51:14.132321",
     "exception": false,
     "start_time": "2021-11-02T19:51:14.048918",
     "status": "completed"
    },
    "tags": []
   },
   "outputs": [
    {
     "name": "stdout",
     "output_type": "stream",
     "text": [
      "variant double_signature ['chicken' 'papperoni' 'mushrooms' 'smoked_beef' 'mozzarella']\n",
      "\n",
      "variant american_favorite ['black_papper' 'smoked_beef' 'papperoni' 'mushrooms']\n",
      "\n",
      "variant super_supreme ['mozzarella' 'black_papper' 'smoked_beef']\n",
      "\n",
      "variant meat_lovers ['mozzarella' 'smoked_beef' 'chicken' 'mushrooms']\n",
      "\n",
      "variant double_mix ['chicken' 'mushrooms' 'smoked_beef']\n",
      "\n",
      "variant classic ['mozzarella' 'chicken' 'smoked_beef' 'mushrooms']\n",
      "\n",
      "variant crunchy ['mozzarella' 'mushrooms' 'chicken' 'smoked_beef']\n",
      "\n",
      "variant new_york ['chicken' 'mozzarella' 'mushrooms']\n",
      "\n",
      "variant double_decker ['chicken' 'smoked_beef' 'mushrooms']\n",
      "\n",
      "variant spicy_tuna ['tuna']\n",
      "\n",
      "variant BBQ_meat_fiesta ['meat']\n",
      "\n",
      "variant BBQ_sausage ['sausage']\n",
      "\n",
      "variant extravaganza ['mushrooms' 'onion' 'mozzarella']\n",
      "\n",
      "variant meat_eater ['meat']\n",
      "\n",
      "variant gournet_greek ['vegetables']\n",
      "\n",
      "variant italian_veggie ['vegetables']\n",
      "\n",
      "variant thai_veggie ['vegetables']\n",
      "\n",
      "variant american_classic ['beef']\n",
      "\n",
      "variant neptune_tuna ['tuna']\n",
      "\n",
      "variant spicy tuna ['tuna']\n",
      "\n"
     ]
    }
   ],
   "source": [
    "for i in data.variant.unique():\n",
    "    print('variant', i, data[data['variant'] == i]['topping'].unique(), end='\\n\\n')"
   ]
  },
  {
   "cell_type": "code",
   "execution_count": 18,
   "id": "1061d2d6",
   "metadata": {
    "execution": {
     "iopub.execute_input": "2021-11-02T19:51:14.239540Z",
     "iopub.status.busy": "2021-11-02T19:51:14.238520Z",
     "iopub.status.idle": "2021-11-02T19:51:14.240535Z",
     "shell.execute_reply": "2021-11-02T19:51:14.241181Z",
     "shell.execute_reply.started": "2021-11-02T10:16:24.652456Z"
    },
    "papermill": {
     "duration": 0.058573,
     "end_time": "2021-11-02T19:51:14.241343",
     "exception": false,
     "start_time": "2021-11-02T19:51:14.182770",
     "status": "completed"
    },
    "tags": []
   },
   "outputs": [],
   "source": [
    "data['variant'].replace('spicy_tuna', 'spicy tuna', inplace=True)"
   ]
  },
  {
   "cell_type": "markdown",
   "id": "6e237c5f",
   "metadata": {
    "papermill": {
     "duration": 0.048506,
     "end_time": "2021-11-02T19:51:14.339540",
     "exception": false,
     "start_time": "2021-11-02T19:51:14.291034",
     "status": "completed"
    },
    "tags": []
   },
   "source": [
    "**Pizza name and topping options**"
   ]
  },
  {
   "cell_type": "code",
   "execution_count": 19,
   "id": "ea004dd4",
   "metadata": {
    "execution": {
     "iopub.execute_input": "2021-11-02T19:51:14.442374Z",
     "iopub.status.busy": "2021-11-02T19:51:14.441415Z",
     "iopub.status.idle": "2021-11-02T19:51:14.453031Z",
     "shell.execute_reply": "2021-11-02T19:51:14.453614Z",
     "shell.execute_reply.started": "2021-11-02T10:16:24.658931Z"
    },
    "papermill": {
     "duration": 0.064524,
     "end_time": "2021-11-02T19:51:14.453778",
     "exception": false,
     "start_time": "2021-11-02T19:51:14.389254",
     "status": "completed"
    },
    "tags": []
   },
   "outputs": [
    {
     "data": {
      "text/html": [
       "<div>\n",
       "<style scoped>\n",
       "    .dataframe tbody tr th:only-of-type {\n",
       "        vertical-align: middle;\n",
       "    }\n",
       "\n",
       "    .dataframe tbody tr th {\n",
       "        vertical-align: top;\n",
       "    }\n",
       "\n",
       "    .dataframe thead th {\n",
       "        text-align: right;\n",
       "    }\n",
       "</style>\n",
       "<table border=\"1\" class=\"dataframe\">\n",
       "  <thead>\n",
       "    <tr style=\"text-align: right;\">\n",
       "      <th></th>\n",
       "      <th></th>\n",
       "      <th>0</th>\n",
       "    </tr>\n",
       "    <tr>\n",
       "      <th>variant</th>\n",
       "      <th>topping</th>\n",
       "      <th></th>\n",
       "    </tr>\n",
       "  </thead>\n",
       "  <tbody>\n",
       "    <tr>\n",
       "      <th>BBQ_meat_fiesta</th>\n",
       "      <th>meat</th>\n",
       "      <td>3</td>\n",
       "    </tr>\n",
       "    <tr>\n",
       "      <th>BBQ_sausage</th>\n",
       "      <th>sausage</th>\n",
       "      <td>3</td>\n",
       "    </tr>\n",
       "    <tr>\n",
       "      <th>american_classic</th>\n",
       "      <th>beef</th>\n",
       "      <td>3</td>\n",
       "    </tr>\n",
       "    <tr>\n",
       "      <th rowspan=\"3\" valign=\"top\">extravaganza</th>\n",
       "      <th>mozzarella</th>\n",
       "      <td>1</td>\n",
       "    </tr>\n",
       "    <tr>\n",
       "      <th>mushrooms</th>\n",
       "      <td>1</td>\n",
       "    </tr>\n",
       "    <tr>\n",
       "      <th>onion</th>\n",
       "      <td>1</td>\n",
       "    </tr>\n",
       "    <tr>\n",
       "      <th>gournet_greek</th>\n",
       "      <th>vegetables</th>\n",
       "      <td>3</td>\n",
       "    </tr>\n",
       "    <tr>\n",
       "      <th>italian_veggie</th>\n",
       "      <th>vegetables</th>\n",
       "      <td>3</td>\n",
       "    </tr>\n",
       "    <tr>\n",
       "      <th>meat_eater</th>\n",
       "      <th>meat</th>\n",
       "      <td>3</td>\n",
       "    </tr>\n",
       "    <tr>\n",
       "      <th>neptune_tuna</th>\n",
       "      <th>tuna</th>\n",
       "      <td>3</td>\n",
       "    </tr>\n",
       "    <tr>\n",
       "      <th>spicy tuna</th>\n",
       "      <th>tuna</th>\n",
       "      <td>3</td>\n",
       "    </tr>\n",
       "    <tr>\n",
       "      <th>thai_veggie</th>\n",
       "      <th>vegetables</th>\n",
       "      <td>3</td>\n",
       "    </tr>\n",
       "  </tbody>\n",
       "</table>\n",
       "</div>"
      ],
      "text/plain": [
       "                             0\n",
       "variant          topping      \n",
       "BBQ_meat_fiesta  meat        3\n",
       "BBQ_sausage      sausage     3\n",
       "american_classic beef        3\n",
       "extravaganza     mozzarella  1\n",
       "                 mushrooms   1\n",
       "                 onion       1\n",
       "gournet_greek    vegetables  3\n",
       "italian_veggie   vegetables  3\n",
       "meat_eater       meat        3\n",
       "neptune_tuna     tuna        3\n",
       "spicy tuna       tuna        3\n",
       "thai_veggie      vegetables  3"
      ]
     },
     "execution_count": 19,
     "metadata": {},
     "output_type": "execute_result"
    }
   ],
   "source": [
    "pd.DataFrame(data[data['company'] == 'C'].groupby(['variant', 'topping']).size())"
   ]
  },
  {
   "cell_type": "code",
   "execution_count": 20,
   "id": "c81088bb",
   "metadata": {
    "execution": {
     "iopub.execute_input": "2021-11-02T19:51:14.558112Z",
     "iopub.status.busy": "2021-11-02T19:51:14.557139Z",
     "iopub.status.idle": "2021-11-02T19:51:14.573451Z",
     "shell.execute_reply": "2021-11-02T19:51:14.573915Z",
     "shell.execute_reply.started": "2021-11-02T10:16:24.676887Z"
    },
    "papermill": {
     "duration": 0.06817,
     "end_time": "2021-11-02T19:51:14.574086",
     "exception": false,
     "start_time": "2021-11-02T19:51:14.505916",
     "status": "completed"
    },
    "tags": []
   },
   "outputs": [
    {
     "data": {
      "text/html": [
       "<div>\n",
       "<style scoped>\n",
       "    .dataframe tbody tr th:only-of-type {\n",
       "        vertical-align: middle;\n",
       "    }\n",
       "\n",
       "    .dataframe tbody tr th {\n",
       "        vertical-align: top;\n",
       "    }\n",
       "\n",
       "    .dataframe thead th {\n",
       "        text-align: right;\n",
       "    }\n",
       "</style>\n",
       "<table border=\"1\" class=\"dataframe\">\n",
       "  <thead>\n",
       "    <tr style=\"text-align: right;\">\n",
       "      <th></th>\n",
       "      <th></th>\n",
       "      <th>price_rupiah</th>\n",
       "    </tr>\n",
       "    <tr>\n",
       "      <th>topping</th>\n",
       "      <th>variant</th>\n",
       "      <th></th>\n",
       "    </tr>\n",
       "  </thead>\n",
       "  <tbody>\n",
       "    <tr>\n",
       "      <th>beef</th>\n",
       "      <th>american_classic</th>\n",
       "      <td>64.333333</td>\n",
       "    </tr>\n",
       "    <tr>\n",
       "      <th rowspan=\"2\" valign=\"top\">meat</th>\n",
       "      <th>BBQ_meat_fiesta</th>\n",
       "      <td>75.666667</td>\n",
       "    </tr>\n",
       "    <tr>\n",
       "      <th>meat_eater</th>\n",
       "      <td>64.333333</td>\n",
       "    </tr>\n",
       "    <tr>\n",
       "      <th>mozzarella</th>\n",
       "      <th>extravaganza</th>\n",
       "      <td>98.000000</td>\n",
       "    </tr>\n",
       "    <tr>\n",
       "      <th>mushrooms</th>\n",
       "      <th>extravaganza</th>\n",
       "      <td>35.000000</td>\n",
       "    </tr>\n",
       "    <tr>\n",
       "      <th>onion</th>\n",
       "      <th>extravaganza</th>\n",
       "      <td>60.000000</td>\n",
       "    </tr>\n",
       "    <tr>\n",
       "      <th>sausage</th>\n",
       "      <th>BBQ_sausage</th>\n",
       "      <td>70.000000</td>\n",
       "    </tr>\n",
       "    <tr>\n",
       "      <th rowspan=\"2\" valign=\"top\">tuna</th>\n",
       "      <th>neptune_tuna</th>\n",
       "      <td>59.333333</td>\n",
       "    </tr>\n",
       "    <tr>\n",
       "      <th>spicy tuna</th>\n",
       "      <td>70.000000</td>\n",
       "    </tr>\n",
       "    <tr>\n",
       "      <th rowspan=\"3\" valign=\"top\">vegetables</th>\n",
       "      <th>gournet_greek</th>\n",
       "      <td>75.666667</td>\n",
       "    </tr>\n",
       "    <tr>\n",
       "      <th>italian_veggie</th>\n",
       "      <td>54.333333</td>\n",
       "    </tr>\n",
       "    <tr>\n",
       "      <th>thai_veggie</th>\n",
       "      <td>70.000000</td>\n",
       "    </tr>\n",
       "  </tbody>\n",
       "</table>\n",
       "</div>"
      ],
      "text/plain": [
       "                             price_rupiah\n",
       "topping    variant                       \n",
       "beef       american_classic     64.333333\n",
       "meat       BBQ_meat_fiesta      75.666667\n",
       "           meat_eater           64.333333\n",
       "mozzarella extravaganza         98.000000\n",
       "mushrooms  extravaganza         35.000000\n",
       "onion      extravaganza         60.000000\n",
       "sausage    BBQ_sausage          70.000000\n",
       "tuna       neptune_tuna         59.333333\n",
       "           spicy tuna           70.000000\n",
       "vegetables gournet_greek        75.666667\n",
       "           italian_veggie       54.333333\n",
       "           thai_veggie          70.000000"
      ]
     },
     "execution_count": 20,
     "metadata": {},
     "output_type": "execute_result"
    }
   ],
   "source": [
    "pd.DataFrame(data[data['company'] == 'C'].groupby(['topping', 'variant'])[['price_rupiah']].mean())"
   ]
  },
  {
   "cell_type": "code",
   "execution_count": 21,
   "id": "777cf879",
   "metadata": {
    "execution": {
     "iopub.execute_input": "2021-11-02T19:51:14.678955Z",
     "iopub.status.busy": "2021-11-02T19:51:14.678356Z",
     "iopub.status.idle": "2021-11-02T19:51:14.681042Z",
     "shell.execute_reply": "2021-11-02T19:51:14.680511Z",
     "shell.execute_reply.started": "2021-11-02T10:16:24.69966Z"
    },
    "papermill": {
     "duration": 0.057375,
     "end_time": "2021-11-02T19:51:14.681179",
     "exception": false,
     "start_time": "2021-11-02T19:51:14.623804",
     "status": "completed"
    },
    "tags": []
   },
   "outputs": [],
   "source": [
    "data.drop('topping', axis=1, inplace=True)"
   ]
  },
  {
   "cell_type": "markdown",
   "id": "da30935b",
   "metadata": {
    "papermill": {
     "duration": 0.049375,
     "end_time": "2021-11-02T19:51:14.780385",
     "exception": false,
     "start_time": "2021-11-02T19:51:14.731010",
     "status": "completed"
    },
    "tags": []
   },
   "source": [
    "**Some toppings and types of pizzas are highly correlated, for example, tuna and neptune_tuna, spice_tuna, or vegetables and italian_veggie, thai_veggie. In order not to 'feed' 129 pizzas - 32 columns (20 variant and 12 topping using the get_dummies method), let's remove one feature. I suggest leaving variant, since there is more variability in this feature, hence more opportunities for better training of the model.**"
   ]
  },
  {
   "cell_type": "code",
   "execution_count": 22,
   "id": "41c405d5",
   "metadata": {
    "execution": {
     "iopub.execute_input": "2021-11-02T19:51:14.882431Z",
     "iopub.status.busy": "2021-11-02T19:51:14.881742Z",
     "iopub.status.idle": "2021-11-02T19:51:14.893466Z",
     "shell.execute_reply": "2021-11-02T19:51:14.893950Z",
     "shell.execute_reply.started": "2021-11-02T10:16:24.71156Z"
    },
    "papermill": {
     "duration": 0.063991,
     "end_time": "2021-11-02T19:51:14.894131",
     "exception": false,
     "start_time": "2021-11-02T19:51:14.830140",
     "status": "completed"
    },
    "tags": []
   },
   "outputs": [
    {
     "data": {
      "text/html": [
       "<div>\n",
       "<style scoped>\n",
       "    .dataframe tbody tr th:only-of-type {\n",
       "        vertical-align: middle;\n",
       "    }\n",
       "\n",
       "    .dataframe tbody tr th {\n",
       "        vertical-align: top;\n",
       "    }\n",
       "\n",
       "    .dataframe thead th {\n",
       "        text-align: right;\n",
       "    }\n",
       "</style>\n",
       "<table border=\"1\" class=\"dataframe\">\n",
       "  <thead>\n",
       "    <tr style=\"text-align: right;\">\n",
       "      <th></th>\n",
       "      <th>company</th>\n",
       "      <th>price_rupiah</th>\n",
       "      <th>diameter</th>\n",
       "      <th>variant</th>\n",
       "      <th>size</th>\n",
       "      <th>extra_sauce</th>\n",
       "      <th>extra_cheese</th>\n",
       "      <th>extra_mushrooms</th>\n",
       "    </tr>\n",
       "  </thead>\n",
       "  <tbody>\n",
       "    <tr>\n",
       "      <th>0</th>\n",
       "      <td>A</td>\n",
       "      <td>235</td>\n",
       "      <td>22.0</td>\n",
       "      <td>double_signature</td>\n",
       "      <td>jumbo</td>\n",
       "      <td>1</td>\n",
       "      <td>1</td>\n",
       "      <td>0</td>\n",
       "    </tr>\n",
       "    <tr>\n",
       "      <th>1</th>\n",
       "      <td>A</td>\n",
       "      <td>198</td>\n",
       "      <td>20.0</td>\n",
       "      <td>double_signature</td>\n",
       "      <td>jumbo</td>\n",
       "      <td>1</td>\n",
       "      <td>1</td>\n",
       "      <td>0</td>\n",
       "    </tr>\n",
       "    <tr>\n",
       "      <th>2</th>\n",
       "      <td>A</td>\n",
       "      <td>120</td>\n",
       "      <td>16.0</td>\n",
       "      <td>double_signature</td>\n",
       "      <td>reguler</td>\n",
       "      <td>1</td>\n",
       "      <td>1</td>\n",
       "      <td>1</td>\n",
       "    </tr>\n",
       "    <tr>\n",
       "      <th>3</th>\n",
       "      <td>A</td>\n",
       "      <td>155</td>\n",
       "      <td>14.0</td>\n",
       "      <td>double_signature</td>\n",
       "      <td>reguler</td>\n",
       "      <td>1</td>\n",
       "      <td>0</td>\n",
       "      <td>1</td>\n",
       "    </tr>\n",
       "    <tr>\n",
       "      <th>4</th>\n",
       "      <td>A</td>\n",
       "      <td>248</td>\n",
       "      <td>18.0</td>\n",
       "      <td>double_signature</td>\n",
       "      <td>jumbo</td>\n",
       "      <td>1</td>\n",
       "      <td>0</td>\n",
       "      <td>1</td>\n",
       "    </tr>\n",
       "  </tbody>\n",
       "</table>\n",
       "</div>"
      ],
      "text/plain": [
       "  company  price_rupiah  diameter           variant     size  extra_sauce  \\\n",
       "0       A           235      22.0  double_signature    jumbo            1   \n",
       "1       A           198      20.0  double_signature    jumbo            1   \n",
       "2       A           120      16.0  double_signature  reguler            1   \n",
       "3       A           155      14.0  double_signature  reguler            1   \n",
       "4       A           248      18.0  double_signature    jumbo            1   \n",
       "\n",
       "   extra_cheese  extra_mushrooms  \n",
       "0             1                0  \n",
       "1             1                0  \n",
       "2             1                1  \n",
       "3             0                1  \n",
       "4             0                1  "
      ]
     },
     "execution_count": 22,
     "metadata": {},
     "output_type": "execute_result"
    }
   ],
   "source": [
    "data.head()"
   ]
  },
  {
   "cell_type": "markdown",
   "id": "67264494",
   "metadata": {
    "papermill": {
     "duration": 0.051568,
     "end_time": "2021-11-02T19:51:14.996046",
     "exception": false,
     "start_time": "2021-11-02T19:51:14.944478",
     "status": "completed"
    },
    "tags": []
   },
   "source": [
    "### size"
   ]
  },
  {
   "cell_type": "markdown",
   "id": "ccd1186f",
   "metadata": {
    "papermill": {
     "duration": 0.049259,
     "end_time": "2021-11-02T19:51:15.095582",
     "exception": false,
     "start_time": "2021-11-02T19:51:15.046323",
     "status": "completed"
    },
    "tags": []
   },
   "source": [
    "**size - the size of the pizza, which correlates with the diameter. I don't quite understand why it is needed, since there is a detailed variable diameter, which has 12 exact values, when the variable size has 6 values. The values of small, reguler, medium, large, XL, jumbo are approximate, they are different for each company, for example:**\n",
    "**<li>company A - reguler, jumbo**\n",
    "**<li>company B - small, medium, large, XL**  \n"
   ]
  },
  {
   "cell_type": "code",
   "execution_count": 23,
   "id": "38b96531",
   "metadata": {
    "execution": {
     "iopub.execute_input": "2021-11-02T19:51:15.200060Z",
     "iopub.status.busy": "2021-11-02T19:51:15.199122Z",
     "iopub.status.idle": "2021-11-02T19:51:15.204627Z",
     "shell.execute_reply": "2021-11-02T19:51:15.205074Z",
     "shell.execute_reply.started": "2021-11-02T10:16:24.731013Z"
    },
    "papermill": {
     "duration": 0.058952,
     "end_time": "2021-11-02T19:51:15.205242",
     "exception": false,
     "start_time": "2021-11-02T19:51:15.146290",
     "status": "completed"
    },
    "tags": []
   },
   "outputs": [
    {
     "data": {
      "text/plain": [
       "array(['jumbo', 'reguler', 'small', 'medium', 'large', 'XL'], dtype=object)"
      ]
     },
     "execution_count": 23,
     "metadata": {},
     "output_type": "execute_result"
    }
   ],
   "source": [
    "data['size'].unique()"
   ]
  },
  {
   "cell_type": "code",
   "execution_count": 24,
   "id": "9a186eec",
   "metadata": {
    "execution": {
     "iopub.execute_input": "2021-11-02T19:51:15.314985Z",
     "iopub.status.busy": "2021-11-02T19:51:15.311890Z",
     "iopub.status.idle": "2021-11-02T19:51:15.319231Z",
     "shell.execute_reply": "2021-11-02T19:51:15.319857Z",
     "shell.execute_reply.started": "2021-11-02T10:16:24.738212Z"
    },
    "papermill": {
     "duration": 0.064709,
     "end_time": "2021-11-02T19:51:15.320044",
     "exception": false,
     "start_time": "2021-11-02T19:51:15.255335",
     "status": "completed"
    },
    "tags": []
   },
   "outputs": [
    {
     "name": "stdout",
     "output_type": "stream",
     "text": [
      "company A ['jumbo', 'reguler']\n",
      "company B ['small', 'medium', 'large', 'XL']\n",
      "company C ['small', 'medium', 'large']\n",
      "company D ['jumbo', 'reguler', 'small', 'medium', 'large', 'XL']\n",
      "company E ['XL', 'small', 'medium', 'large']\n"
     ]
    }
   ],
   "source": [
    "for i in data.company.unique():\n",
    "    print('company',i, list(data[data['company'] == i]['size'].unique()))"
   ]
  },
  {
   "cell_type": "markdown",
   "id": "fbe1754d",
   "metadata": {
    "papermill": {
     "duration": 0.049295,
     "end_time": "2021-11-02T19:51:15.419196",
     "exception": false,
     "start_time": "2021-11-02T19:51:15.369901",
     "status": "completed"
    },
    "tags": []
   },
   "source": [
    "**List of unique size variables in each company**"
   ]
  },
  {
   "cell_type": "code",
   "execution_count": 25,
   "id": "da20125a",
   "metadata": {
    "execution": {
     "iopub.execute_input": "2021-11-02T19:51:15.525121Z",
     "iopub.status.busy": "2021-11-02T19:51:15.524153Z",
     "iopub.status.idle": "2021-11-02T19:51:15.531630Z",
     "shell.execute_reply": "2021-11-02T19:51:15.532150Z",
     "shell.execute_reply.started": "2021-11-02T10:16:24.754753Z"
    },
    "papermill": {
     "duration": 0.062046,
     "end_time": "2021-11-02T19:51:15.532319",
     "exception": false,
     "start_time": "2021-11-02T19:51:15.470273",
     "status": "completed"
    },
    "tags": []
   },
   "outputs": [
    {
     "data": {
      "text/plain": [
       "array([16. , 14. ,  8. , 12. , 16.5])"
      ]
     },
     "execution_count": 25,
     "metadata": {},
     "output_type": "execute_result"
    }
   ],
   "source": [
    "data[(data['company'] == 'A') & (data['size'] == 'reguler')]['diameter'].unique()"
   ]
  },
  {
   "cell_type": "markdown",
   "id": "1048cf71",
   "metadata": {
    "papermill": {
     "duration": 0.050961,
     "end_time": "2021-11-02T19:51:15.634898",
     "exception": false,
     "start_time": "2021-11-02T19:51:15.583937",
     "status": "completed"
    },
    "tags": []
   },
   "source": [
    "**The spread of the diameter value with size == reguler is from 8 to 16.5**"
   ]
  },
  {
   "cell_type": "code",
   "execution_count": 26,
   "id": "09935ae9",
   "metadata": {
    "execution": {
     "iopub.execute_input": "2021-11-02T19:51:15.740402Z",
     "iopub.status.busy": "2021-11-02T19:51:15.739425Z",
     "iopub.status.idle": "2021-11-02T19:51:15.746228Z",
     "shell.execute_reply": "2021-11-02T19:51:15.746800Z",
     "shell.execute_reply.started": "2021-11-02T10:16:24.764893Z"
    },
    "papermill": {
     "duration": 0.060898,
     "end_time": "2021-11-02T19:51:15.746956",
     "exception": false,
     "start_time": "2021-11-02T19:51:15.686058",
     "status": "completed"
    },
    "tags": []
   },
   "outputs": [
    {
     "data": {
      "text/plain": [
       "array([22. , 20. , 18. , 18.5, 16. ])"
      ]
     },
     "execution_count": 26,
     "metadata": {},
     "output_type": "execute_result"
    }
   ],
   "source": [
    "data[(data['company'] == 'A') & (data['size'] == 'jumbo')]['diameter'].unique()"
   ]
  },
  {
   "cell_type": "markdown",
   "id": "cde25d66",
   "metadata": {
    "papermill": {
     "duration": 0.050649,
     "end_time": "2021-11-02T19:51:15.848857",
     "exception": false,
     "start_time": "2021-11-02T19:51:15.798208",
     "status": "completed"
    },
    "tags": []
   },
   "source": [
    "**The spread of the diameter value with size == reguler is from 16 to 22**"
   ]
  },
  {
   "cell_type": "code",
   "execution_count": 27,
   "id": "b80ae9b0",
   "metadata": {
    "execution": {
     "iopub.execute_input": "2021-11-02T19:51:15.955198Z",
     "iopub.status.busy": "2021-11-02T19:51:15.954567Z",
     "iopub.status.idle": "2021-11-02T19:51:15.960422Z",
     "shell.execute_reply": "2021-11-02T19:51:15.959770Z",
     "shell.execute_reply.started": "2021-11-02T10:16:24.778777Z"
    },
    "papermill": {
     "duration": 0.059389,
     "end_time": "2021-11-02T19:51:15.960554",
     "exception": false,
     "start_time": "2021-11-02T19:51:15.901165",
     "status": "completed"
    },
    "tags": []
   },
   "outputs": [],
   "source": [
    "data.drop('size', axis=1, inplace=True)"
   ]
  },
  {
   "cell_type": "markdown",
   "id": "35f2b9be",
   "metadata": {
    "papermill": {
     "duration": 0.050806,
     "end_time": "2021-11-02T19:51:16.064257",
     "exception": false,
     "start_time": "2021-11-02T19:51:16.013451",
     "status": "completed"
    },
    "tags": []
   },
   "source": [
    "**In both cases, diameter == 16 in both jumbo and reguler, even within the same company A. Therefore, we will delete the size variable so that there is no unnecessary noise in the data.**"
   ]
  },
  {
   "cell_type": "code",
   "execution_count": 28,
   "id": "d43fbcba",
   "metadata": {
    "execution": {
     "iopub.execute_input": "2021-11-02T19:51:16.176627Z",
     "iopub.status.busy": "2021-11-02T19:51:16.176028Z",
     "iopub.status.idle": "2021-11-02T19:51:16.179697Z",
     "shell.execute_reply": "2021-11-02T19:51:16.179174Z",
     "shell.execute_reply.started": "2021-11-02T10:16:24.787401Z"
    },
    "papermill": {
     "duration": 0.064997,
     "end_time": "2021-11-02T19:51:16.179826",
     "exception": false,
     "start_time": "2021-11-02T19:51:16.114829",
     "status": "completed"
    },
    "tags": []
   },
   "outputs": [
    {
     "data": {
      "text/html": [
       "<div>\n",
       "<style scoped>\n",
       "    .dataframe tbody tr th:only-of-type {\n",
       "        vertical-align: middle;\n",
       "    }\n",
       "\n",
       "    .dataframe tbody tr th {\n",
       "        vertical-align: top;\n",
       "    }\n",
       "\n",
       "    .dataframe thead th {\n",
       "        text-align: right;\n",
       "    }\n",
       "</style>\n",
       "<table border=\"1\" class=\"dataframe\">\n",
       "  <thead>\n",
       "    <tr style=\"text-align: right;\">\n",
       "      <th></th>\n",
       "      <th>company</th>\n",
       "      <th>price_rupiah</th>\n",
       "      <th>diameter</th>\n",
       "      <th>variant</th>\n",
       "      <th>extra_sauce</th>\n",
       "      <th>extra_cheese</th>\n",
       "      <th>extra_mushrooms</th>\n",
       "    </tr>\n",
       "  </thead>\n",
       "  <tbody>\n",
       "    <tr>\n",
       "      <th>0</th>\n",
       "      <td>A</td>\n",
       "      <td>235</td>\n",
       "      <td>22.0</td>\n",
       "      <td>double_signature</td>\n",
       "      <td>1</td>\n",
       "      <td>1</td>\n",
       "      <td>0</td>\n",
       "    </tr>\n",
       "    <tr>\n",
       "      <th>1</th>\n",
       "      <td>A</td>\n",
       "      <td>198</td>\n",
       "      <td>20.0</td>\n",
       "      <td>double_signature</td>\n",
       "      <td>1</td>\n",
       "      <td>1</td>\n",
       "      <td>0</td>\n",
       "    </tr>\n",
       "    <tr>\n",
       "      <th>2</th>\n",
       "      <td>A</td>\n",
       "      <td>120</td>\n",
       "      <td>16.0</td>\n",
       "      <td>double_signature</td>\n",
       "      <td>1</td>\n",
       "      <td>1</td>\n",
       "      <td>1</td>\n",
       "    </tr>\n",
       "    <tr>\n",
       "      <th>3</th>\n",
       "      <td>A</td>\n",
       "      <td>155</td>\n",
       "      <td>14.0</td>\n",
       "      <td>double_signature</td>\n",
       "      <td>1</td>\n",
       "      <td>0</td>\n",
       "      <td>1</td>\n",
       "    </tr>\n",
       "    <tr>\n",
       "      <th>4</th>\n",
       "      <td>A</td>\n",
       "      <td>248</td>\n",
       "      <td>18.0</td>\n",
       "      <td>double_signature</td>\n",
       "      <td>1</td>\n",
       "      <td>0</td>\n",
       "      <td>1</td>\n",
       "    </tr>\n",
       "  </tbody>\n",
       "</table>\n",
       "</div>"
      ],
      "text/plain": [
       "  company  price_rupiah  diameter           variant  extra_sauce  \\\n",
       "0       A           235      22.0  double_signature            1   \n",
       "1       A           198      20.0  double_signature            1   \n",
       "2       A           120      16.0  double_signature            1   \n",
       "3       A           155      14.0  double_signature            1   \n",
       "4       A           248      18.0  double_signature            1   \n",
       "\n",
       "   extra_cheese  extra_mushrooms  \n",
       "0             1                0  \n",
       "1             1                0  \n",
       "2             1                1  \n",
       "3             0                1  \n",
       "4             0                1  "
      ]
     },
     "execution_count": 28,
     "metadata": {},
     "output_type": "execute_result"
    }
   ],
   "source": [
    "data.head()"
   ]
  },
  {
   "cell_type": "markdown",
   "id": "c690c03c",
   "metadata": {
    "papermill": {
     "duration": 0.052059,
     "end_time": "2021-11-02T19:51:16.282842",
     "exception": false,
     "start_time": "2021-11-02T19:51:16.230783",
     "status": "completed"
    },
    "tags": []
   },
   "source": [
    "### company"
   ]
  },
  {
   "cell_type": "markdown",
   "id": "a6479dc4",
   "metadata": {
    "papermill": {
     "duration": 0.05207,
     "end_time": "2021-11-02T19:51:16.387434",
     "exception": false,
     "start_time": "2021-11-02T19:51:16.335364",
     "status": "completed"
    },
    "tags": []
   },
   "source": [
    "**company - 5 pizza companies** "
   ]
  },
  {
   "cell_type": "code",
   "execution_count": 29,
   "id": "5dd4501a",
   "metadata": {
    "execution": {
     "iopub.execute_input": "2021-11-02T19:51:16.497833Z",
     "iopub.status.busy": "2021-11-02T19:51:16.497198Z",
     "iopub.status.idle": "2021-11-02T19:51:16.501207Z",
     "shell.execute_reply": "2021-11-02T19:51:16.500637Z",
     "shell.execute_reply.started": "2021-11-02T10:16:24.803356Z"
    },
    "papermill": {
     "duration": 0.061753,
     "end_time": "2021-11-02T19:51:16.501339",
     "exception": false,
     "start_time": "2021-11-02T19:51:16.439586",
     "status": "completed"
    },
    "tags": []
   },
   "outputs": [
    {
     "data": {
      "text/plain": [
       "C    30\n",
       "E    30\n",
       "A    25\n",
       "B    24\n",
       "D    20\n",
       "Name: company, dtype: int64"
      ]
     },
     "execution_count": 29,
     "metadata": {},
     "output_type": "execute_result"
    }
   ],
   "source": [
    "data.company.value_counts()"
   ]
  },
  {
   "cell_type": "markdown",
   "id": "650d8c28",
   "metadata": {
    "papermill": {
     "duration": 0.051864,
     "end_time": "2021-11-02T19:51:16.606019",
     "exception": false,
     "start_time": "2021-11-02T19:51:16.554155",
     "status": "completed"
    },
    "tags": []
   },
   "source": [
    "**How many pizzas are in the table from each company**"
   ]
  },
  {
   "cell_type": "code",
   "execution_count": 30,
   "id": "c12288d5",
   "metadata": {
    "execution": {
     "iopub.execute_input": "2021-11-02T19:51:16.720598Z",
     "iopub.status.busy": "2021-11-02T19:51:16.719632Z",
     "iopub.status.idle": "2021-11-02T19:51:17.000205Z",
     "shell.execute_reply": "2021-11-02T19:51:17.000628Z",
     "shell.execute_reply.started": "2021-11-02T10:16:24.811973Z"
    },
    "papermill": {
     "duration": 0.343748,
     "end_time": "2021-11-02T19:51:17.000868",
     "exception": false,
     "start_time": "2021-11-02T19:51:16.657120",
     "status": "completed"
    },
    "scrolled": true,
    "tags": []
   },
   "outputs": [
    {
     "data": {
      "text/plain": [
       "<AxesSubplot:xlabel='company', ylabel='price_rupiah'>"
      ]
     },
     "execution_count": 30,
     "metadata": {},
     "output_type": "execute_result"
    },
    {
     "data": {
      "image/png": "[encoded data removed]",
      "text/plain": [
       "<Figure size 576x360 with 1 Axes>"
      ]
     },
     "metadata": {
      "needs_background": "light"
     },
     "output_type": "display_data"
    }
   ],
   "source": [
    "plt.figure(figsize=(8,5))\n",
    "sns.boxplot(x='company', y='price_rupiah', data=data)"
   ]
  },
  {
   "cell_type": "markdown",
   "id": "250fa169",
   "metadata": {
    "papermill": {
     "duration": 0.052654,
     "end_time": "2021-11-02T19:51:17.107794",
     "exception": false,
     "start_time": "2021-11-02T19:51:17.055140",
     "status": "completed"
    },
    "tags": []
   },
   "source": [
    "**Let's make a boxplot on the target variable price_rupiah and company, it is clearly visible that the prices are higher in A and D. The average price in company A is above the 75% quantile for 3 out of 4 companies - B, C, E.**"
   ]
  },
  {
   "cell_type": "markdown",
   "id": "5a03d567",
   "metadata": {
    "papermill": {
     "duration": 0.052144,
     "end_time": "2021-11-02T19:51:17.212998",
     "exception": false,
     "start_time": "2021-11-02T19:51:17.160854",
     "status": "completed"
    },
    "tags": []
   },
   "source": [
    "**When preparing the project, I divided the dataset by companies in order to train separately, but only company A and C had a relationship. The data is artificial so much that it turns out to build a model only if we consider all the companies together, in one dataset.**"
   ]
  },
  {
   "cell_type": "code",
   "execution_count": 31,
   "id": "a5456634",
   "metadata": {
    "execution": {
     "iopub.execute_input": "2021-11-02T19:51:17.321546Z",
     "iopub.status.busy": "2021-11-02T19:51:17.320933Z",
     "iopub.status.idle": "2021-11-02T19:51:17.328764Z",
     "shell.execute_reply": "2021-11-02T19:51:17.329350Z",
     "shell.execute_reply.started": "2021-11-02T10:16:25.114675Z"
    },
    "papermill": {
     "duration": 0.064238,
     "end_time": "2021-11-02T19:51:17.329508",
     "exception": false,
     "start_time": "2021-11-02T19:51:17.265270",
     "status": "completed"
    },
    "tags": []
   },
   "outputs": [],
   "source": [
    "data = pd.get_dummies(data)"
   ]
  },
  {
   "cell_type": "markdown",
   "id": "1e533314",
   "metadata": {
    "papermill": {
     "duration": 0.052684,
     "end_time": "2021-11-02T19:51:17.435666",
     "exception": false,
     "start_time": "2021-11-02T19:51:17.382982",
     "status": "completed"
    },
    "tags": []
   },
   "source": [
    "**The values of the company and variant attributes are categorical, so we can't just take and replace them with numbers. Let's split all the values into columns using get_dummies. In this form, it is automatically applied to all non-numeric features (columns).**"
   ]
  },
  {
   "cell_type": "code",
   "execution_count": 32,
   "id": "7c02ff3d",
   "metadata": {
    "execution": {
     "iopub.execute_input": "2021-11-02T19:51:17.543199Z",
     "iopub.status.busy": "2021-11-02T19:51:17.542567Z",
     "iopub.status.idle": "2021-11-02T19:51:17.558520Z",
     "shell.execute_reply": "2021-11-02T19:51:17.559118Z",
     "shell.execute_reply.started": "2021-11-02T10:16:25.126521Z"
    },
    "papermill": {
     "duration": 0.071647,
     "end_time": "2021-11-02T19:51:17.559279",
     "exception": false,
     "start_time": "2021-11-02T19:51:17.487632",
     "status": "completed"
    },
    "scrolled": true,
    "tags": []
   },
   "outputs": [
    {
     "data": {
      "text/html": [
       "<div>\n",
       "<style scoped>\n",
       "    .dataframe tbody tr th:only-of-type {\n",
       "        vertical-align: middle;\n",
       "    }\n",
       "\n",
       "    .dataframe tbody tr th {\n",
       "        vertical-align: top;\n",
       "    }\n",
       "\n",
       "    .dataframe thead th {\n",
       "        text-align: right;\n",
       "    }\n",
       "</style>\n",
       "<table border=\"1\" class=\"dataframe\">\n",
       "  <thead>\n",
       "    <tr style=\"text-align: right;\">\n",
       "      <th></th>\n",
       "      <th>price_rupiah</th>\n",
       "      <th>diameter</th>\n",
       "      <th>extra_sauce</th>\n",
       "      <th>extra_cheese</th>\n",
       "      <th>extra_mushrooms</th>\n",
       "      <th>company_A</th>\n",
       "      <th>company_B</th>\n",
       "      <th>company_C</th>\n",
       "      <th>company_D</th>\n",
       "      <th>company_E</th>\n",
       "      <th>...</th>\n",
       "      <th>variant_extravaganza</th>\n",
       "      <th>variant_gournet_greek</th>\n",
       "      <th>variant_italian_veggie</th>\n",
       "      <th>variant_meat_eater</th>\n",
       "      <th>variant_meat_lovers</th>\n",
       "      <th>variant_neptune_tuna</th>\n",
       "      <th>variant_new_york</th>\n",
       "      <th>variant_spicy tuna</th>\n",
       "      <th>variant_super_supreme</th>\n",
       "      <th>variant_thai_veggie</th>\n",
       "    </tr>\n",
       "  </thead>\n",
       "  <tbody>\n",
       "    <tr>\n",
       "      <th>0</th>\n",
       "      <td>235</td>\n",
       "      <td>22.0</td>\n",
       "      <td>1</td>\n",
       "      <td>1</td>\n",
       "      <td>0</td>\n",
       "      <td>1</td>\n",
       "      <td>0</td>\n",
       "      <td>0</td>\n",
       "      <td>0</td>\n",
       "      <td>0</td>\n",
       "      <td>...</td>\n",
       "      <td>0</td>\n",
       "      <td>0</td>\n",
       "      <td>0</td>\n",
       "      <td>0</td>\n",
       "      <td>0</td>\n",
       "      <td>0</td>\n",
       "      <td>0</td>\n",
       "      <td>0</td>\n",
       "      <td>0</td>\n",
       "      <td>0</td>\n",
       "    </tr>\n",
       "    <tr>\n",
       "      <th>1</th>\n",
       "      <td>198</td>\n",
       "      <td>20.0</td>\n",
       "      <td>1</td>\n",
       "      <td>1</td>\n",
       "      <td>0</td>\n",
       "      <td>1</td>\n",
       "      <td>0</td>\n",
       "      <td>0</td>\n",
       "      <td>0</td>\n",
       "      <td>0</td>\n",
       "      <td>...</td>\n",
       "      <td>0</td>\n",
       "      <td>0</td>\n",
       "      <td>0</td>\n",
       "      <td>0</td>\n",
       "      <td>0</td>\n",
       "      <td>0</td>\n",
       "      <td>0</td>\n",
       "      <td>0</td>\n",
       "      <td>0</td>\n",
       "      <td>0</td>\n",
       "    </tr>\n",
       "    <tr>\n",
       "      <th>2</th>\n",
       "      <td>120</td>\n",
       "      <td>16.0</td>\n",
       "      <td>1</td>\n",
       "      <td>1</td>\n",
       "      <td>1</td>\n",
       "      <td>1</td>\n",
       "      <td>0</td>\n",
       "      <td>0</td>\n",
       "      <td>0</td>\n",
       "      <td>0</td>\n",
       "      <td>...</td>\n",
       "      <td>0</td>\n",
       "      <td>0</td>\n",
       "      <td>0</td>\n",
       "      <td>0</td>\n",
       "      <td>0</td>\n",
       "      <td>0</td>\n",
       "      <td>0</td>\n",
       "      <td>0</td>\n",
       "      <td>0</td>\n",
       "      <td>0</td>\n",
       "    </tr>\n",
       "    <tr>\n",
       "      <th>3</th>\n",
       "      <td>155</td>\n",
       "      <td>14.0</td>\n",
       "      <td>1</td>\n",
       "      <td>0</td>\n",
       "      <td>1</td>\n",
       "      <td>1</td>\n",
       "      <td>0</td>\n",
       "      <td>0</td>\n",
       "      <td>0</td>\n",
       "      <td>0</td>\n",
       "      <td>...</td>\n",
       "      <td>0</td>\n",
       "      <td>0</td>\n",
       "      <td>0</td>\n",
       "      <td>0</td>\n",
       "      <td>0</td>\n",
       "      <td>0</td>\n",
       "      <td>0</td>\n",
       "      <td>0</td>\n",
       "      <td>0</td>\n",
       "      <td>0</td>\n",
       "    </tr>\n",
       "    <tr>\n",
       "      <th>4</th>\n",
       "      <td>248</td>\n",
       "      <td>18.0</td>\n",
       "      <td>1</td>\n",
       "      <td>0</td>\n",
       "      <td>1</td>\n",
       "      <td>1</td>\n",
       "      <td>0</td>\n",
       "      <td>0</td>\n",
       "      <td>0</td>\n",
       "      <td>0</td>\n",
       "      <td>...</td>\n",
       "      <td>0</td>\n",
       "      <td>0</td>\n",
       "      <td>0</td>\n",
       "      <td>0</td>\n",
       "      <td>0</td>\n",
       "      <td>0</td>\n",
       "      <td>0</td>\n",
       "      <td>0</td>\n",
       "      <td>0</td>\n",
       "      <td>0</td>\n",
       "    </tr>\n",
       "  </tbody>\n",
       "</table>\n",
       "<p>5 rows × 29 columns</p>\n",
       "</div>"
      ],
      "text/plain": [
       "   price_rupiah  diameter  extra_sauce  extra_cheese  extra_mushrooms  \\\n",
       "0           235      22.0            1             1                0   \n",
       "1           198      20.0            1             1                0   \n",
       "2           120      16.0            1             1                1   \n",
       "3           155      14.0            1             0                1   \n",
       "4           248      18.0            1             0                1   \n",
       "\n",
       "   company_A  company_B  company_C  company_D  company_E  ...  \\\n",
       "0          1          0          0          0          0  ...   \n",
       "1          1          0          0          0          0  ...   \n",
       "2          1          0          0          0          0  ...   \n",
       "3          1          0          0          0          0  ...   \n",
       "4          1          0          0          0          0  ...   \n",
       "\n",
       "   variant_extravaganza  variant_gournet_greek  variant_italian_veggie  \\\n",
       "0                     0                      0                       0   \n",
       "1                     0                      0                       0   \n",
       "2                     0                      0                       0   \n",
       "3                     0                      0                       0   \n",
       "4                     0                      0                       0   \n",
       "\n",
       "   variant_meat_eater  variant_meat_lovers  variant_neptune_tuna  \\\n",
       "0                   0                    0                     0   \n",
       "1                   0                    0                     0   \n",
       "2                   0                    0                     0   \n",
       "3                   0                    0                     0   \n",
       "4                   0                    0                     0   \n",
       "\n",
       "   variant_new_york  variant_spicy tuna  variant_super_supreme  \\\n",
       "0                 0                   0                      0   \n",
       "1                 0                   0                      0   \n",
       "2                 0                   0                      0   \n",
       "3                 0                   0                      0   \n",
       "4                 0                   0                      0   \n",
       "\n",
       "   variant_thai_veggie  \n",
       "0                    0  \n",
       "1                    0  \n",
       "2                    0  \n",
       "3                    0  \n",
       "4                    0  \n",
       "\n",
       "[5 rows x 29 columns]"
      ]
     },
     "execution_count": 32,
     "metadata": {},
     "output_type": "execute_result"
    }
   ],
   "source": [
    "data.head()"
   ]
  },
  {
   "cell_type": "markdown",
   "id": "84d4ff74",
   "metadata": {
    "papermill": {
     "duration": 0.052763,
     "end_time": "2021-11-02T19:51:17.665312",
     "exception": false,
     "start_time": "2021-11-02T19:51:17.612549",
     "status": "completed"
    },
    "tags": []
   },
   "source": [
    "**<li>129 elements and 29 features**  \n",
    "**<li>We have removed the size and topping signs**  \n",
    "**<li>We applied labelcoder to the extra_safe extra_cheese, extra_mushrooms attributes because they are binary**  \n",
    "**<li>For the price_rupiah and diameter signs, we left only the numbers using .str.extract**  \n",
    "**<li>We applied get_dummies to the company and variant attributes, because these are categorical attributes and they cannot be numbered within a single attribute.**"
   ]
  },
  {
   "cell_type": "markdown",
   "id": "5530d634",
   "metadata": {
    "papermill": {
     "duration": 0.053241,
     "end_time": "2021-11-02T19:51:17.771259",
     "exception": false,
     "start_time": "2021-11-02T19:51:17.718018",
     "status": "completed"
    },
    "tags": []
   },
   "source": [
    "# Training the model"
   ]
  },
  {
   "cell_type": "markdown",
   "id": "e0697cef",
   "metadata": {
    "papermill": {
     "duration": 0.052714,
     "end_time": "2021-11-02T19:51:17.878223",
     "exception": false,
     "start_time": "2021-11-02T19:51:17.825509",
     "status": "completed"
    },
    "tags": []
   },
   "source": [
    "**To begin with, let's build a correlation matrix to see how the features interact with the target feature - price_rupiah**"
   ]
  },
  {
   "cell_type": "code",
   "execution_count": 33,
   "id": "ced2d122",
   "metadata": {
    "execution": {
     "iopub.execute_input": "2021-11-02T19:51:17.988475Z",
     "iopub.status.busy": "2021-11-02T19:51:17.987875Z",
     "iopub.status.idle": "2021-11-02T19:51:17.994363Z",
     "shell.execute_reply": "2021-11-02T19:51:17.994924Z",
     "shell.execute_reply.started": "2021-11-02T10:16:25.148988Z"
    },
    "papermill": {
     "duration": 0.064791,
     "end_time": "2021-11-02T19:51:17.995076",
     "exception": false,
     "start_time": "2021-11-02T19:51:17.930285",
     "status": "completed"
    },
    "tags": []
   },
   "outputs": [
    {
     "data": {
      "text/plain": [
       "price_rupiah                 1.000000\n",
       "diameter                     0.827205\n",
       "variant_double_mix           0.513281\n",
       "company_A                    0.487713\n",
       "variant_double_signature     0.469158\n",
       "variant_classic              0.380626\n",
       "company_C                    0.251273\n",
       "company_E                    0.164350\n",
       "variant_crunchy              0.162258\n",
       "company_B                    0.144527\n",
       "variant_double_decker        0.132404\n",
       "variant_italian_veggie       0.113620\n",
       "company_D                    0.107883\n",
       "variant_neptune_tuna         0.096299\n",
       "variant_spicy tuna           0.084948\n",
       "variant_meat_lovers          0.083747\n",
       "extra_sauce                  0.083477\n",
       "variant_new_york             0.082446\n",
       "variant_meat_eater           0.078978\n",
       "variant_american_classic     0.078978\n",
       "variant_extravaganza         0.078978\n",
       "variant_BBQ_meat_fiesta      0.078135\n",
       "variant_thai_veggie          0.059348\n",
       "variant_BBQ_sausage          0.059348\n",
       "variant_american_favorite    0.058012\n",
       "variant_super_supreme        0.058012\n",
       "variant_gournet_greek        0.039717\n",
       "extra_mushrooms              0.033121\n",
       "extra_cheese                 0.012429\n",
       "Name: price_rupiah, dtype: float64"
      ]
     },
     "execution_count": 33,
     "metadata": {},
     "output_type": "execute_result"
    }
   ],
   "source": [
    "data.corr()['price_rupiah'].abs().sort_values(ascending=False)"
   ]
  },
  {
   "cell_type": "markdown",
   "id": "3affab94",
   "metadata": {
    "papermill": {
     "duration": 0.052458,
     "end_time": "2021-11-02T19:51:18.101008",
     "exception": false,
     "start_time": "2021-11-02T19:51:18.048550",
     "status": "completed"
    },
    "tags": []
   },
   "source": [
    "**Let's take the module and sort it in descending order to see which variables correlate least with the target variable. A large negative correlation is also a correlation.**"
   ]
  },
  {
   "cell_type": "code",
   "execution_count": 34,
   "id": "97025bd6",
   "metadata": {
    "execution": {
     "iopub.execute_input": "2021-11-02T19:51:18.209823Z",
     "iopub.status.busy": "2021-11-02T19:51:18.209218Z",
     "iopub.status.idle": "2021-11-02T19:51:18.217083Z",
     "shell.execute_reply": "2021-11-02T19:51:18.217589Z",
     "shell.execute_reply.started": "2021-11-02T10:16:25.161156Z"
    },
    "papermill": {
     "duration": 0.063653,
     "end_time": "2021-11-02T19:51:18.217765",
     "exception": false,
     "start_time": "2021-11-02T19:51:18.154112",
     "status": "completed"
    },
    "scrolled": true,
    "tags": []
   },
   "outputs": [
    {
     "data": {
      "text/plain": [
       "Index(['price_rupiah', 'diameter', 'variant_double_mix', 'company_A',\n",
       "       'variant_double_signature', 'variant_classic', 'company_C', 'company_E',\n",
       "       'variant_crunchy', 'company_B', 'variant_double_decker',\n",
       "       'variant_italian_veggie', 'company_D', 'variant_neptune_tuna',\n",
       "       'variant_spicy tuna', 'variant_meat_lovers', 'extra_sauce',\n",
       "       'variant_new_york', 'variant_meat_eater', 'variant_american_classic',\n",
       "       'variant_extravaganza', 'variant_BBQ_meat_fiesta',\n",
       "       'variant_thai_veggie', 'variant_BBQ_sausage',\n",
       "       'variant_american_favorite', 'variant_super_supreme',\n",
       "       'variant_gournet_greek', 'extra_mushrooms', 'extra_cheese'],\n",
       "      dtype='object')"
      ]
     },
     "execution_count": 34,
     "metadata": {},
     "output_type": "execute_result"
    }
   ],
   "source": [
    "pd.DataFrame(data.corr()['price_rupiah'].abs().sort_values(ascending=False)).T.columns"
   ]
  },
  {
   "cell_type": "markdown",
   "id": "8cfb6377",
   "metadata": {
    "papermill": {
     "duration": 0.054714,
     "end_time": "2021-11-02T19:51:18.327202",
     "exception": false,
     "start_time": "2021-11-02T19:51:18.272488",
     "status": "completed"
    },
    "tags": []
   },
   "source": [
    "**Transpose the dataframe so that our signs become columns and output a list of them. This is so that it is convenient to copy and delete columns before training. But we will leave everything.**"
   ]
  },
  {
   "cell_type": "code",
   "execution_count": 35,
   "id": "f7382b7a",
   "metadata": {
    "execution": {
     "iopub.execute_input": "2021-11-02T19:51:18.438427Z",
     "iopub.status.busy": "2021-11-02T19:51:18.437815Z",
     "iopub.status.idle": "2021-11-02T19:51:18.471002Z",
     "shell.execute_reply": "2021-11-02T19:51:18.471627Z",
     "shell.execute_reply.started": "2021-11-02T10:16:25.171526Z"
    },
    "papermill": {
     "duration": 0.089933,
     "end_time": "2021-11-02T19:51:18.471817",
     "exception": false,
     "start_time": "2021-11-02T19:51:18.381884",
     "status": "completed"
    },
    "tags": []
   },
   "outputs": [
    {
     "name": "stdout",
     "output_type": "stream",
     "text": [
      "                            OLS Regression Results                            \n",
      "==============================================================================\n",
      "Dep. Variable:           price_rupiah   R-squared:                       0.901\n",
      "Model:                            OLS   Adj. R-squared:                  0.876\n",
      "Method:                 Least Squares   F-statistic:                     35.76\n",
      "Date:                Tue, 02 Nov 2021   Prob (F-statistic):           4.39e-40\n",
      "Time:                        19:51:18   Log-Likelihood:                -523.53\n",
      "No. Observations:                 129   AIC:                             1101.\n",
      "Df Residuals:                     102   BIC:                             1178.\n",
      "Df Model:                          26                                         \n",
      "Covariance Type:            nonrobust                                         \n",
      "=============================================================================================\n",
      "                                coef    std err          t      P>|t|      [0.025      0.975]\n",
      "---------------------------------------------------------------------------------------------\n",
      "diameter                      8.9101      0.606     14.695      0.000       7.707      10.113\n",
      "extra_sauce                   4.4552      4.084      1.091      0.278      -3.646      12.557\n",
      "extra_cheese                  0.4021      3.849      0.104      0.917      -7.232       8.036\n",
      "extra_mushrooms               1.1507      3.271      0.352      0.726      -5.338       7.639\n",
      "company_A                   -27.6412     10.947     -2.525      0.013     -49.354      -5.929\n",
      "company_B                   -23.9866      9.411     -2.549      0.012     -42.652      -5.321\n",
      "company_C                   -21.9612      9.946     -2.208      0.029     -41.689      -2.233\n",
      "company_D                   -27.2960      9.247     -2.952      0.004     -45.638      -8.954\n",
      "company_E                   -23.3701      8.903     -2.625      0.010     -41.028      -5.712\n",
      "variant_BBQ_meat_fiesta      -9.2805      7.987     -1.162      0.248     -25.124       6.563\n",
      "variant_BBQ_sausage         -12.7762     10.882     -1.174      0.243     -34.361       8.808\n",
      "variant_american_classic    -21.7780     11.334     -1.921      0.057     -44.259       0.703\n",
      "variant_american_favorite     7.2442     10.730      0.675      0.501     -14.039      28.528\n",
      "variant_classic             -25.8938      5.783     -4.477      0.000     -37.365     -14.422\n",
      "variant_crunchy             -21.2113      6.995     -3.032      0.003     -35.086      -7.337\n",
      "variant_double_decker        23.0210      7.110      3.238      0.002       8.918      37.123\n",
      "variant_double_mix           31.9240      9.804      3.256      0.002      12.479      51.369\n",
      "variant_double_signature     53.0717     12.138      4.372      0.000      28.996      77.147\n",
      "variant_extravaganza        -21.4130     11.173     -1.917      0.058     -43.574       0.748\n",
      "variant_gournet_greek        -4.8388     11.303     -0.428      0.669     -27.259      17.581\n",
      "variant_italian_veggie      -28.0593     10.916     -2.570      0.012     -49.711      -6.407\n",
      "variant_meat_eater          -21.7965     11.274     -1.933      0.056     -44.158       0.564\n",
      "variant_meat_lovers           5.3131      8.517      0.624      0.534     -11.581      22.207\n",
      "variant_neptune_tuna        -26.2789     10.974     -2.395      0.018     -48.046      -4.512\n",
      "variant_new_york            -29.4513      7.998     -3.682      0.000     -45.315     -13.588\n",
      "variant_spicy tuna          -15.8090      7.979     -1.981      0.050     -31.635       0.017\n",
      "variant_super_supreme         7.0325     11.046      0.637      0.526     -14.877      28.942\n",
      "variant_thai_veggie         -13.2753     11.078     -1.198      0.234     -35.249       8.698\n",
      "==============================================================================\n",
      "Omnibus:                       21.264   Durbin-Watson:                   1.546\n",
      "Prob(Omnibus):                  0.000   Jarque-Bera (JB):               56.296\n",
      "Skew:                           0.576   Prob(JB):                     5.96e-13\n",
      "Kurtosis:                       6.024   Cond. No.                     1.85e+17\n",
      "==============================================================================\n",
      "\n",
      "Notes:\n",
      "[1] Standard Errors assume that the covariance matrix of the errors is correctly specified.\n",
      "[2] The smallest eigenvalue is 6.77e-31. This might indicate that there are\n",
      "strong multicollinearity problems or that the design matrix is singular.\n"
     ]
    }
   ],
   "source": [
    "X = data.drop(['price_rupiah'], axis=1)\n",
    "y = data.price_rupiah\n",
    "print(sm.OLS(y,X).fit().summary())"
   ]
  },
  {
   "cell_type": "markdown",
   "id": "dd3f28e0",
   "metadata": {
    "papermill": {
     "duration": 0.054232,
     "end_time": "2021-11-02T19:51:18.580975",
     "exception": false,
     "start_time": "2021-11-02T19:51:18.526743",
     "status": "completed"
    },
    "tags": []
   },
   "source": [
    "**Regression analysis using sm.OLD.**  \n",
    "  \n",
    "**<li> R-squared: 0.901 - shows how much our model explains the dependent variable - price_rupiah.**  \n",
    "      \n",
    "**<li> Adj. R-squared: 0.876 - adjusted R-squared. In simple words, this is the same indicator, but with a penalty for a large number of features in our model.**  \n",
    "      \n",
    "**<li> AIC and BIC are the Akaic criterion and the Schwartz criterion. Our model is penalized for a large amount of balances and a large number of regressors (signs). The lower the values of the criteria, the better.**  \n",
    "      \n",
    "**<li> The 'coef' attribute shows the coefficient of change of the price_rupiah variable. For example, increasing diameter by 1 would result in an increase in price_rupiah by 8.9101.**  \n",
    "      \n",
    "**<li> t and P>|t| shows the significance of the attribute for predicting the target variable price_rupiah. The more the first criterion is different from 0, the better for our model, the more the second criterion tends to 1, the worse for our model.**"
   ]
  },
  {
   "cell_type": "code",
   "execution_count": 36,
   "id": "63be203c",
   "metadata": {
    "execution": {
     "iopub.execute_input": "2021-11-02T19:51:18.704865Z",
     "iopub.status.busy": "2021-11-02T19:51:18.704220Z",
     "iopub.status.idle": "2021-11-02T19:51:18.705519Z",
     "shell.execute_reply": "2021-11-02T19:51:18.706045Z",
     "shell.execute_reply.started": "2021-11-02T10:16:25.209643Z"
    },
    "papermill": {
     "duration": 0.07025,
     "end_time": "2021-11-02T19:51:18.706212",
     "exception": false,
     "start_time": "2021-11-02T19:51:18.635962",
     "status": "completed"
    },
    "tags": []
   },
   "outputs": [],
   "source": [
    "def model_training(X, y):\n",
    "    X_train, X_test, Y_train, Y_test = train_test_split(X, y, test_size=0.25, random_state=42)\n",
    "    models = []\n",
    "    models.append(('LR', LinearRegression()))\n",
    "    models.append(('R', Ridge()))\n",
    "    models.append(('L', Lasso()))\n",
    "    models.append(('BR', BayesianRidge(n_iter=1000)))\n",
    "    models.append(('KNR', KNeighborsRegressor()))\n",
    "    models.append(('DTR', DecisionTreeRegressor()))\n",
    "    models.append(('SVR', SVR()))\n",
    "    models.append(('ABR', AdaBoostRegressor(n_estimators=100)))\n",
    "    models.append(('BR', BaggingRegressor(n_estimators=100)))\n",
    "    models.append(('ETR', ExtraTreesRegressor(n_estimators=100)))\n",
    "    models.append(('GBR', GradientBoostingRegressor(n_estimators=100)))\n",
    "    models.append(('RFR', RandomForestRegressor(n_estimators=100)))\n",
    "    scores = []\n",
    "    names = []\n",
    "    results = []\n",
    "    predictions = []\n",
    "    msg_row = []\n",
    "    for name, model in models:\n",
    "        kfold = KFold(n_splits=5)\n",
    "        cv_results = cross_val_score(model, X_train, Y_train, cv=kfold, scoring='r2')\n",
    "        names.append(name)\n",
    "        results.append(cv_results)\n",
    "        m_fit = model.fit(X_train, Y_train)\n",
    "        m_predict = model.predict(X_test)\n",
    "        predictions.append(m_predict)\n",
    "        m_score = r2_score(Y_test, m_predict)\n",
    "        scores.append(m_score)\n",
    "        msg = \"%s: train = %.3f (%.3f) / test = %.3f\" % (name, cv_results.mean(), cv_results.std(), m_score)\n",
    "        msg_row.append(msg)\n",
    "        print(msg)"
   ]
  },
  {
   "cell_type": "code",
   "execution_count": 37,
   "id": "f703ecd6",
   "metadata": {
    "execution": {
     "iopub.execute_input": "2021-11-02T19:51:18.819401Z",
     "iopub.status.busy": "2021-11-02T19:51:18.818454Z",
     "iopub.status.idle": "2021-11-02T19:51:23.491729Z",
     "shell.execute_reply": "2021-11-02T19:51:23.491052Z",
     "shell.execute_reply.started": "2021-11-02T10:16:25.222632Z"
    },
    "papermill": {
     "duration": 4.73096,
     "end_time": "2021-11-02T19:51:23.491925",
     "exception": false,
     "start_time": "2021-11-02T19:51:18.760965",
     "status": "completed"
    },
    "tags": []
   },
   "outputs": [
    {
     "name": "stdout",
     "output_type": "stream",
     "text": [
      "LR: train = 0.779 (0.080) / test = 0.869\n",
      "R: train = 0.796 (0.094) / test = 0.854\n",
      "L: train = 0.758 (0.133) / test = 0.777\n",
      "BR: train = 0.797 (0.099) / test = 0.846\n",
      "KNR: train = 0.742 (0.161) / test = 0.800\n",
      "DTR: train = 0.745 (0.102) / test = 0.895\n",
      "SVR: train = 0.066 (0.110) / test = 0.107\n",
      "ABR: train = 0.808 (0.064) / test = 0.851\n",
      "BR: train = 0.821 (0.051) / test = 0.876\n",
      "ETR: train = 0.774 (0.044) / test = 0.853\n",
      "GBR: train = 0.835 (0.059) / test = 0.941\n",
      "RFR: train = 0.812 (0.056) / test = 0.878\n"
     ]
    }
   ],
   "source": [
    "model_training(X, y)"
   ]
  },
  {
   "cell_type": "markdown",
   "id": "bbdb729a",
   "metadata": {
    "papermill": {
     "duration": 0.055912,
     "end_time": "2021-11-02T19:51:23.606145",
     "exception": false,
     "start_time": "2021-11-02T19:51:23.550233",
     "status": "completed"
    },
    "tags": []
   },
   "source": [
    "**Best result: GradientBoostingRegressor: R2 score - 0.94**"
   ]
  }
 ],
 "metadata": {
  "kernelspec": {
   "display_name": "Python 3",
   "language": "python",
   "name": "python3"
  },
  "language_info": {
   "codemirror_mode": {
    "name": "ipython",
    "version": 3
   },
   "file_extension": ".py",
   "mimetype": "text/x-python",
   "name": "python",
   "nbconvert_exporter": "python",
   "pygments_lexer": "ipython3",
   "version": "3.7.10"
  },
  "papermill": {
   "default_parameters": {},
   "duration": 23.985865,
   "end_time": "2021-11-02T19:51:24.372129",
   "environment_variables": {},
   "exception": null,
   "input_path": "__notebook__.ipynb",
   "output_path": "__notebook__.ipynb",
   "parameters": {},
   "start_time": "2021-11-02T19:51:00.386264",
   "version": "2.3.3"
  }
 },
 "nbformat": 4,
 "nbformat_minor": 5
}
